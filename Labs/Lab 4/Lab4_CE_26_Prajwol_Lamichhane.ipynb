{
 "cells": [
  {
   "cell_type": "markdown",
   "metadata": {},
   "source": [
    "# "
   ]
  },
  {
   "cell_type": "markdown",
   "metadata": {},
   "source": [
    "## 4.1 Back to the Basics"
   ]
  },
  {
   "cell_type": "code",
   "execution_count": 5,
   "metadata": {},
   "outputs": [
    {
     "name": "stdout",
     "output_type": "stream",
     "text": [
      "Monty\n"
     ]
    }
   ],
   "source": [
    "foo = 'Monty'\n",
    "bar = foo\n",
    "foo = 'Python'\n",
    "print (bar)"
   ]
  },
  {
   "cell_type": "code",
   "execution_count": 6,
   "metadata": {},
   "outputs": [
    {
     "name": "stdout",
     "output_type": "stream",
     "text": [
      "['Monty', 'Bodkin']\n"
     ]
    }
   ],
   "source": [
    "foo = ['Monty', 'Python']\n",
    "bar = foo\n",
    "foo[1] = 'Bodkin'\n",
    "print (bar)"
   ]
  },
  {
   "cell_type": "code",
   "execution_count": 7,
   "metadata": {},
   "outputs": [
    {
     "name": "stdout",
     "output_type": "stream",
     "text": [
      "[[], [], []]\n",
      "[['Python'], ['Python'], ['Python']]\n"
     ]
    }
   ],
   "source": [
    "empty = []\n",
    "nested = [empty, empty, empty]\n",
    "print (nested)\n",
    "\n",
    "nested[1].append('Python')\n",
    "print (nested)"
   ]
  },
  {
   "cell_type": "code",
   "execution_count": 9,
   "metadata": {},
   "outputs": [
    {
     "name": "stdout",
     "output_type": "stream",
     "text": [
      "139754613079688\n",
      "139754613079688\n",
      "139754613079688\n"
     ]
    }
   ],
   "source": [
    "nested = [[]] *3\n",
    "\n",
    "print (id(nested[0]))\n",
    "print(id(nested[1]))\n",
    "print(id(nested[2]))"
   ]
  },
  {
   "cell_type": "code",
   "execution_count": 10,
   "metadata": {},
   "outputs": [
    {
     "name": "stdout",
     "output_type": "stream",
     "text": [
      "[['Python'], ['Monty'], ['Python']]\n"
     ]
    }
   ],
   "source": [
    "nested = [[]] * 3\n",
    "nested[1].append('Python')\n",
    "nested[1] = ['Monty']\n",
    "print (nested)"
   ]
  },
  {
   "cell_type": "markdown",
   "metadata": {},
   "source": [
    "### Equality"
   ]
  },
  {
   "cell_type": "code",
   "execution_count": 13,
   "metadata": {},
   "outputs": [
    {
     "name": "stdout",
     "output_type": "stream",
     "text": [
      "True\n",
      "True\n"
     ]
    }
   ],
   "source": [
    "size = 5\n",
    "python = ['Python']\n",
    "snake_nest = [python] * size\n",
    "\n",
    "print (snake_nest[0] == snake_nest[1] == snake_nest[2] == snake_nest[3] == snake_nest[4])\n",
    "\n",
    "print (snake_nest[0] is snake_nest[1] is snake_nest[2] is snake_nest[3] is snake_nest[4])"
   ]
  },
  {
   "cell_type": "code",
   "execution_count": 15,
   "metadata": {},
   "outputs": [
    {
     "name": "stdout",
     "output_type": "stream",
     "text": [
      "[['Python'], ['Python'], ['Python'], ['Python'], ['Python']]\n",
      "True\n",
      "False\n"
     ]
    }
   ],
   "source": [
    "import random\n",
    "position = random.choice(range(size))\n",
    "snake_nest[position] = ['Python']\n",
    "print(snake_nest)\n",
    "print (snake_nest[0] == snake_nest[1] == snake_nest[2] == snake_nest[3] == snake_nest[4])\n",
    "\n",
    "print (snake_nest[0] is snake_nest[1] is snake_nest[2] is snake_nest[3] is snake_nest[4])"
   ]
  },
  {
   "cell_type": "markdown",
   "metadata": {},
   "source": [
    "### Conditionals"
   ]
  },
  {
   "cell_type": "code",
   "execution_count": 16,
   "metadata": {},
   "outputs": [
    {
     "name": "stdout",
     "output_type": "stream",
     "text": [
      "cat\n",
      "['dog']\n"
     ]
    }
   ],
   "source": [
    "mixed = ['cat', '', ['dog'], []]\n",
    "\n",
    "for element in mixed:\n",
    "    if element:\n",
    "        print (element)"
   ]
  },
  {
   "cell_type": "code",
   "execution_count": 18,
   "metadata": {},
   "outputs": [
    {
     "name": "stdout",
     "output_type": "stream",
     "text": [
      "1\n"
     ]
    }
   ],
   "source": [
    "animals = ['cat', 'dog']\n",
    "# using if...elif\n",
    "if 'cat' in animals:\n",
    "    print (1)\n",
    "elif 'dog' in animals:\n",
    "    print (2)"
   ]
  },
  {
   "cell_type": "code",
   "execution_count": 19,
   "metadata": {},
   "outputs": [
    {
     "name": "stdout",
     "output_type": "stream",
     "text": [
      "False\n",
      "True\n"
     ]
    }
   ],
   "source": [
    "sent = ['No', 'good', 'fish', 'goes', 'anywhere', 'without', 'a', 'porpoise', '.']\n",
    "\n",
    "# functions all() and any() can be applied to a list (or other sequence) to check whether all or any items meet some condition\n",
    "print ( all(len(w) > 4 for w in sent))\n",
    "print ( any(len(w) > 4 for w in sent))"
   ]
  },
  {
   "cell_type": "markdown",
   "metadata": {},
   "source": [
    "## 4.2 Sequences"
   ]
  },
  {
   "cell_type": "code",
   "execution_count": 20,
   "metadata": {},
   "outputs": [
    {
     "name": "stdout",
     "output_type": "stream",
     "text": [
      "('walk', 'fem', 3)\n",
      "walk\n",
      "('fem', 3)\n",
      "3\n"
     ]
    }
   ],
   "source": [
    "#Tuples are formed with the comma operator\n",
    "t = 'walk', 'fem', 3\n",
    "print ( t)\n",
    "\n",
    "#tuples can be indexed and sliced , and have a length\n",
    "print ( t[0])\n",
    "\n",
    "print ( t[1:])\n",
    "\n",
    "print ( len(t))"
   ]
  },
  {
   "cell_type": "code",
   "execution_count": 21,
   "metadata": {},
   "outputs": [
    {
     "name": "stdout",
     "output_type": "stream",
     "text": [
      "t the turned\n",
      "ute ['off', 'the', 'spectroroute'] (6, 'turned')\n"
     ]
    }
   ],
   "source": [
    "# compare strings, lists, and tuples\n",
    "raw = 'I turned off the spectroroute'\n",
    "text = ['I', 'turned', 'off', 'the', 'spectroroute']\n",
    "pair = (6, 'turned')\n",
    "\n",
    "print ( raw[2], text[3], pair[1])\n",
    "\n",
    "print ( raw[-3:], text[-3:], pair[-3:])"
   ]
  },
  {
   "cell_type": "markdown",
   "metadata": {},
   "source": [
    "### Operating on Sequence Types"
   ]
  },
  {
   "cell_type": "code",
   "execution_count": 22,
   "metadata": {},
   "outputs": [
    {
     "name": "stdout",
     "output_type": "stream",
     "text": [
      "['Red', 'lorry', ',', 'yellow', 'red', '.']\n",
      "1\n",
      "4\n",
      "3\n",
      "2\n",
      "1\n",
      "1\n"
     ]
    }
   ],
   "source": [
    "import nltk\n",
    "\n",
    "raw = 'Red lorry, yellow lorry, red lorry, yellow lorry.'\n",
    "text = nltk.word_tokenize(raw)\n",
    "fdist = nltk.FreqDist(text)\n",
    "\n",
    "print ( list(fdist))\n",
    "\n",
    "for key in fdist:\n",
    "    print (fdist[key])"
   ]
  },
  {
   "cell_type": "code",
   "execution_count": 23,
   "metadata": {},
   "outputs": [
    {
     "name": "stdout",
     "output_type": "stream",
     "text": [
      "['I', 'turned', 'the', 'spectroroute', 'off']\n"
     ]
    }
   ],
   "source": [
    "# compare strings, lists, and tuples\n",
    "words = ['I', 'turned', 'off', 'the', 'spectroroute']\n",
    "\n",
    "words[2], words[3], words[4] = words[3], words[4], words[2]\n",
    "print (words)"
   ]
  },
  {
   "cell_type": "code",
   "execution_count": 24,
   "metadata": {},
   "outputs": [],
   "source": [
    "tmp = words[2]\n",
    "words[2] = words[3]\n",
    "words[3] = words[4]\n",
    "words[4] = tmp"
   ]
  },
  {
   "cell_type": "code",
   "execution_count": 25,
   "metadata": {},
   "outputs": [
    {
     "data": {
      "text/plain": [
       "[(0, 'I'), (1, 'turned'), (2, 'off'), (3, 'the'), (4, 'spectroroute')]"
      ]
     },
     "execution_count": 25,
     "metadata": {},
     "output_type": "execute_result"
    }
   ],
   "source": [
    "words = ['I', 'turned', 'off', 'the', 'spectroroute']\n",
    "tags = ['noun', 'verb', 'prep', 'det', 'noun']\n",
    "zip(words, tags)\n",
    "\n",
    "list(enumerate(words))"
   ]
  },
  {
   "cell_type": "code",
   "execution_count": 26,
   "metadata": {},
   "outputs": [
    {
     "name": "stdout",
     "output_type": "stream",
     "text": [
      "True\n",
      "9.0\n"
     ]
    }
   ],
   "source": [
    "text = nltk.corpus.nps_chat.words()\n",
    "# we decide the location where we want to cut the data\n",
    "cut = int(0.9 * len(text))\n",
    "training_data, test_data = text[:cut], text[cut:] # cut the sequence at that location\n",
    "\n",
    "# can verify that none of the original data is lost during this process, nor is it duplicated\n",
    "print (text == training_data + test_data)\n",
    "\n",
    "# that the ratio of the sizes of the two pieces is what we intended\n",
    "print (len(training_data) / len(test_data))"
   ]
  },
  {
   "cell_type": "markdown",
   "metadata": {},
   "source": [
    "### Combining Different Sequence Types"
   ]
  },
  {
   "cell_type": "code",
   "execution_count": 27,
   "metadata": {},
   "outputs": [
    {
     "name": "stdout",
     "output_type": "stream",
     "text": [
      "None\n",
      "I off the turned spectroroute\n"
     ]
    }
   ],
   "source": [
    "# string to list\n",
    "words = 'I turned off the spectroroute'.split()\n",
    "# use a list comprehension to build a list of tuples\n",
    "wordlens = [(len(word), word) for word in words]\n",
    "\n",
    "# to sort the list in place\n",
    "print (wordlens.sort())\n",
    "# join the words back into a single string\n",
    "print (' '.join(w for (_, w) in wordlens))"
   ]
  },
  {
   "cell_type": "code",
   "execution_count": 28,
   "metadata": {},
   "outputs": [
    {
     "name": "stdout",
     "output_type": "stream",
     "text": [
      "None\n"
     ]
    }
   ],
   "source": [
    "lexicon = [\n",
    "            ('the', 'det', ['Di:', 'D@']),\n",
    "            ('off', 'prep', ['Qf', 'O:f'])\n",
    "            ]\n",
    "\n",
    "print (lexicon.sort())\n",
    "\n",
    "lexicon[1] = ('turned', 'VBD', ['t3:nd', 't3`nd'])\n",
    "del lexicon[0]"
   ]
  },
  {
   "cell_type": "code",
   "execution_count": 29,
   "metadata": {},
   "outputs": [
    {
     "name": "stdout",
     "output_type": "stream",
     "text": [
      "(('turned', 'VBD', ['t3:nd', 't3`nd']),)\n"
     ]
    }
   ],
   "source": [
    "#your turn\n",
    "print( tuple(lexicon))"
   ]
  },
  {
   "cell_type": "markdown",
   "metadata": {},
   "source": [
    "### Generator Expressions"
   ]
  },
  {
   "cell_type": "code",
   "execution_count": 30,
   "metadata": {},
   "outputs": [
    {
     "name": "stdout",
     "output_type": "stream",
     "text": [
      "['``', 'when', 'i', 'use', 'a', 'word', ',', \"''\", 'humpty', 'dumpty', 'said', 'in', 'rather', 'a', 'scornful', 'tone', ',', '``', 'it', 'means', 'just', 'what', 'i', 'choose', 'it', 'to', 'mean', '-', 'neither', 'more', 'nor', 'less', '.', \"''\"]\n"
     ]
    }
   ],
   "source": [
    "text = '''\"When I use a word,\" Humpty Dumpty said in rather a scornful tone, \n",
    "        \"it means just what I choose it to mean - neither more nor less.\"'''\n",
    "\n",
    "print ([w.lower() for w in nltk.word_tokenize(text)])"
   ]
  },
  {
   "cell_type": "code",
   "execution_count": 31,
   "metadata": {},
   "outputs": [
    {
     "name": "stdout",
     "output_type": "stream",
     "text": [
      "word\n",
      "word\n"
     ]
    }
   ],
   "source": [
    "# by inserting the preceding expression inside a call to some other function\n",
    "print (max([w.lower() for w in nltk.word_tokenize(text)]))\n",
    "# Python allows us to omit the brackets\n",
    "print (max(w.lower() for w in nltk.word_tokenize(text)))"
   ]
  },
  {
   "cell_type": "markdown",
   "metadata": {},
   "source": [
    "## 4.3 Questions of Style"
   ]
  },
  {
   "cell_type": "markdown",
   "metadata": {},
   "source": [
    "### Python Coding Style"
   ]
  },
  {
   "cell_type": "code",
   "execution_count": 34,
   "metadata": {},
   "outputs": [],
   "source": [
    "import re\n",
    "from nltk.corpus import brown\n",
    "rotokas_words = nltk.corpus.toolbox.words('rotokas.dic') \n",
    "cv_word_pairs = [(cv, w) for w in rotokas_words\n",
    "                 for cv in re.findall('[ptksvr][aeiou]', w)]\n",
    "\n",
    "cfd = nltk.ConditionalFreqDist(\n",
    "        (genre, word)\n",
    "        for genre in brown.categories()\n",
    "        for word in brown.words(categories=genre))\n",
    "\n",
    "ha_words = ['aaahhhh', 'ah', 'ahah', 'ahahah', 'ahh', 'ahhahahaha', 'ahhh', 'ahhhh', 'ahhhhhh', 'ahhhhhhhhhhhhhh', 'ha',\n",
    "            'haaa', 'hah', 'haha', 'hahaaa', 'hahah', 'hahaha']"
   ]
  },
  {
   "cell_type": "code",
   "execution_count": 35,
   "metadata": {},
   "outputs": [],
   "source": [
    "syllables=['hello','my','name','is','john']\n",
    "if (len(syllables) > 4 and len(syllables[2]) == 3 and syllables[2][2] in [aeiou] and syllables[2][3] == syllables[1][3]):\n",
    "    process(syllables)\n",
    "\n",
    "if len(syllables) > 4 and len(syllables[2]) == 3 and syllables[2][2] in [aeiou] and syllables[2][3] == syllables[1][3]:\n",
    "    process(syllables)"
   ]
  },
  {
   "cell_type": "markdown",
   "metadata": {},
   "source": [
    "### Procedural Versus Declarative Style"
   ]
  },
  {
   "cell_type": "code",
   "execution_count": 36,
   "metadata": {},
   "outputs": [
    {
     "name": "stdout",
     "output_type": "stream",
     "text": [
      "4.401545438271973\n"
     ]
    }
   ],
   "source": [
    "tokens = nltk.corpus.brown.words(categories='news')\n",
    "count = 0\n",
    "total = 0\n",
    "\n",
    "for token in tokens:\n",
    "    count += 1\n",
    "    total += len(token)\n",
    "    \n",
    "print (total / count)"
   ]
  },
  {
   "cell_type": "code",
   "execution_count": 37,
   "metadata": {},
   "outputs": [
    {
     "name": "stdout",
     "output_type": "stream",
     "text": [
      "4.401545438271973\n"
     ]
    }
   ],
   "source": [
    "total = sum(len(t) for t in tokens)\n",
    "print (total / len(tokens))"
   ]
  },
  {
   "cell_type": "code",
   "execution_count": 38,
   "metadata": {},
   "outputs": [],
   "source": [
    "word_list = []\n",
    "len_word_list = len(word_list)\n",
    "i = 0\n",
    "\n",
    "while i < len(tokens):\n",
    "    j = 0\n",
    "    while j < len_word_list and word_list[j] < tokens[i]:\n",
    "        j += 1\n",
    "        if j == 0 or tokens[i] != word_list[j]:\n",
    "            word_list.insert(j, tokens[i])\n",
    "            len_word_list += 1\n",
    "    i += 1"
   ]
  },
  {
   "cell_type": "code",
   "execution_count": 39,
   "metadata": {},
   "outputs": [
    {
     "name": "stdout",
     "output_type": "stream",
     "text": [
      "['!', '$1', '$1,000', '$1,000,000,000', '$1,500', '$1,500,000', '$1,600', '$1,800', '$1.1', '$1.4', '$1.5', '$1.80', '$10', '$10,000', '$10,000-per-year', '$100', '$100,000', '$102,285,000', '$109', '$11.50', '$115,000', '$12', '$12,192,865', '$12,500', '$12.50', '$12.7', '$120', '$125', '$135', '$139.3', '$14', '$15', '$15,000', '$15,000,000', '$150', '$157,460', '$16', '$16,000', '$17', '$17,000', '$17.8', '$172,000', '$172,400', '$18', '$18.2', '$18.9', '$2', '$2,000', '$2,170', '$2,330,000', '$2,700', '$2.50', '$2.80', '$20', '$20,000', '$20,447,000', '$200,000', '$214', '$22', '$22.50', '$2400', '$25', '$25,000', '$25-a-plate', '$250', '$250,000', '$251', '$253,355,000', '$26,000,000', '$278,877,000', '$28', '$28,700,000', '$29,000', '$3', '$3,500', '$3,675', '$3.5', '$30', '$300', '$300,000,000', '$3100', '$32,000', '$325', '$344,000', '$37', '$37,500', '$39,000', '$39.5', '$4', '$4,177.37', '$4,500', '$4,700', '$4,800', '$40', '$40,000', '$40,000,000', '$400', '$43,000', '$45', '$450', '$451,500', '$457,000', '$46.7', '$47,101,000', '$5', '$5,000', '$5,000,000', '$5.2', '$50', '$50,000', '$500', '$5000', '$52,500', '$55,000', '$57,500', '$58,918', '$581,000', '$6,100,000,000', '$60', '$600', '$634,517,000', '$639', '$65', '$66,000', '$67,000', '$7,082', '$7,500,000', '$7.20', '$70', '$700', '$740,000', '$75', '$754', '$77,389,000', '$8', '$8,250', '$8,555', '$8.50', '$80', '$80,738', '$800', '$840,000', '$842,617', '$85', '$88,000', '$9', '$9,841,000', '$90', '$900', '&', \"'\", \"''\", \"'20's\", \"'40's\", \"'49\", \"'51\", \"'52\", \"'55\", \"'em\", '(', ')', ',', '--', '.', '0', '1', '1%', '1,000', '1,065', '1,119', '1,212,000', '1,253', '1,257,700', '1,400', '1,509', '1,512', '1,700', '1-0', '1-1/2', '1-1/2-story', '1-3', '1-inch', '1.09.3', '1.10.1', '1.10.4', '1.10.8', '1.23', '1.24', '1.5', '1.58', '10', '10%', '10,000', '10,000,000', '10-hour', \"10-o'clock\", '10-team', '10-year', '10-year-old', '100', '100%', '100,000', '100-yard', '1000', '101b', '102', '1020', '1044', '108', '10:30', '10:45', '10:50', '10th', '11', '11,744', '11-18', '11-3', '11-5', '11-7', '11-month-old', '11-year', '11-year-old', '110', '111', '114', '116', '11:30', '12', '12,000', '12-17', '12-month', '12-year-old', '120', '1200', '121', '1213', '1213-15', '1215', '124', '125,000', '126', '127', '129%', '12:01', '12:50', '12th', '13', '13%', '13-1/2', '13-5', '13-8', '13.5', '130', '130-year', '1311', '132,000', '133', '135', '13th', '14', '14%', '14-power', '14-term', '14.2', '1409', '142', '145', '145-pound', '149', '14th', '15', '15,000', '15-1', '15-hit', '15-year-old', '150', '150,000,000', '1500', '154', '155-yarder', '1565', '158-pounder', '15th', '16', '16,000', '16-22', '16-year-old', '160', '160,000', '1600', '162', '162-game', '1630', '165-unit', '1671', '1688', '169', '16th', '17', '17,000', '17-1/2-inch', '173', '1733', '174', '175', '1776', '1792', '18', '18,792', '180', '180-degrees', \"1800's\", '182', '1825', '1834', '185,000', '1851', '1859', '186', '1865', '187-mile', '187.5', '1885', '1886', '189', '1891', '1896', '1899', '18th', '19', '19,000', '19-12', '1900', \"1900's\", '1908', '1910', '1910-14', '1912', '1913', '1914', '1917', '1919', '1920', '1920s', '1921', '1922', '1923', '1924', '1925', '1926', '1927', '1928', '1930', '1930s', '1932', '1933', '1934', '1935', '1937', '1938', '1940', '1940s', '1942', '1943', '1944', '1945', '1946', '1947', '1947-49', '1948', '1949', '195', '1950', '1950s', '1951', '1952', '1953', '1954', '1955', '1956', '1957', '1958', '1958-60', '1959', '1959-60', '1960', \"1960's\", '1960-61', '1960s', '1961', '1961-62', '1962', '1963', '1964', '1965', '1966', '1970', '1970s', '1971', '1976', '198', '1981', '1986', '1991', '19th', '1:35', '1:48', '2', '2%', '2,100', '2,418', '2,700,877', '2,963', '2-1/2', '2-3/4', '2-and-2', '2-baser', '2-hour-and-27-minute', '2-inch', '2-over-par', '2-run', '2-score-year', '2.21.6', '2.295%', '2.325%', '2.5%', '20', '20%', '20,000', '20-piece', '200', '205-pound', '206', '208-pound', '21', '21-2', '21-9', '21-year', '21-year-old', '210', '2100', '211', '213', '214', '215', '21st', '22', '22-12', '22-acre', '22-year-old', '220-yard', '22111', '224-170', '225,000', '2269', '2274', '228-229', '229', '23', '23-year-old', '237%', '23d', '24', '24-inch', '24-year-old', '240', '242%', '2433', '24th', '25', '25%', '25,000', '25,000,000', '25,000-man', '25-foot', '25-footer', '25-minute', '250', '250-275', '2544', '255', '25th', '26', '26-year-old', '260-member', '27', '27-year-old', '2705', '271', '273', '2731', '28', '280', '280-yard', '2809', '281', '2825', '28th', '29', '29-5', '29th', '2:30', '2d', '2nd', '3', '3,000', '3,325', '3,399', '3-0', '3-10', '3-5', '3-game', '3-hitter', '3-inch', '3-month', '3-run', '3-to-3', '3-to-o', '3-year-old', '3.1', '3.25', '3.28', '3.98', '30', '30,000', '30,000,000', '30-30', '300', '300,000', '300-450', '30th', '31', '31730', '3181', '31978', '31st', '32,000', '32,589', '3211', '3247', '325', '33', '33-man', '330', '3300', '33d', '34', '34.7', '340-blast', '34220', '343', '35', '350', '3505o', '354', '355', '357', '36', '36-year-old', '361', '3646', '36th', '37', '37,000', '37,679', '37-year-old', '375', '38', '38-7', '38-point', '380-foot', '39', '390-foot', '3:30', '3:57', '3rd', '4', '4,441', '4,500', '4-0', '4-1/2%', '4-13', '4-7/8', '4-H', '4-for-5', '4-homer', '4-under-par', '4-year', '4-year-old', '4.4', '40', '40%', '40-year-old', '400', '400,000,000', '402', '41', '41-8', '415', '42', '420', '42d', '43', '44', '44-year-old', '447', '45', '45-degree', '450', '46', '469', '46th', '47', '48', '480', '49', '4911', '49ers', '4:05', '4:18', '4:30', '4th', '5', '5%', '5,000', '5-1', '5-3', '5-4', '5-5', '5-day', '5-game', '5-run', '5-to-2', '5-to-3', '5.1', '50', '50%', '50,000,000', '50-year-old', '500', '5000', '508-yard', '50th', '51', '511', '5155', '51st', '52', '52-year', '52-year-old', '520-acre', '53-year-old', '54', '540', '543', '545-yard', '55', '553', '56', '56-yard', '57', '5777', '58', '5835', '5847', '58th', '59', '5:30', '6', '6,000', '6-12', '6-3', '6-3-3', '6-5', '6-6', '6-7', '6-foot', '6-foot-10', '6-foot-3-inch', '6-ounce', '6.5', '60', '60,000', '60-day', '60-inch', '600-yard', '61', '6124', '61st', '62', '62-year-old', '63', '637', '64', '64-cent', '645-acre', '646', '65', '65%', '65,000', '66', '67', '67-year-old', '675', '676', '677', '68', '687.87', '69', '6934', '695', '6:15', '6th', '7', '7,000', '7-6', '7-9', '7-day', '7.19', '7.5', '70', '70,000', '700', '7026', '7034', '704', '707', '71', '72', '72-hole', '72nd', '73', '734', '74', '75', '75-minute', '750', '7599', '75th', '76', '767', '77', '770', '798', '7:30', '7:45', '7A', '8', '8%', '8,000', '8,280', '8,293', '8-4', '8-year-old', '80', '800', '81', '823', '83', '85', '85-piece', '85-student', '86', '869', '87', '87-1/2', '87-31', '87th', '88', '8861', '8:30', '8th', '9', '9,273', '9-6', '9-7', '90', '90%', '90-day', '900', '900,000', '900-student', '92', '923,076', '9230', '93', '9329', '949', '95', '96', '963', '99', '9:30', '9:40', '9th', ':', ';', '?', 'A', \"A's\", 'A.', 'A.A.U.', \"A.A.U.'s\", 'A.M.', 'A135', 'ADC', 'AF', 'AFL-CIO', 'AID', \"AID's\", 'AM', 'AP', 'ARF', 'ASDIC', 'Aaron', 'Abatuno', 'Abbey', 'Abe', 'Abel', 'Abell', 'Abner', 'Abolition', 'About', 'Above', 'Abra', 'Abraham', 'Academy', 'Accardo', 'Accepted', 'Accounting', 'Ace', 'Achaeans', \"Achaeans'\", 'Achievement', 'Acres', 'Act', 'Acting', 'Action', 'Actor-Crooner', 'Actress', 'Actually', 'Adair', \"Adair's\", 'Adam', 'Adams', 'Adamson', 'Adcock', 'Add', 'Adequate', 'Aderholds', 'Adjusted', 'Adlai', 'Administration', \"Administration's\", 'Administrative', 'Administrator', 'Admitting', 'Adnan', 'Advance', 'Adventures', 'Advisors', 'Advisory', 'Aeronautics', 'Affaire', 'Affairs', 'Africa', 'African', 'Afro-Cuban', 'After', 'Afterward', 'Afterwards', 'Again', 'Agencies', 'Agency', 'Aggies', 'Agriculture', 'Ah', 'Aid', 'Aiding', 'Aiken', 'Aikin', 'Ainsley', 'Ainsworth', 'Air', 'Aircraft', \"Airline's\", 'Airlines', 'Airport', 'Aj', 'Al', \"Al's\", 'Ala.', 'Alabama', 'Alan', 'Alba', 'Albacore', 'Albany', 'Albert', 'Alden', 'Aldo', 'Alex', 'Alexander', 'Alexandria', 'Alfred', 'Alice', 'All', 'Alla', 'Allan', 'Allegretti', 'Allen', 'Alliance', 'Allied', 'Allies', 'Allison', \"Allison's\", 'Almost', 'Along', 'Alpha', 'Alpharetta', 'Already', 'Also', 'Alsop', 'Altar', 'Althaus', 'Although', 'Alto', 'Alton', 'Alusik', \"Alusik's\", 'Alva', 'Alvin', 'Always', 'Amateur', 'Ambassador', 'Ambassador-designate', 'Ambulances', 'America', \"America's\", 'American', 'Americana', 'Americans', 'Among', 'An', 'Anaconda', 'Analysts', 'Anatole', 'Ancient', 'And', 'Anderlini', 'Anderson', \"Anderson's\", 'Andover', 'Andrew', 'Andy', 'Angel', 'Angeles', \"Angeles'\", 'Angelico', 'Angelo', 'Angels', 'Angola', 'Anita', 'Ankara', 'Ann', 'Anna', 'Annamorena', 'Annapolis', 'Anne', \"Anne's\", 'Anniston', 'Anniversary', 'Another', 'Anson', 'Answer', 'Anthony', 'Anti-Communist', 'Anticipated', 'Antone', 'Antonio', 'Any', 'Anyone', 'Anywhere', 'Aparicio', 'Apart', 'Apartment', 'Apartments', 'App', 'Apparently', 'Appeal', 'Appeals', 'Appointment', 'Appropriately', 'Appropriations', 'April', 'April-June', 'Aquinas', 'Arab', 'Arata', 'Archives', 'Arden', 'Are', 'Area', 'Arequipa', 'Arger', 'Ariz.', 'Arkansas', \"Arkansas'\", 'Arlington', 'Armed', 'Armenian', 'Armisteads', 'Armond', 'Armory', 'Armour', 'Arms', 'Army', \"Army's\", 'Arnold', \"Arnold's\", 'Arranging', 'Arrington', 'Arrow', 'Arshinkoff', 'Art', \"Art's\", 'Arthur', 'Artist', 'Arts', 'Arundel', 'Arvey', 'As', 'Ashman', 'Asia', 'Asian', 'Asilomar', 'Ask', 'Asked', 'Asks', 'Assemblies', 'Assembly', 'Assistant', 'Assisting', 'Assn.', 'Associated', 'Association', 'Associations', 'Assuming', 'At', 'Athlete', 'Athletic', 'Athletics', 'Atlanta', \"Atlanta's\", 'Atlantic', 'Atlee', 'Attacks', 'Attendance', 'Attilio', 'Attitude', 'Attorney', 'Attorneys', 'Atty.', 'Atwells', 'Auburn', 'Auditorium', 'Audrey', 'Audubon', 'Aug.', 'August', 'Augusta', \"Augusta's\", 'Augustine', 'Auntie', 'Aurora', 'Austin', 'Australia', 'Authenticated', 'Authority', \"Authority's\", 'Av.', 'Ave.', 'Avenue', 'Averell', 'Avery', 'Avon', 'Award', 'B', 'B-52', 'B.', 'Babe', 'Bachelor', 'Back', 'Backs', 'Bad', 'Bahi', 'Bahia', 'Bailey', 'Baines', 'Baird', 'Bake', 'Bake-Off', 'Bake-off', 'Baker', 'Bal', 'Baldrige', 'Balenciaga', 'Bales', 'Bali', 'Balkan', 'Balkanize', 'Balkanizing', 'Ball', 'Ballet', 'Balloon', 'Ballroom', 'Baltimore', \"Baltimore's\", 'Baltimorean', 'Band', 'Bandish', 'Bandstand', 'Bank', 'Bankers', 'Banks', 'Banner', 'Baptist', 'Bar', 'Baraclough', 'Barbara', 'Barber', 'Baringer', 'Barker', 'Barnard', \"Barnard's\", 'Barnes', 'Barnet', 'Barnett', 'Barr', 'Barrett', 'Bartha', 'Baseball', 'Basel', 'Basic', 'Basin', 'Basketball', 'Bassi', 'Bassis', 'Batchelder', 'Baton', 'Battalion', 'Battle', 'Bay', 'Bay-front', 'Baylor', \"Baylor's\", 'Bea', 'Beach', 'Beadle', 'Beadles', \"Beadles'\", 'Beam', 'Beame', \"Bear's\", 'Bearden', 'Beardens', 'Bears', 'Beat', 'Beatrice', 'Beaumont', 'Beauty', 'Beaverton', 'Because', 'Becket', 'Beesemyers', 'Before', 'Beginning', 'Behind', 'Being', 'Beirut', 'Bel-Air', 'Belafonte', 'Belanger', 'Belgian', 'Belgians', 'Bell', 'Belleville', 'Bellows', 'Bellwood', 'Belt', 'Belvidere', 'Beman', 'Ben', 'Benched', 'Bend', 'Beneficiary', 'Benington', 'Benjamin', 'Bennington', 'Berger', \"Berger's\", 'Berlin', \"Berlin's\", 'Bermuda', \"Bernadine's\", 'Bernard', 'Bernardine', 'Bernet', 'Bernhard', 'Bernie', 'Beronio', 'Berra', \"Berra's\", 'Berrellez', 'Berry', \"Berry's\", 'Bert', 'Berteros', 'Bertoia', 'Berton', 'Bertorelli', 'Beryl', 'Besides', 'Bess', 'Besset', 'Bessie', 'Best', 'Bester', 'Bet', 'Betsy', 'Better', 'Between', 'Beverly', 'Bevo', 'Bexar', 'Beyeler', 'Beyond', 'Bianco', 'Bibb', 'Bible', 'Biblically', 'Bietnar', 'Big', 'Bill', \"Bill's\", 'Billiken', 'Billikens', 'Bills', 'Billy', 'Bimini', 'Bingles', 'Bird', 'Birdie', 'Birds', \"Birds'\", 'Birgit', 'Birmingham', 'Bishop', 'Bizerte', 'Blaber', 'Black', 'Blacks', 'Blaine', 'Blanchard', \"Blanchard's\", 'Blanche', 'Blanton', 'Blasingame', 'Bldg.', 'Bleckley', 'Bloom', 'Blue', 'Bluebird', 'Blum', 'Blumberg', 'Blume', 'Blumenthal', 'Blvd.', 'Blyth', 'Board', 'Bob', 'Bobby', 'Boehmer', 'Boeing', 'Bolet', 'Bolker', \"Bombers'\", 'Bonanza', 'Bond', 'Bonn', 'Bontempo', 'Book', 'Books', 'Bookwalter', 'Boonton', 'Boothby', 'Bootle', \"Bootle's\", 'Bordeau', 'Border', 'Borland', 'Boston', \"Boston's\", 'Both', 'Boucher', 'Boun', 'Bourcier', 'Bourguiba', 'Bouton', 'Bow', 'Bowden', 'Bowie', 'Bowl', 'Bowman', 'Box', 'Boxwood', 'Boy', 'Boyce', 'Boyd', 'Boyer', 'Boys', 'Bradford', 'Bradley', 'Brady', 'Brain', 'Branch', 'Brandeis', 'Brandenburg', 'Brandt', 'Branum', 'Braques', \"Brassbound's\", 'Braun', 'Braves', \"Braves'\", 'Break', 'Breakthrough', 'Breeding', 'Bregman', 'Brelin', 'Brett', 'Breuer', 'Brevard', 'Briar', 'Bricker', 'Brig.', 'Brigantine', 'Britain', \"Britain's\", 'British', 'Broadly', 'Broadway', 'Brocklin', \"Brocklin's\", 'Brod', 'Broeg', 'Broglio', \"Broglio's\", 'Broncos', 'Broncs', 'Bronx', 'Brook', 'Brooklyn', \"Brooklyn's\", 'Brooks', \"Brooks's\", \"Bros.'\", 'Brothers', 'Brown', 'Browning', 'Brownings', 'Bruce', 'Brussels', 'Bryan', 'Bryson', 'Buaford', 'Bubenik', 'Buchanan', 'Bucharest', 'Buchheister', 'Buck', 'Buckhead', 'Buckley', 'Bucks', 'Bucky', 'Bucs', \"Bucs'\", 'Bud', 'Budapest', 'Buddy', 'Budgetary', 'Buell', 'Buffalo', 'Buick', 'Builders', 'Building', 'Bulloch', 'Bundle', 'Bundy', 'Burbank', 'Bureau', 'Burgess', 'Burgher', 'Burke', 'Burke-Rostagno', 'Burkes', \"Burkes'\", 'Burnes', 'Burnside', 'Bursts', 'Busch', 'Bush', 'Business', 'Buster', 'But', 'Butcher', 'Butler', 'Butlers', 'By', 'By-passing', 'Byer-Rolnick', 'Byrd', \"Byrd's\", 'Byron', 'C', 'C.', 'CBS', 'CD', 'COAHR', 'CTA', 'Cabana', 'Cabinet', 'Cable', 'Cabot', 'Cacophonist', 'Cadillac', 'Cadillacs', 'Caesar', 'Cafe', 'Cafeteria', 'Cain', 'Cal.', 'Caldwell', \"Caldwell's\", 'Calif.', 'California', 'Callan', 'Called', 'Calling', 'Calls', 'Calmer', 'Caltech', \"Caltech's\", 'Calude', 'Calvary', 'Cambridge', 'Camera', 'Camilla', 'Camille', 'Camilo', 'Camp', 'Campagnoli', 'Campaigning', 'Campbell', 'Campobello', 'Campus', 'Can', \"Can't\", 'Canada', \"Canada's\", 'Canadian', 'Canal', 'Cancer', 'Candlestick', 'Cannon', 'Cantonese', 'Cape', 'Capello', 'Capitalism', 'Capitol', 'Capt.', 'Captain', 'Carbones', 'Cardinal', 'Cardinals', 'Cards', 'Carey', 'Carl', 'Carla', 'Carlo', 'Carlson', 'Carmichael', 'Carmine', 'Carnegey', 'Carnegie', 'Carnival', 'Carol', 'Carolina', 'Caroline', 'Carolyn', 'Caron', 'Carpentier', 'Carr', 'Carre', 'Carrel', 'Carreon', \"Carreon's\", 'Carroll', 'Carruthers', 'Carson', 'Carter', 'Carty', 'Casals', 'Casassa', 'Case', \"Case's\", 'Casey', 'Cash', 'Casino', 'Castro', \"Castro's\", 'Casualty', 'Catch', 'Catcher', 'Cater', 'Cathedral', 'Catholic', 'Catholics', 'Caucusing', 'Cauffman', 'Cavaliere', 'Cecil', 'Cecilia', 'Cedar', 'Cedric', 'Cedvet', 'Ceil', 'Celebration', 'Cemal', 'Cemetery', 'Cen-Tennial', 'Center', \"Center's\", 'Central', 'Centredale', 'Century', 'Cerebral', 'Certain', 'Certainly', 'Cerv', 'Cervetto', 'Cezannes', 'Chairman', 'Chamber', 'Champion', 'Chance', 'Chancellor', 'Chandler', 'Change', 'Changes', 'Channel', 'Chantilly', 'Chapel', 'Chapelles', 'Chaplin', 'Chapman', 'Chapter', 'Chardon', 'Charge', 'Charges', 'Charitable', 'Charlayne', 'Charles', 'Charley', 'Charlie', 'Chase', 'Chases', 'Check', 'Chef', 'Chemical', 'Chen', 'Cheng', 'Cherry', 'Chesapeake', 'Cheshire', 'Chester', 'Chestnut', 'Chiang', 'Chicago', \"Chicago's\", 'Chicken', 'Chico', 'Chief', 'Children', 'China', \"China's\", 'Chinese', \"Chip-o's\", 'Chips', 'Chisholm', 'Chiuchow', 'Choice', 'Christ', 'Christi', 'Christian', 'Christianity', 'Christine', \"Christine's\", 'Christmas', 'Chromspun', 'Chronicle', \"Chronicle's\", 'Chrysler', 'Chuck', 'Church', 'Churchill', 'Ciciulla', 'Cimoli', 'Cincinnati', 'Cinemactor', \"Cipriani's\", 'Cir.', 'Circle', 'Circuit', 'Cites', 'Citizens', 'City', 'Civil', 'Claims', 'Clara', 'Clarence', 'Clark', 'Class', 'Class-D', 'Claude', 'Claus', 'Clay', 'Clayton', 'Cleaner', 'Clearwater', 'Clement', 'Clemente', 'Clements', 'Clerks', 'Cleveland', 'Cliff', 'Clifford', 'Clifton', 'Clint', 'Clinton', 'Clipper', 'Club', \"Club's\", 'Clubs', 'Cluck', 'Clyde', 'Cmdr.', 'Co.', 'Coach', 'Coal', 'Coast', 'Cochran', 'Cocktail', 'Cocktails', 'Coconut', 'Cod', 'Cody', 'Coe', 'Cohen', 'Cohn', 'Col.', 'Colavito', 'Coleman', 'Coles', 'Coliseum', 'College', 'Collett', 'Collins', \"Collins'\", 'Colmer', \"Colmer's\", 'Cologne', 'Colonial', 'Colorado', 'Colorful', 'Colquitt', 'Columbia', 'Columbus', 'Columnist', 'Come', 'Comedian', 'Comic', 'Command', 'Commandeering', 'Commenting', 'Commerce', 'Commies', 'Commission', 'Commissioner', \"Commissioner's\", 'Commissioners', 'Committee', \"Committee's\", 'Committees', 'Common', 'Communism', \"Communism's\", 'Communisn', 'Communist', 'Communist-led', 'Communists', 'Community', 'Company', 'Compare', 'Competent', 'Completing', 'Composite', 'Comus', 'Conant', 'Conceding', 'Concern', 'Concert', 'Concerts', 'Conductor', 'Confederacy', 'Conference', 'Conflict', 'Confronted', 'Confusion', 'Congo', 'Congolese', 'Congregation', 'Congress', 'Congresses', 'Congressional', 'Congressman', 'Conn.', 'Connall', 'Connecticut', 'Connection', 'Connelly', 'Connie', 'Conrad', 'Consequently', 'Conservation', 'Considering', 'Consolidated', 'Constant', 'Constantinos', 'Constitution', 'Construction', 'Consul', 'Consumer', 'Contemporary', 'Contempt', 'Continental', 'Contribution', 'Contributions', 'Control', 'Controller', \"Controller's\", 'Convair', 'Convenience', 'Convention', 'Conversion', 'Cook', 'Cooke', 'Coolidge', 'Cooper', 'Cooperation', 'Cooperman', 'Coopers', 'Copeland', 'Copper', 'Coral', 'Corcoran', 'Corneilus', 'Cornell', 'Coronado', 'Corp.', 'Corporate', 'Corporation', 'Corps', 'Corpus', 'Correction', 'Corruption', 'Cost', 'Costs', 'Cotillion', 'Cott', 'Cotten', \"Cotten's\", 'Cotton', 'Cotty', 'Could', 'Coulson', 'Council', \"Council's\", 'Councilman', 'Councilwoman', 'Counties', 'Country', 'County', \"County's\", 'Courbet', 'Course', 'Court', 'Courtney', 'Couturier', 'Couve', 'Cover', 'Coward', 'Cox', 'Craig', 'Cranston', 'Crawford', 'Creations', 'Crime', 'Criminal', 'Crippled', 'Cris', 'Crispin', 'Crosby', 'Cross', 'Crozier', 'Crumlish', 'Crump', 'Crunch', 'Crusade', 'Crystal', 'Ct.', 'Cuba', \"Cuba's\", 'Cuban', 'Cuban-American', 'Cubans', 'Cubs', 'Cudmore', 'Culbertson', 'Culmone', 'Cumbancheros', 'Cup', 'Curie', 'Curry', 'Currys', 'Curtis', 'Cushman', 'Customary', 'Cutting', 'Cynthia', 'D', \"D'Art\", 'D.', 'D.C.', 'Da', 'Dade', \"Dade's\", 'Daily', 'Daley', 'Dallas', 'Dallas-based', 'Dallas-headquartered', 'Dalles', 'Damascus', 'Dame', 'Dan', 'Danbury', 'Dancers', 'Dane', 'Danger', 'Daniel', \"Daniel's\", 'Danish', 'Dannehower', 'Danny', \"Danny's\", 'Dark', 'Darlene', 'Darnell', 'Darrell', 'Darrow', 'Dave', 'Davenport', 'David', \"David's\", 'Davidson', 'Davis', 'Dawson', 'Day', 'Days', 'De', 'DeCicco', 'DeForest', 'DeSoto', 'Deadlock', 'Deadly', 'Deaf', 'Dealer', \"Dealers'\", 'Dean', 'Deane', 'Dearborn', 'Debate', 'Debutante', 'Dec.', 'Decathlon', 'December', 'Decisions', 'Decorating', 'Decorators', 'Decries', 'Dedication', 'Defends', 'Defense', 'Del', 'Delahanty', 'Delaney', 'Delaware', 'Delegates', 'Delhi', 'Delinquency', 'Deloris', 'Delray', 'Delta', 'Democrat', 'Democratic', 'Democratic-endorsed', 'Democratic-sponsored', 'Democrats', 'Denials', 'Dennis', 'Densmore', 'Denton', 'Denver', \"Denver's\", 'Denver-area', 'Denverite', 'Department', \"Department's\", 'Deputy', 'Dequindre', 'Desert', 'Design', 'Designs', 'Desmond', 'Despite', 'Detective', 'Detente', 'Detroit', \"Detroit's\", 'Development', 'Developments', 'Dewey', 'Dey', 'Di', 'DiMaggio', 'DiSimone', 'DiVarco', 'Dick', 'Dicks', 'Dictator', 'Did', 'Diety', 'Dignity', 'Dillon', 'Dilworth', 'Dimaggio', 'Dining', 'Diocesan', 'Dior', 'Dip', 'Director', 'Dirksen', 'Disapproval', 'Disarmament', 'Displayed', 'Displaying', 'Dist.', 'Distributive', 'District', 'Districts', 'Ditmar', 'Diversified', 'Diving', 'Division', 'Dixiecrats', 'Djakarta', 'Do', 'Dobbins', 'Dobbs', 'Doctor', 'Doctors', 'Dodge', 'Dodger', 'Dodgers', 'Dolce', 'Dollar', 'Dominic', 'Don', \"Don't\", 'Donald', 'Donnell', 'Donnelly', 'Dorenzo', 'Doris', \"Doris'\", 'Dorsey', 'Double', 'Douglas', 'Dow', 'Down', 'Downtown', 'Doxiadis', 'Doyle', 'Dr.', 'Draper', 'Drawers', 'Dreadnought', 'Dreamboat', 'Dresbach', \"Dresbach's\", 'Dresbachs', \"Dresbachs'\", 'Drexel', \"Drexel's\", 'Drinkhouse', 'Drive', 'Driver', 'Drs.', 'Drum', 'Drury', 'Du', 'Dublin', 'Dubois', 'Dubovskoi', 'Due', 'Duffy', 'Duhagon', 'Dukes', 'Dulles', 'Dumas', 'Dumont', 'Dunbar', 'Duncan', 'Dunkel', 'Dunlop', 'Dunn', 'Duque', 'Durante', 'Duren', 'During', 'Durocher', 'Durwood', 'Dussa', 'Dusseldorf', 'Dutch', 'Dwight', 'Dyer', 'E.', 'E.G.T.', 'E.O.', 'Each', 'Eagles', 'Earl', 'Earlier', 'Easier', 'East', 'East-West', 'Easter', 'Eastern', 'Eastland', 'Eastman', 'Eastwick', 'Eaton', 'Ebbetts', 'Economic', 'Economically', 'Ed', 'Eddie', 'Eddy', 'Edgar', 'Edgewater', 'Edith', 'Edna', 'Education', 'Edward', 'Edwards', 'Edwin', 'Egerton', 'Egypt', 'Ehlers', 'Eight', 'Eighteenth', 'Eighteenth-century', 'Eileen', 'Eire', 'Eisenhower', \"Eisenhower's\", 'Ekberg', 'El', 'Elaine', 'Elburn', 'Elder', 'Eldon', 'Eleanor', 'Elected', 'Election', 'Electoral', 'Electra', 'Electric', 'Elementary', 'Elevated', 'Eligio', 'Elios', 'Elizabeth', 'Elks', 'Ella', 'Ellen', 'Elliott', 'Ellsworth', 'Ellwood', 'Elm', 'Elmer', 'Elsie', 'Elvis', 'Embassy', 'Emcee', 'Emerald', 'Emilio', 'Emma', 'Emmert', 'Emory', \"Emperor's\", 'Empire', 'Employes', 'Encouraging', 'End', 'Enforce', 'Eng.', 'Engaging', 'England', 'England-born', 'English', 'Ennis', 'Enos', 'Enrique', 'Ensign', 'Episcopal', 'Eppler', 'Epsilon', 'Epstein', 'Equal', 'Equator', 'Equipment', 'Erection', 'Ernie', 'Ernst', 'Ervin', 'Escape', \"Escape's\", 'Esnards', 'Espagnol', 'Essex', 'Esther', 'Estimates', 'Ethel', 'Eugene', 'Europe', \"Europe's\", 'European', 'Eustis', 'Evans', 'Evanston', 'Eve', 'Evegeni', 'Evelyn', 'Even', 'Every', 'Everybody', 'Everything', 'Everywhere', 'Ex-Oriole', 'Examiner', 'Examiners', 'Except', 'Exchange', 'Exclaimed', 'Executive', 'Executives', 'Exhibition', 'Expect', 'Experts', 'Exploratory', 'Explosion', 'Exposition', 'Expresses', 'Expressions', 'Expressway', 'Expressways', 'Extend', 'Extension', 'External', 'F', 'F.', 'FBI', 'FFA', 'Fabian', 'Faced', 'Factories', 'Factory', 'Failure', 'Fair', 'Fairchild', 'Fairless', 'Fairy', \"Falcons'\", 'Fall', 'Falls', 'Famed', 'Family', 'Fanning', \"Fardulli's\", 'Fargo', 'Farley', 'Farm', 'Farmers', 'Farrell', 'Fashion', 'Fatima', 'Fazio', 'Fears', 'Feb.', 'February', \"February's\", 'Federal', 'Federation', 'Feis', 'Felix', 'Fellini', 'Fellowship', 'Felske', 'Fenwick', 'Ferdinand', 'Ferdinando', 'Fergeson', 'Feringa', 'Fernberger', 'Ferris', 'Festival', 'Fiat', 'Fidel', 'Fiedler', \"Fiedler's\", 'Field', \"Field's\", 'Fields', 'Fifteen', 'Fifth', 'Fifty-three', 'Fighters', 'Figone', 'Fike', 'Fil', 'Finalists', 'Finally', 'Finan', 'Finance', 'Fine', 'Fingered', 'Fire', 'Fireside', 'Firm', 'First', 'Fisher', 'Fitzgerald', 'Fitzhugh', 'Five', 'Fla.', 'Flanagan', 'Flashed', 'Fleisher', 'Fletcher', 'Flight', 'Flip', 'Flock', \"Flock's\", 'Florence', 'Floresville', 'Florida', 'Flower', 'Flowers', 'Flushing', 'Fogelson', 'Foil', 'Foliage', 'Folklore', 'Follow', 'Fonta', 'Food', 'Foods', 'Football', 'Footnotes', 'For', \"Forbes's\", 'Force', \"Force's\", 'Ford', 'Foreign', 'Forest', 'Forever', 'Formby', \"Formby's\", 'Former', 'Formula', 'Forsyth', 'Forsythe', 'Fort', 'Forte', 'Fortier', 'Fortin', 'Foster', 'Foundation', 'Four', 'Fourteen', 'Foxx', 'Fra', 'France', \"France's\", 'Frances', 'Francesca', 'Francis', 'Franciscans', 'Francisco', \"Francisco's\", 'Frank', 'Frankford', 'Frankie', 'Franklin', 'Fred', 'Freddie', 'Frederic', 'Frederick', 'Freedom', 'Freeholder', 'Freeman', 'Freeport', 'Freida', 'French', 'French-born', 'Fresh', 'Frick', 'Friday', \"Friday's\", 'Friend', 'Friends', 'Frito', 'Fritz', 'Frog-marched', 'From', 'Fruit', 'Fuchs', 'Fuhrmann', \"Fuhrmann's\", 'Fulbright', 'Full', 'Fulton', 'Fund', 'Fundamental', 'Funds', 'Funeral', 'Fur', \"Furhmann's\", 'Further', 'Future', 'G.', 'GA', 'GOP', 'Ga.', 'Gables', 'Gaines', \"Gaines'\", 'Gainesville', 'Gaining', 'Gains', 'Gaither', 'Gala', 'Gallery', \"Gallery's\", 'Gallup', 'Galt', 'Galveston', 'Games', 'Gamma', 'Gander', 'Gannon', \"Gannon's\", 'Garden', 'Gardner', \"Gardner's\", 'Garland', 'Garson', 'Gary', 'Garza', 'Gas', 'Gaston', 'Gate', 'Gateway', 'Gather', 'Gauer', 'Gay', 'Gaynor', 'Geddes', 'Gee', \"Gee's\", 'Gehrig', 'Gen.', 'Gene', 'General', 'Generale', 'Generally', 'Geneticist', 'Geneva', 'Genevieve', 'Gentile', 'George', 'Georgetown', 'Georgia', \"Georgia's\", 'Georgia-Pacific', 'Geraghty', \"Geraghty's\", \"Geraghtys'\", 'Gerald', 'Geraldine', 'German', 'Germania', 'Germany', 'Gerosa', \"Gerosa's\", 'Get', 'Gets', 'Getting', 'Gettysburg', 'Gevurtz', 'Ghana', 'Ghormley', 'Giacometti', 'Giacomo', 'Giants', \"Giants'\", 'Gibson', 'Gift', 'Gil', 'Gill', 'Gillis', 'Gilman', 'Gimbel', 'Gin', 'Ginghams', \"Ginner's\", 'Ginning', 'Gino', 'Giorgio', 'Give', 'Given', 'Givers', 'Giving', 'Gladden', \"Gladden's\", 'Glass', 'Glazer', 'Glen', 'Glenda', 'Glennon', 'Glimco', \"Glimco's\", 'Glison', 'Globe-Democrat', 'Gloriana', 'Go', 'God', 'Gods', 'Godwin', 'Gogh', 'Gold', 'Goldberg', 'Golden', 'Goldwater', 'Golf', \"Golf's\", 'Golfers', 'Gomez', 'Good', 'Goodbye', 'Goodis', 'Goodman', 'Gordin', 'Gordon', \"Gordon's\", 'Gore', \"Gore's\", 'Gorgeous', 'Gotham', 'Gould', 'Gov.', 'Government', \"Government's\", 'Governments', 'Governor', \"Governor's\", 'Grace', 'Gradual', 'Graduate', 'Grady', 'Graft', 'Graham', 'Grahamstown', 'Grand', 'Grandparents', 'Grant', 'Grapefruit', 'Gray', 'Grayson', 'Great', 'Greater', 'Greece', 'Greek', 'Green', \"Green's\", 'Greenberg', 'Greene', 'Greenfield', 'Greenock', 'Greenville', 'Greenwich', 'Greenwood', 'Greer', 'Gregg', 'Gregorio', 'Gregory', 'Grenier', 'Grenoble', 'Gretchen', 'Greyhound', 'Griffin', 'Griffith-Jones', 'Grimm', 'Grinsfelder', \"Grizzlies'\", 'Groat', 'Grocery', 'Grooms', 'Grossman', 'Grounds', 'Group', 'Grove', 'Grover', 'Grovers', 'Growth', 'Grzesiak', 'Guam', 'Guard', 'Guatemala', 'Guerin', 'Guest', 'Guests', 'Guglielmo', 'Guinea', 'Gulf', \"Gulf's\", 'Gunther', 'Gursel', 'Gus', 'Guy', 'H.', 'Haaek', 'Haase', 'Habib', 'Hack', 'Hackett', 'Hackstaff', 'Had', 'Haddix', 'Hagner', 'Hail', 'Hal', 'Half', 'Halfback', 'Hall', \"Hall's\", 'Halleck', \"Hallowell's\", 'Hambric', 'Hamey', 'Hamilton', 'Hamm', 'Hammarskjold', 'Hammett', 'Hammond', 'Hammons', 'Hampton', 'Hand', 'Handicapped', 'Handsome', 'Hank', 'Hansen', \"Hansen's\", 'Happy', 'Harbor', 'Harcourt', 'Hardwicke-Etter', 'Hardy', 'Hargett', 'Harlingen', 'Harmon', 'Harmony', 'Harold', 'Harriet', 'Harriman', 'Harris', 'Harrity', 'Harry', 'Hartford', 'Hartley', 'Hartman', 'Hartselle', 'Hartsfield', 'Hartweger', 'Harvard', \"Harvard's\", 'Harvest', 'Harvester', 'Harvey', 'Harveys', 'Has', 'Haskins', 'Hat', 'Hatfield', 'Hatters', 'Havana', 'Havilland', 'Having', 'Hawaiian', 'Hawksley', 'Hayes', 'Haynes', 'Hays', 'Hayward', 'Hazard', 'He', \"He'll\", \"He's\", 'Headquarters', 'Health', 'Hearn', 'Heating', 'Heavy', 'Hector', 'Heideman', 'Heights', 'Heilman', 'Heinkel', 'Heinze', 'Heitschmidt', 'Held', 'Helen', 'Helene', 'Help', 'Helping', 'Hemphill', 'Hempstead', 'Hemus', 'Henderson', 'Hengesbach', 'Henri', 'Henry', 'Her', 'Herb', 'Herbert', 'Here', \"Here's\", 'Heritage', 'Herman', 'Herridge', 'Herrington', 'Herter', 'Herzog', 'Hess', 'Hester', 'Hewlett-Woodmere', 'Heywood', 'Hickok', 'Hicks', 'High', \"High's\", 'Higher', 'Highway', 'Hill', 'Hillcrest', 'Hills', 'Hillsboro', 'Hillsdale', 'Hilton', 'Hinckley', 'Hinsdale', 'Hinton', 'Hiring', 'His', 'Hit', \"Hitler's\", 'Hitting', 'Hmpf', 'Hoak', 'Hoaps', 'Hobart', 'Hockaday', 'Hodges', 'Hodosh', 'Hoffa', 'Hogan', 'Holabird', 'Holbrook', 'Holders', 'Hole', 'Hollander', 'Hollowell', 'Hollywood', \"Hollywood's\", 'Holman', 'Holmes', 'Holy', 'Home', 'Homeowners', 'Homer', 'Hong', 'Honolulu', 'Honor', 'Honors', 'Hood', 'Hooked', 'Hoover', 'Hope', 'Hopefully', 'Horace', 'Hord', 'Horstman', 'Horton', 'Hose', 'Hospital', 'Hotel', 'Houghton', 'Houk', 'Hours', 'House', \"House's\", 'Housed', 'Housewives', 'Housing', 'Houston', 'Houtz', 'Hovarter', 'How', 'Howard', 'Howell', 'However', 'Howsam', \"Howsam's\", 'Howser', 'Hoyt', 'Hubbell', 'Hubert', \"Hubie's\", 'Huddle', 'Hudson', 'Huff', \"Huff's\", 'Huffman', 'Hugh', 'Hughes', \"Hughes'\", 'Human', 'Humphrey', 'Hungarian', 'Hunter', 'Huntington', 'Huntingtons', 'Huntley', 'Hurrah', 'Hurt', 'Hutchins', \"Hutchins'\", 'Hyannis', 'Hyde', \"Hyde's\", 'Hyndman', 'Hypocrisy', 'I', \"I'd\", \"I'll\", \"I'm\", \"I've\", 'I.', 'I.R.S.', 'ICC', 'Idaho', 'Idea', 'Idealist', 'Ideally', \"Idols'\", 'Ierulli', 'If', 'Iglehart', 'Ignition', 'Ike', 'Ill.', 'Illinois', 'Illustrated', 'Ilona', 'Ilyushin', 'Immigration', 'Imperial', 'Implementation', 'Import', 'Important', 'In', 'Inaugural', 'Inauguration', 'Inc.', 'Incidentally', 'Incinerator', 'Increase', 'Increasing', 'Incumbent', 'Ind.', 'Indeed', 'Indemnity', 'Independent', 'India', 'Indian', 'Indiana', 'Indianapolis', 'Indians', 'Indicating', 'Indication', 'Indications', 'Individual', 'Indo-China', 'Indonesia', 'Industrial', 'Industries', 'Industry', 'Ingo', 'Inheriting', 'Initially', 'Inn', 'Inna', 'Innumerable', 'Inside', 'Insofar', 'Inspections', 'Instant', 'Instead', 'Institute', 'Insurance', 'Insuring', 'Inter-American', 'Interested', 'International', 'Interstate', 'Intervenes', 'Interviews', 'Into', 'Investigation', 'Investment', 'Investors', 'Invitation', 'Invitations', 'Iowa', 'Iran', 'Ireland', 'Irene', 'Irina', 'Irish', 'Irwin', 'Is', 'Isaac', 'Isaacson', 'Island', \"Island's\", 'Islands', 'Isles', 'Isodine', 'Issue', 'It', \"It'll\", \"It's\", 'Italian', 'Italy', \"Italy's\", 'Its', 'Ivan', 'Ivory', 'Izvestia', 'J.', 'JA', 'Jack', 'Jackie', 'Jackson', 'Jacksonville', 'Jacqueline', 'Jacques', 'Jail', 'Jamaica', 'Jamaican', 'James', 'Jan.', 'Jana', 'Jane', 'Janet', 'Janice', 'Jansen', 'Janssen', 'January', 'Japan', 'Japanese', 'Jaross', 'Jay', 'Jean', 'Jefferson', 'Jenkins', \"Jenkins's\", 'Jenks', 'Jensen', 'Jeremiah', 'Jerome', 'Jerry', 'Jersey', \"Jersey's\", 'Jessy', 'Jesus', 'Jewish', 'Jim', 'Jimmie', 'Jimmy', 'Joan', 'Joanne', 'Jock', 'Jockey', 'Jody', 'Joe', 'Joey', 'John', \"John's\", 'Johnny', 'Johns', 'Johns-Manville', 'Johnson', 'Johnston', 'Jolly', 'Jon', 'Jones', 'Joplin', 'Jorda', \"Jorda's\", 'Jordan', 'Jorge', 'Joseph', 'Jossy', 'Journal', 'Journal-American', 'Journal-Bulletin', \"Journal-Bulletin's\", 'Joyce', 'Jr.', \"Jr.'s\", 'Jude', 'Judge', 'Judith', 'Judson', 'Judy', 'Julian', 'July', 'Jump', 'June', 'Junior', 'Juras', 'Jurisdiction', 'Jury', 'Jussel', 'Just', 'Justice', 'Juvenile', 'K.', 'K.J.P.', 'KKK', 'KQED', 'Kader', \"Kai-shek's\", 'Kaiser', 'Kalonji', 'Kamens', 'Kaminsky', 'Kan.', 'Kanin', 'Kankakee', 'Kans.', 'Kansas', 'Kaplan', 'Kapnek', 'Kappa', 'Karen', 'Karns', \"Karns'\", 'Karol', 'Kas.', 'Kasai', 'Kasavubu', 'Katanga', 'Katherine', 'Kathleen', 'Kathy', 'Kaufnabb', 'Kawecki', 'Kay', 'Kedzie', 'Keegan', 'Keeler', 'Kegham', 'Keizer', 'Kel', 'Kelly', 'Kelsey', 'Kemm', 'Ken', 'Kenilworth', 'Kennedy', \"Kennedy's\", 'Kenny', 'Kentfield', 'Kentucky', 'Kerby', 'Kercheval', 'Kern', 'Kerr', 'Kerrville', 'Kershbaum', 'Kestner', 'Khrush', 'Khrushchev', \"Khrushchev's\", 'Kieffer', 'Kiefferm', 'Kika', 'Kilhour', 'Kililngsworth', 'Killebrew', 'Killingsworth', 'Kimbolton', 'Kimmell', 'Kimpton', 'King', 'Kings', 'Kiowa', 'Kira', 'Kirkland', 'Kirov', \"Kirov's\", 'Kissak', 'Kittredge', 'Kivu', 'Kiwanis', 'Klan', 'Klaus', 'Klees', 'Klein', 'Kloman', 'Klux', 'Knauer', 'Knecht', 'Knickerbocker', 'Knight', 'Knights', 'Knoll', 'Knox', 'Kochanek', 'Kochaneks', 'Kolb', 'Kolpakova', 'Kong', 'Konstantin', 'Korman', 'Kowalski', \"Kowalski's\", \"Kramer's\", 'Kreisler', 'Kremlin', 'Kretchmer', 'Kriss', 'Kroger', 'Krogers', \"Krogers'\", 'Ku', 'Kubek', 'Kunkel', \"Kunkel's\", 'Ky.', 'L', 'L.', 'LSU', 'La', 'La.', 'LaSalle', 'Labor', 'Lacking', 'Lacy', 'Ladgham', 'Lady', 'Lafayette', 'Lafe', 'Laguna', 'Lake', 'Lamar', 'Lambert', 'Lancashire', \"Landis'\", 'Landrum-Griffin', 'Lane', 'Lang', 'Langsdorf', \"Lanin's\", 'Lao', 'Laos', 'Laotian', 'Laotians', 'Larimer', 'Larry', 'Larson', 'Las', 'Last', 'Later', 'Latin', 'Latinovich', 'Latter', 'Lauderdale', 'Laughlin', 'Lavaughn', 'Law', 'Lawford', 'Lawn', 'Lawrence', 'Lawrenceville', 'Lay', 'Le', 'Leader', 'Leaders', 'Leadership', 'Leading', 'League', \"League's\", 'Leaguers', 'Leary', 'Leatherman', 'Leatherneck', 'Leave', 'Leavitt', \"Leavitt's\", 'Led', 'Ledford', 'Ledge', 'Lee', 'Lefty', 'Legers', 'Legion', 'Legislative', 'Legislators', 'Legislature', 'Legislatures', 'Lehman', 'Lehner', 'Leighton', 'Leland', 'Lemon', 'Len', 'Leningrad', 'Lenny', \"Lenobel's\", 'Lenygon', \"Lenygon's\", 'Leo', 'Leon', 'Leonard', 'Leopold', \"Leopold's\", 'Leopoldville', 'Leroy', 'Lester', 'Let', 'Letitia', 'Letters', 'Leukemia', 'Leverett', 'Levitt', 'Levittown', 'Lewelleyn', 'Lewis', 'Lex', 'Lexington', 'Liberal', 'Liberals', 'Librarians', 'Library', 'Licenses', 'Lichtenstein', 'Lieberman', 'Lien', 'Life', 'Ligget', 'Light', 'Like', 'Lilac', 'Lindy', 'Line', 'Lint', 'Liquor', 'Lisle', 'Liss', 'Listed', 'Liston', 'Little', 'Livermore', 'Lives', 'Living', 'Llewellyn', 'Lloyd', 'Loan', 'Local', 'Locked', 'Lockheed', \"Lockheed's\", 'Lockies', 'Lodge', 'Loeb', 'Loen', 'Loewe', 'Logan', 'Lois', 'Lola', 'London', 'London-based', 'Long', 'Long-term', 'Longhorn', 'Longhorns', 'Longinotti', 'Lonsdale', \"Lonsdale's\", 'Look', 'Loop', 'Loper', 'Lopez', 'Lorain', 'Lord', 'Lorenz', 'Lorlyn', 'Los', 'Lou', 'Louchheim', 'Louis', \"Louis's\", 'Louise', 'Louisiana', 'Louisville', 'Lounge', 'Lovelace', 'Lovely', 'Lover', 'Lovett', 'Loving', 'Low-flying', 'Lowe', \"Lowe's\", 'Lown', 'Lt.', 'Ltd.', 'Lubbock', 'Lucille', 'Lucy', 'Ludlow', 'Ludwick', 'Ludwig', 'Luechtefeld', 'Luette', 'Luis', 'Luise', \"Luke's\", 'Lumia', 'Lummus', 'Lumpe', 'Lumumba', \"Lumumba's\", 'Luther', 'Lutheran', 'Luthuli', 'Lyle', 'Lynn', 'Lyon', 'M', 'M.', 'MVP', 'Mac', 'MacDonald', 'MacGregors', 'MacPhail', 'MacWhorter', 'Macassar', 'Machinists', 'Mack', 'Mackey', 'Macon', 'Macwhyte', 'Madame', 'Madison', 'Madonna', \"Maestro's\", 'Mag', 'Magarrell', 'Mail', 'Main', 'Maine', 'Maintenance', 'Majesties', 'Major', 'Major-League', 'Make', 'Mal', 'Malcolm', 'Mali', 'Mall', 'Malmud', 'Malone', 'Mame', 'Man', 'Mana', 'Manager', 'Managing', 'Mandarin', 'Manhattan', 'Manila', 'Mankowski', 'Manor', 'Mansion', \"Mansion's\", 'Mantle', \"Mantle's\", 'Manville', 'Many', 'Manzanola', 'Map', 'Maple', 'Maplecrest', 'Marc', 'March', 'Marcile', 'Marcus', 'Mardis', 'Marella', 'Margaret', 'Marie', 'Marietta', 'Marin', 'Marine', 'Marines', 'Maris', \"Maris's\", 'Mark', 'Marketing', 'Maroy', 'Marr', \"Marr's\", 'Marriage', 'Marshall', 'Marsicano', 'Marskmen', 'Martin', 'Martinelli', 'Martini', 'Marty', 'Marv', 'Marvin', 'Mary', 'Maryland', \"Maryland's\", 'Mason', 'Masonic', 'Masons', 'Masque', 'Mass.', 'Massachusetts', \"Massachusetts'\", 'Massey-Ferguson', 'Massimo', 'Master', 'Masters', 'Matching', 'Matisses', 'Mauch', 'Maureen', 'Maurice', 'Maurine', 'May', 'Maybe', 'Mayer', 'Mayfair', 'Maynard', 'Maynor', 'Mayor', \"Mayor's\", 'Mayor-nominate', 'Mayoral', 'Mays', \"Mays'\", 'Mazeroski', 'McAlester', 'McAlister', 'McAuliffe', 'McCauley', 'McClellan', \"McClellan's\", \"McCloy's\", 'McCluskey', 'McConnell', \"McConnell's\", 'McCormick', 'McDaniel', 'McDermott', 'McEachern', 'McElvaney', 'McElyee', 'McFarland', 'McGehee', 'McGeorge', 'McIntosh', 'McIntyre', 'McKee', 'McLauchlin', 'McLemore', 'McN.', 'McNair', 'McNaughton', 'McNeil', 'McRoberts', 'Md.', 'Me', 'Mead', 'Meadow', 'Meanwhile', 'Mears', 'Measure', 'Medical', 'Mediterranean', 'Meek', 'Meet', 'Melcher', 'Mellow', 'Melvin', 'Members', 'Memorial', 'Memphis', \"Men's\", 'Menderes', 'Menuhin', 'Mercer', 'Mercury', 'Mercy', 'Meredith', 'Merger', 'Merit', 'Merner', 'Merrill', 'Merritt', 'Mervin', 'Messrs', 'Messrs.', 'Met', 'Metal', 'Methodist', 'Metropolitan', 'Mets', 'Mexican', 'Mexico', \"Mexico's\", 'Meyer', 'Meyers', 'Meyle', 'Meyner', \"Meyner's\", 'Mfg.', 'Miami', 'Mich.', 'Michael', 'Michaels', 'Michaelson', 'Michigan', 'Mickey', \"Mickey's\", 'Middle', 'Midway', 'Midwest', 'Mike', 'Mile', 'Milenoff', 'Miles', 'Military', 'Mill', 'Miller', \"Miller's\", 'Millie', 'Mills', \"Mills's\", 'Milt', 'Milties', 'Milton', 'Milwaukee', \"Milwaukee's\", 'Mine', 'Mineral', 'Mining', 'Minister', 'Ministers', 'Miniver', 'Minneapolis', 'Minnesota', \"Minnesota's\", 'Minnie', 'Minoso', 'Miss', 'Miss.', 'Misses', 'Missiles', 'Mission', 'Missionary', 'Mississippi', \"Mississippi's\", 'Mississippians', 'Missoula', 'Missouri', \"Missouri's\", 'Mister', 'Misunderstanding', 'Mitchell', 'Mizell', 'Mmes', 'Mmes.', 'Mo.', 'Mobutu', 'Models', 'Modern', 'Moffett', 'Mohammedanism', 'Moise', 'Molinari', 'Moller', 'Mollusks', 'Molly', \"Molly's\", 'Molvar', 'Mom', 'Momentarily', 'Moments', 'Monday', \"Monday's\", 'Monet', 'Money', 'Mongolia', \"Mongolia's\", 'Monica', 'Monk', 'Monroe', 'Mont.', 'Monte', 'Montgomery', 'Monthly', 'Moody', 'Moore', 'More', 'Morehouse', 'Moreover', 'Morgan', 'Morgart', 'Moritz', 'Morley', 'Morocco', 'Morris', 'Morse', 'Mortar', 'Mortgage', 'Morton', \"Morton's\", 'Moscone', 'Moscow', 'Moses', 'Moss', 'Most', 'Mostly', 'Motel', 'Mother', 'Motor', 'Motorists', 'Moulton', 'Moultons', 'Mound', 'Moune', 'Mount', 'Mountains', 'Mouse', 'Moving', 'Mr.', 'Mrs', 'Mrs.', 'Mt.', 'Much', 'Mullen', 'Mullenax', 'Mulligatawny', 'Multnomah', 'Muncipal', 'Munger', 'Munoz', 'Murphy', 'Murray', 'Murtaugh', 'Murville', 'Museum', 'Musial', 'Music', 'Musica', \"Musician's\", 'Muskegon', 'Must', 'Mustang', 'Mustangs', 'Mutual', 'My', 'Myers', 'Myron', 'N.', 'N.C.', 'N.D.', 'N.J.', 'N.Y.', 'NATO', \"NATO's\", 'NBC', 'NE', 'NLRB', 'NW', 'NYU', 'Nae', 'Nagle', 'Nairne', 'Nakoma', 'Nam', 'Named', 'Nancy', 'Nanook', 'Narragansett', 'Nassau', 'Natalie', \"Nation's\", 'National', 'Nationalist', 'Nations', 'Natural', 'Naturally', 'Nautilus', 'Navigation', 'Navy', \"Navy's\", 'Nazarene', 'Nazi', 'Neal', 'Nearly', 'Nebraska', 'Negro', 'Negroes', 'Nehf', 'Neighbor', 'Neil', 'Neiman-Marcus', 'Neither', 'Nell', 'Nelson', 'Nepal', 'Net', 'Neuberger', 'Neumann', 'Neusteter', 'Neusteters', 'Nev.', 'Nevada', 'Nevah', 'Neveh', 'Nevertheless', 'New', 'Newark', 'Newbold', 'Newburger', 'Newcomers', 'Newfoundland', 'Newman', 'Newport', 'Newport-based', 'News', 'Newsom', 'Newsweek', 'Newton', 'Newtown', 'Next', 'Nicholas', 'Nichols', 'Nick', 'Nicklaus', 'Nieman', 'Night', 'Nightingale', 'Nijinsky', 'Nikita', 'Nilsen', 'Nilsson', 'Nine', 'Ninth', 'Nischwitz', \"Nischwitz'\", 'Niven', 'Nixon', \"Nixon's\", 'Njust', 'No', 'No.', 'Nobel', 'Nobody', \"Nobody's\", 'Noel', 'Nolan', 'None', 'Nonresidential', 'Nor', 'Nordmann', 'Norell', 'Nori', 'Norm', 'Norman', 'Norris-LaGuardia', 'Norristown', 'North', 'Northeast', 'Northern', 'Northwest', 'Northwestern', 'Norway', 'Not', 'Note', 'Noted', 'Nothing', 'Noting', 'Notre', 'Notte', 'Nov.', 'November', 'Novosibirsk', 'Now', 'Nugent', \"Nugent's\", 'Nunes', 'Nursing', 'Nuttall', 'Nyberg', 'O', \"O'Clock\", \"O'Connor's\", \"O'Hare\", \"O'Neill\", \"O'Sullivan\", \"O's\", 'O-B', 'O.', 'OK', 'Oak', 'Oakland', 'Occasionally', 'Ocean', 'Oceania', 'Oct.', 'October', 'Oddly', 'Odell', 'Odom', 'Of', 'Offenses', 'Office', 'Officer', \"Officers'\", 'Official', 'Officials', 'Ogden', 'Oh-the-pain-of-it', 'Ohio', 'Oil', 'Oilers', 'Okinawa', 'Okla.', 'Oklahoma', \"Ol'\", 'Old', 'Oldsmobile', 'Olerichs', 'Olive', 'Oliver', 'Olivet', 'Olivetti', 'Olivia', 'Olney', 'Olsen', 'Olvey', 'Olympic', 'Omega', 'Omsk', 'On', 'Once', 'One', 'Only', 'Opelika', 'Open', 'Opera', 'Operating', 'Operation', 'Opponents', 'Opposition', 'Or', 'Orange', 'Orchestra', 'Orchestre', 'Orcutt', 'Order', 'Ordinarily', 'Ordinary', 'Ore.', 'Oregon', 'Organization', 'Oriental', 'Oriole', 'Orioles', \"Orioles'\", 'Orkney', 'Orlando', 'Orleans', 'Oscar', 'Oslo', 'Other', 'Others', 'Otis', 'Oum', 'Our', 'Out', 'Outer', 'Outfielder', 'Outlays', 'Outside', 'Outstanding', 'Over', 'Owen', 'Owens', \"Owl's\", 'Owls', 'Oxford', 'Oxnard', 'Ozzie', 'P.', 'P.M.', 'P.m.', 'PTC', 'Pa.', 'Pablo', 'Pabor', 'Pacific', 'Packers', 'Packs', 'Pact', 'Page', 'Paget', 'Paine', 'Pakistan', 'Pakistanis', \"Pal's\", 'Palace', 'Palermo', 'Pall', 'Palm', 'Palmer', \"Palmer's\", 'Palo', 'Palsy', 'Pamela', 'Pampa', 'Panama', 'Pankowski', 'Pantas', 'Papa', 'Pappas', 'Paradise', 'Paradoxically', 'Paree', 'Parents', 'Parichy', 'Parichy-Hamm', 'Paris', 'Park', 'Parker', 'Parkhouse', 'Parliament', 'Parmer', 'Parrillo', 'Parsons', 'Participants', 'Participating', 'Party', \"Party's\", 'Pas', 'Pasadena', 'Paschal', 'Paschall', 'Paso', 'Passage', 'Passavant', 'Pat', 'Pate', 'Pathet', 'Patience', 'Patrice', 'Patricia', \"Patrick's\", 'Patrol', 'Patrolman', 'Patrolmen', 'Patterson', 'Patti', 'Patty', 'Paul', 'Paul-Minneapolis', 'Paulah', 'Pauleys', 'Pavletich', \"Pawtucket's\", 'Payson', 'Peace', 'Pearl', 'Pearson', 'Peck', 'Pecos', 'Peking', 'Pelham', 'Pen', 'Pennock', 'Pennsylvania', 'Pensacola', 'Pentagon', \"Pentagon's\", 'People', 'Perasso', 'Perennian', 'Performers', 'Perhaps', 'Perkins', 'Perlman', 'Perry', 'Persian', 'Person', 'Persons', 'Peruvian', 'Pesce', 'Pete', 'Peter', 'Petersburg', 'Peterson', 'Petipa-Tschaikowsky', 'Petitions', 'Petrini', 'Pezza', 'Pfaff', 'Pfau', 'Pfc.', 'Pfohl', 'Pharmical', 'Phelan', 'Phil', 'Philadelphia', \"Philadelphia's\", 'Philharmonique', 'Philip', 'Philippine', 'Phillies', 'Phillips', 'Philmont', 'Phoenix', 'Phouma', \"Phouma's\", 'Phyfe', 'Phyllis', 'Physicians', 'Pi', 'Picasso', 'Piedmont', 'Pierce', 'Piero', 'Pierre', 'Piersee', 'Pierson', 'Pike', 'Pillsbury', 'Pilots', 'Pinar', 'Pinsk', 'Piraro', 'Pirate', 'Pirates', \"Pirates'\", 'Pirie', 'Pitcher', 'Pitchers', 'Pittsboro', 'Pittsburgh', 'Place', 'Placentia', 'Plainfield', 'Plains', 'Plainview', 'Plan', 'Planning', 'Plant', 'Play', 'Playboy', 'Playboy-Show-Biz', 'Player', \"Player's\", 'Players', 'Plaza', 'Plea', 'Pleas', 'Plee-Zing', 'Plus', 'Pohl', \"Pohl's\", 'Pohly', 'Point', 'Polaris', 'Police', 'Policeman', 'Policemen', 'Policies', 'Political', 'Polls', 'Polo', 'Polytechnic', 'Pompano', 'Ponce', 'Pontiac', \"Poor's\", 'Port', 'Porter', 'Porters', 'Portland', \"Portland's\", 'Portugal', 'Portuguese', 'Possible', 'Post', 'Post-Dispatch', 'Potter', 'Powell', 'Pp.', 'Practice', 'Prairie', 'Pratt', 'Prattville', 'Pre-inaugural', 'Precise', 'Prejudice', 'Premier', \"Prentice's\", 'Prentice-Hall', 'Presbyterian', 'Presbyterian-St.', 'Presently', 'President', \"President's\", 'President-elect', 'Presidential', 'Presidents', 'Press', 'Pretty', 'Price', 'Priddy', 'Pride', 'Prince', 'Princes', \"Princes'\", 'Princess', 'Princeton', 'Principal', 'Principals', 'Prior', 'Private', 'Privately', 'Prix', 'Prize', 'Probably', 'Proceeds', 'Producer', 'Productivity', 'Professional', 'Professors', 'Profili', 'Progress', 'Proof', 'Property', 'Prosecutor', 'Providence', 'Pualani', 'Public', 'Publique', 'Published', 'Publisher', 'Publishing', 'Puddingstone', 'Puerto', 'Pullen', 'Pulling', 'Pullings', 'Pumpkin', 'Purchasing', \"Purdue's\", 'Purse', 'Put', 'Putt', 'Pye', 'Q.', 'Quaker', 'Quarterback', 'Queen', 'Queens', 'Quell', 'Question', 'Questions', 'Quincy', 'Quite', 'R', \"R's\", 'R-Bergen', 'R-Cape', 'R-Warren', 'R.', 'R.L.', 'Rabb', 'Race', 'Rackmil', 'Racquet', 'Radio', 'Rae', 'Raesz', 'Rafer', \"Raiders'\", 'Railroad', 'Railroads', 'Rainier', 'Ralph', 'Ramsey', 'Ranch', 'Randall', 'Random', 'Randy', 'Range', 'Ransom', 'Raoul', \"Raphael's\", 'Ratcliff', 'Rather', 'Ratto', 'Ray', 'Rayburn', \"Rayburn's\", 'Rayburn-Johnson', 'Raymond', 'Raymondville', 'Raymont', 'Rd.', 'Reaction', 'Read', 'Reading', 'Reama', 'Reared', 'Reconstruction', 'Recounting', 'Recovery', 'Red', 'Red-prone', 'Redbirds', \"Redbirds'\", 'Redevelopment', 'Reds', 'Reed', 'Reeder', 'Reedville', 'Reese', 'Refuses', 'Regarding', 'Regional', 'Register', 'Registrations', 'Regrets', 'Reichenberg', 'Reid', 'Reifenrath', 'Reilly', \"Reily's\", 'Relations', 'Relatively', 'Religious', \"Rembrandt's\", 'Renaissance', 'Reno', 'Reno-Lake', 'Rensselaer', 'Rep.', 'Repertory', 'Report', 'Reports', 'Representative', 'Representatives', 'Reprisals', 'Reps.', 'Republic', 'Republican', 'Republican-controlled', 'Republicanism', 'Republicans', \"Republicans'\", 'Reputedly', 'Requests', 'Research', 'Resentment', 'Reserve', 'Residential', 'Response', 'Restaurant', 'Result', 'Results', 'Retail', 'Returning', 'Rev.', 'Revenue', 'Revolutionary', 'Rex', 'Reyes', 'Reynolds', 'Rheims', 'Rhine-Westphalia', 'Rhode', 'Rhodes', 'Ricci', 'Rice', 'Richard', 'Richards', 'Richardson', 'Richey', 'Richmond', 'Richmond-Petersburg', 'Rickards', 'Rickenbaugh', \"Rickey's\", 'Rickshaw', 'Rico', 'Rider', 'Riders', 'Ridge', 'Rights', 'Rimini', 'Rio', 'Rip', 'Ritchie', 'Rite', 'River', 'Riverside', 'Riverview', 'Riviera', 'Rizzuto', 'Road', 'Roads', 'Rob', 'Robbins', 'Robert', 'Roberts', \"Roberts'\", 'Robertsons', 'Robinson', \"Robinson's\", 'Robinsonville', 'Rochester', 'Rockhall', 'Rocky', 'Roger', 'Rogers', 'Roland', 'Rollie', 'Rolnick', 'Roman', 'Romans', 'Romantic', 'Rome', 'Ron', 'Ronald', 'Ronnie', 'Rookie', 'Room', 'Roommates', 'Roos', 'Roosevelt', 'Roquemore', 'Rosburg', 'Rose', 'Rosella', 'Rosemary', 'Rosen', 'Ross', 'Rostagno', 'Rostagnos', 'Rosy', 'Rotary', 'Rotelli', 'Rouge', 'Round', 'Rounded', 'Route', 'Row', 'Rowley', 'Roy', 'Royal', 'Rozelle', 'Rte.', 'Rudolph', 'Ruggiero', 'Ruiz', 'Rule', 'Rules', 'Ruling', 'Rum', 'Rumford', 'Rural', 'Rush', 'Rusk', \"Rusk's\", 'Russ', 'Russell', \"Russell's\", 'Russia', \"Russia's\", 'Russian', 'Russians', \"Russians'\", 'Rusty', 'Ruth', \"Ruth's\", 'Rutherford', 'Rylie', 'Ryne', 'S', 'S.', 'S.C.', 'S.P.C.A.', 'SE', 'SEATO', 'SMU', \"SMU's\", 'SW', 'SWC', 'Saba', 'Sabbath', 'Sabol', 'Sacramento', 'Sacrifices', 'Saga', 'Said', 'Salary', 'Saledo', 'Salem', 'Sales', 'Salinger', 'Salt', 'Salter', 'Saltonstall', 'Salvador', 'Salvation', 'Salvatore', 'Sam', 'Same', 'Samoa', 'Sample', 'Samuel', 'Samuels', 'San', 'SanAntonio', 'Sanctuary', 'Sandman', 'Sandra', 'Sands', 'Sanger-Harris', 'Sanitary', 'Sanitation', 'Santa', \"Santa's\", 'Sapio', 'Sarasota', 'Sargent', 'Sarkees', 'Sarmi', 'Satterfield', 'Saturday', \"Saturday's\", 'Saul', 'Savage', 'Savannah', 'Savings', 'Saxton', 'Scampini', 'Scarsdale', 'Scenic', 'Schaefer', 'Schenk', 'Scherer', 'Schley', 'Schmalzried', 'Schmidl-Seeberg', 'School', 'Schools', 'Schrunk', 'Schultz', 'Schuyler', 'Schwab', 'Schwartz', 'Schweitzer', 'Science', 'Sciences', 'Scolatti', 'Scores', 'Scotch', 'Scotch-Irish-Scandinavian', 'Scotchgard', 'Scotland', 'Scots', 'Scott', 'Scottish', 'Scrapiron', 'Screvane', 'Screw', 'Scripps', 'Sea', 'Seagoville', 'Searles', 'Sears', 'Seats', 'Seattle', 'Second', 'Secret', 'Secretariat', 'Secretary', 'Secretary-General', 'Secretary-designate', 'Section', 'Security', 'See', 'See-through', 'Seeking', 'Seekonk', 'Seeks', 'Seerey', 'Sees', 'Seidel', 'Self', 'Semenov', 'Seminole', 'Semmes', 'Sen.', 'Senate', \"Senate's\", 'Senator', 'Senators', 'Send', 'Senese', 'Sens.', 'Sent', 'Sentry', 'Sept.', 'September', 'September-October', 'Sequoia', 'Series', 'Serra', 'Serve', 'Service', 'Services', 'Serving', 'Sethness', 'Seven', 'Seventeen', 'Several', 'Severna', 'Sexton', 'Shahn', 'Shamrock', 'Shantz', 'Shari', 'Sharkey', 'Sharon', 'Sharpe', \"Shartzer's\", 'Shatilov', 'Shaw', \"Shaw's\", 'Shay', 'She', \"She'll\", \"She's\", 'Shea', \"Shea's\", 'Sheeran', 'Sheets', 'Sheila', 'Shelby', 'Sheldon', 'Sheraton-Biltmore', 'Sheraton-Dallas', 'Sheriff', 'Sherman', 'Sherwood', 'Shiflett', 'Shipley', 'Shipman', 'Shirley', 'Shoettle', 'Sholom', 'Shop', \"Shop's\", 'Shopping', 'Shore', 'Shortcuts', 'Shortly', 'Shortstop', 'Should', 'Shoup', 'Show', 'Shreveport', 'Shrine', 'Shriver', 'Shrove', 'Siberia', 'Siciliana', 'Sid', 'Sidney', 'Siebern', 'Sievers', 'Sigma', 'Signal', 'Silvers', 'Similar', 'Simmons', \"Simmons'\", 'Simmonsville', 'Simms', 'Simon', 'Simonelli', 'Simpkins', 'Simpson', \"Simpson's\", 'Sims', 'Simultaneously', 'Sinatra', 'Since', 'Sinfonica', 'Singles', 'Sioux', 'Sir', 'Sisk', 'Sitting', 'Six', 'Sixth', 'Sixty-seven', 'Sizova', 'Skid', 'Skinner', 'Skinny', 'Skip', 'Skipjack', \"Skipjack's\", 'Skorich', 'Skylark', 'Skyline', 'Skyway', 'Slack', 'Slate', 'Slaughter', 'Sleeping', 'Slenczynka', 'Slim', 'Slocum', 'Slow', 'Small', 'Smallwood', 'Smith', \"Smith's\", 'Smith-Colmer', 'Smithfield', 'Smoky', 'Smythe', 'Snapped', 'Snead', 'Snellville', 'Snodgrass', \"Snyder's\", 'So', 'Social', 'Socialist', 'Societe', 'Society', 'Socola', 'Sokol', 'Solicitor', 'Solid', 'Solly', 'Soloviev', 'Some', 'Somerset', 'Somerville', 'Something', 'Sometimes', 'Somewhere', 'Son', 'Song', 'Sons', 'Soon', 'Sopsaisana', 'Sorrentino', 'Soule', 'Souphanouvong', 'Sousa', 'South', 'Southeast', 'Southeastern', 'Southern', 'Southern-Republican', 'Southerner', 'Southerners', 'Southwest', 'Southwestern', 'Souvanna', 'Soviet', 'Sox', 'Space', 'Spahn', \"Spahn's\", 'Spahnie', 'Spangled', 'Spanish', 'Spanish-born', 'Speaker', \"Speaker's\", 'Speakers', 'Speaking', 'Special', 'Spice-Nice', 'Spikes', 'Split', 'Sports', 'Sportsman', 'Spot', 'Spring', 'Springfield', 'Springs', 'Sprinkel', 'Sprinkle', 'Spurdle', 'Squad', 'Square', 'Squeezed', 'Sr.', 'St.', 'Stacy', 'Stadium', 'Stafford', 'Stage', 'Stagecoach', 'Staiger', 'Stalingr', 'Stallard', 'Stalling', 'Stamford', 'Stan', 'Standard', 'Stanley', 'Stansbery', 'Stanton', 'Star', 'Stark', 'Stars', 'Starting', 'Starts', 'State', 'Statements', 'States', \"States'\", 'Statesman', 'Station', 'Stay', 'Steak', 'Steel', 'Steelers', 'Steeves', 'Stein', \"Stein's\", 'Stella', 'Stengel', \"Stengel's\", 'Stennis', 'Stepanovich', 'Stephanie', 'Stephen', \"Stephen's\", 'Stephenson', 'Stepson', 'Sterling', 'Stern', 'Stetson', 'Stetsons', 'Steve', 'Stevens', \"Stevenses'\", 'Stevenson', 'Stewart', 'Stickler', 'Stickney', 'Still', 'Stirling', 'Stock', 'Stoll', 'Stone', \"Stone's\", 'Stonestown', 'Story', 'Stout', 'Strafaci', 'Stram', \"Stram's\", 'Stranahan', 'Strategic', 'Stratton', 'Street', 'Streeters', 'Streets', 'Strenuous', 'Stricken', 'Strickland', 'Strip', 'Stripes', 'Strong', 'Stuart', 'Student', 'Students', 'Studio', 'Study', 'Subsequent', 'Substance', 'Success', 'Successful', 'Such', 'Suddenly', 'Sudier', 'Sue', 'Sufficient', 'Sukarno', 'Sulcer', 'Sullivan', 'Sulphur', 'Sum', 'Summer', 'Summerdale', 'Sunay', 'Sunday', \"Sunday's\", 'Sunman', 'Sunny', 'Sunnyvale', 'Sunrise', 'Sunset', 'Sunshine', 'Super', 'Superior', 'Supervisor', 'Supply', 'Supreme', 'Supt.', 'Surprised', 'Surrounding', 'Surveys', 'Survivors', 'Susan', 'Sustaining', 'Sutherland', 'Sweden', 'Sweet', 'Swelling', 'Swim', 'Swine', 'Swiss', 'Switzerland', 'Sybert', 'Sydney', 'Sylvania', 'Symington', 'Symonds', 'Symphony', 'Syria', 'System', 'T.', 'TCU', \"TCU's\", 'TEA', 'TNT', 'TV', 'Tabb', 'Tactics', 'Taft-Hartley', 'Tahoe', 'Tailback', 'Take', 'Taking', 'Talking', 'Tallahassee', 'Tareytown', 'Tarrant', 'Tarzan', 'Task', 'Tau', 'Taussig', 'Tawes', 'Tax', 'Tax-free', 'Taxation', 'Taylor', 'Teachers', 'Teaching', 'Tearle', 'Tech', \"Tech's\", 'Tech.', 'Technology', 'Ted', 'Tee', 'Teleprompter', 'Television-Electronics', 'Tell', 'Teller', 'Temple', 'Tenn.', \"Tennessee's\", 'Tennis', 'Tension', 'Ter.', 'Terral', 'Terror', 'Terry', 'Testament', 'Testifies', 'Teter', 'Tex', 'Tex.', 'Texan', 'Texans', 'Texas', \"Texas'\", 'Thailand', 'Thakhek', 'That', \"That's\", 'The', 'Theater', 'Theatre', 'Their', 'Then', 'Theodore', 'Theology', 'There', \"There's\", 'Thereafter', 'Therefore', 'These', 'Thesis', 'They', \"They'll\", \"They're\", \"They've\", 'Thieves', 'Things', 'Third', 'Thirteen', 'Thirty-one', 'This', 'Thomas', 'Thompson', 'Thornton', 'Those', 'Though', 'Thousands', 'Threat', 'Three', 'Threshold', 'Thrift', 'Throneberry', \"Throneberry's\", 'Through', 'Throw', 'Thru', 'Thrush', 'Thruston', 'Thurman', 'Thursday', \"Thursday's\", 'Thus', 'Tiao', 'Tibetan', 'Tic-Tac-Toe', 'Ticker', 'Tieken', 'Tift', 'Tigard', 'Tim', 'Time', 'Times', 'Times-Picayune', 'Tims', 'Tipoff', 'Tires', \"Titche's\", 'To', 'Today', \"Today's\", 'Todd', 'Tokyo', 'Toll', 'Tom', \"Tom's\", 'Tommie', 'Tommy', 'Toni', 'Tonight', 'Tony', 'Tooling', 'Toppers', 'Toronto', 'Total', 'Totaling', 'Tougas', 'Tournament', 'Tower', 'Town', 'Towne', 'Township', 'Toying', 'Toys', 'Track', 'Tractor', 'Trade', 'Trading', 'Traffic', 'Trager', 'Trail', 'Tranquility', 'Transportation', 'Transylvania', 'Trap', 'Traveler', 'Travelers', 'Traxel', 'Treadwell', 'Treasury', 'Treatment', 'Treaty', 'Tree', 'Trenton', \"Tribe's\", 'Tribune', 'Trichieri', 'Trigg', 'Trimble', 'Trinity', 'Troop', 'Trooper', 'Troopers', 'Trophy', 'Tropic', 'Trouble-free', 'Troup', 'Troy', 'Truck', 'Truman', 'Trust', 'Trustee', 'Trustees', 'Tshombe', 'Tsitouris', 'Tualatin', 'Tuberculosis', 'Tucson', 'Tudor', 'Tuesday', \"Tuesday's\", 'Tulane', 'Tulsa', 'Tune', 'Tunis', 'Tunisia', 'Tunisian', 'Tuohy', 'Turandot', 'Turin', 'Turk', 'Turkey', 'Turkish', 'Turner', 'Turnpike', \"Tussard's\", 'Tuttle', \"Tuttle's\", 'Twelve', 'Twenty-four', 'Twenty-one-year-old', 'Twins', 'Twist', 'Two', 'Tyler', 'Typical', 'Tyson', 'U-2', 'U-I', 'U.', \"U.'s\", 'U.N.', \"U.N.'s\", 'U.S.', \"U.S.'s\", \"U.S.S.R.'s\", 'UCLA', 'UGF', 'UN', 'UPI', 'US', 'USN.', 'USSR', 'Uhles', 'Ullman', 'Ultimately', 'Uncas', 'Uncle', 'Unconscionable', 'Under', 'Underlying', 'Underwood', \"Underwood's\", 'Unfortunately', 'Union', 'Unit', 'United', 'Universal-International', 'University', \"University's\", 'Unlike', 'Until', 'Urged', 'Uruguay', 'Use', 'Using', 'Usually', 'Utah', 'V-1', 'V.', 'Va.', 'Vacancy', 'Vagabonds', 'Vague', 'Valedictorian', 'Valerie', 'Valley', 'Valuable', 'Van', 'Vandiver', 'Varani', 'Various', 'Vast', \"Veeck's\", 'Vegas', 'Venable', 'Venturi', 'Verboort', 'Vermeersch', 'Vermont', 'Vern', 'Vernava', 'Vernon', 'Vernor', 'Vero', 'Verrone', 'Verstandig', 'Very', 'Vic', 'Vice', 'Vice-President', 'Viceroy', 'Vickery', 'Vicky', 'Victim', 'Vienna', 'Vientiane', 'Viet', 'Vieth', 'Vietnam', 'Vietnamese', 'Vieux', 'View', 'Viewing', 'Vikings', 'Village', 'Vincent', 'Vinegar', 'Vinson', 'Virdon', 'Virgil', 'Virgin', 'Virginia', 'Virsaladze', 'Vita', 'Vital', 'Vivacious', 'Vivier', 'Vladilen', 'Vocational', 'Voiture', 'Volney', 'Volume', 'Voorhees', 'Voters', 'Vroman', 'W', 'W.', \"W.'s\", 'W.M.', 'Wabash', 'Wacker', \"Wackers'\", 'Wacklin', 'Waddell', 'Waggin', 'Wagner', \"Wagner's\", 'Walbridge', 'Waldorf-Astoria', 'Wales', 'Walker', 'Walkers', 'Wall', 'Wallace', 'Wally', 'Walnut', 'Walsh', 'Walter', 'Walters', 'Wangemans', 'Wansley', 'War', 'Ward', 'Wards', 'Warren', 'Warwick', 'Wash.', 'Washington', 'Washington-Alexandria', 'Washington-Oregon', 'Water', 'Waters', 'Watson', 'Waveland', 'Waxworks', 'Way', 'Wayne', 'We', \"We'd\", \"We'll\", \"We're\", \"We've\", 'Wealth', 'Weatherford', 'Weaver', 'Webster', 'Wednesday', \"Wednesday's\", 'Week', 'Weeks', 'Wegener', 'Weinberg', 'Weinstein', \"Weinstein's\", 'Weissmuller', 'Welborn', 'Weldon', 'Welfare', 'Well-wishers', 'Wellesley', 'Wells', 'Wellsley', 'Wellsville', 'Welsh', 'Welton', 'Wendell', 'Wendells', 'Werner', 'Wert', \"Wert's\", 'Wes', 'Wesley', 'West', \"West's\", 'Western', 'Western-style', 'Westfield', 'Westinghouse', 'Westminster', 'Westphalia', 'Wexler', 'What', \"What's\", 'Whatever', 'Whee', 'Wheel', 'Wheeler', 'Whelan', 'When', 'Where', 'Which', 'While', 'Whipple', 'White', 'Whitey', 'Whitfield', 'Whitney', 'Why', 'Wichita', 'Wick', 'Wide', 'Wilbur', 'Wild', 'Wilderness', 'Wiley', 'Wilhelm', 'Wilkinson', 'Willamette', 'Willard', 'Willett', 'William', 'Williams', 'Willie', \"Willie's\", 'Willy', 'Wilmette', 'Wilmington', 'Wilshire', 'Wilson', 'Winchell', 'Winchester', 'Winds', 'Windsor', 'Wingback', 'Winnetka', 'Winston', 'Winthrop', 'Wise', 'Wish', 'Wissahickon', 'With', 'Within', 'Without', 'Wolcott', 'Wolverton', \"Woman's\", 'Women', \"Women's\", 'Woodland', 'Woodrow', 'Woodyard', 'Woonasquatucket', 'Word', 'Work', 'Workers', 'Works', 'Workshop', 'Workshops', 'World', 'Worrell', 'Worth', 'Would', \"Wouldn't\", 'Wragge', 'Wright', 'Wrigley', 'Write', 'Writer', 'Writers', \"Writers'\", 'Wyman', 'Wyoming', 'Ximenez-Vargas', 'Y-Teen', 'Y.', 'Yankee', 'Yankees', \"Yankees'\", 'Yanks', \"Yanks'\", 'Yards', 'Year', \"Year's\", 'Yehudi', 'Yes', 'Yet', 'Yogi', 'Yokel', 'York', \"York's\", 'York-Pennsylvania', 'You', \"You'll\", \"You're\", 'Young', 'Younger', 'Youngsters', 'Youth', 'Yuri', 'Zealand', 'Zebek', 'Zeising', 'Zimmerman', 'Zinman', 'Zoe', 'Zone', 'Zoning', 'Zubkovskaya', 'Zurcher', 'Zurich', '``', 'a', 'a.m.', 'abandoned', 'abandonment', 'abide', 'abilities', 'ability', 'ablaze', 'able', 'aboard', 'abolish', 'abortive', 'about', 'above', 'abroad', 'abrupt', 'absence', 'absent', 'absolute', 'absolutely', 'absorb', 'absorbed', 'abstaining', 'abstention', 'abuse', 'abuses', 'acacia', 'academic', 'academies', 'accelerated', 'accent', 'accented', 'accept', 'acceptable', 'acceptance', 'accepted', 'accepting', 'access', 'accessories', 'accident', 'accidentally', 'acclaim', 'acclaimed', 'acclimatized', 'accommodated', 'accommodations', 'accomodations', 'accompanied', 'accompanying', 'accomplish', 'accomplished', 'accomplishment', 'accord', 'according', 'accordion', 'accosted', 'account', 'accounted', 'accounts', 'accredited', 'accumulation', 'accurate', 'accuse', 'accused', 'ace', 'achieve', 'achieved', 'achievement', 'achievements', 'achieves', 'aching', 'acid', 'acknowledge', 'acknowledged', 'acknowledgment', 'acquaint', 'acquaintance', 'acquire', 'acquired', 'acquisition', 'acquittal', 'acre', 'acreage', 'acres', 'acrobatic', 'across', 'act', 'acted', 'acting', 'action', 'actions', 'active', 'activities', 'activity', 'actors', 'actress', 'acts', 'actual', 'actually', 'acute', 'ad', 'adamant', 'adaptation', 'adapting', 'add', 'added', 'addicts', 'adding', 'addition', 'additional', 'address', 'addressed', 'addresses', 'addressing', 'adds', 'adept', 'adequate', 'adequately', 'adjoining', 'adjourned', 'adjourning', 'adjournment', 'adjust', 'adjusted', 'adjustment', 'adjustments', 'administered', 'administers', 'administration', \"administration's\", 'administrative', 'administrator', 'administrators', 'adminstration', 'admired', 'admission', 'admit', 'admittance', 'admitted', 'admitting', 'adopt', 'adopted', 'adoption', 'adult', 'adults', 'advance', 'advanced', 'advances', 'advantage', 'advantages', 'adversaries', 'adversary', 'adverse', 'advertises', 'advertising', 'advertising-conscious', 'advice', 'advisability', 'advised', 'advisement', 'adviser', 'advisers', 'advisors', 'advisory', 'advocacy', 'advocate', 'advocating', 'aerial', 'aerials', 'aeronautical', 'affair', 'affairs', 'affect', 'affected', 'affects', 'affiliated', 'affiliations', 'affirmation', 'affixed', 'afford', 'afloat', 'aforementioned', 'afraid', 'aft', 'after', 'aftermath', 'afternoon', 'afternoons', 'again', 'against', 'age', 'aged', 'aged-care', 'agencies', 'agency', 'agenda', 'agent', 'agents', 'ages', 'aggravates', 'aggression', 'aggressive', 'aggressively', 'aggressiveness', 'agitating', 'ago', 'agonizing', 'agree', 'agreed', 'agreeing', 'agreement', 'agreements', 'agricultural', 'agriculture', 'ahead', 'aid', 'aid-to-education', 'aide', 'aided', 'aides', 'aiding', 'aids', 'ailerons', 'ailing', 'aimed', 'aiming', 'aims', \"ain't\", 'air', 'air-conditioned', 'air-conditioning', 'aircraft', 'airfield', 'airlines', 'airplane', 'airport', 'airstrip', 'aisle', 'al', 'alarmingly', 'alcoholics', 'alert', 'alienated', 'alike', 'alive', 'all', 'all-American', 'all-automatic', 'all-county', 'all-important', 'all-out', 'all-round', 'all-time', 'all-woman', 'allegations', 'alleged', 'allegedly', 'alleging', 'allergic', 'alliance', \"alliance's\", 'allied', 'allies', 'allocate', 'allocated', 'allocation', 'alloted', 'allotment', 'allotted', 'allotting', 'allow', 'allowance', 'allowances', 'allowed', 'allowing', 'allows', 'ally', 'almost', 'alone', 'along', 'alongside', 'aloud', 'already', 'also', 'alter', 'alterations', 'altered', 'alternate', 'alternative', 'alternatives', 'altho', 'although', 'altitude', 'always', 'am', 'amateur', 'amateurish', 'amazement', 'amazing', 'ambiguous', 'ambition', 'ambitious', 'ambled', 'ambulance', 'amend', 'amended', 'amending', 'amendment', 'amendments', 'amiable', 'amicable', 'amid', 'among', 'amount', 'amounted', 'amounts', 'ample', 'an', 'analysis', 'ancestor', 'ancient', 'and', 'anecdote', 'anemic', 'angry', 'animal', 'animals', 'animated', 'animism', 'ankle', 'ankles', 'anniversary', 'announce', 'announced', 'announcement', 'announcements', 'announcing', 'annual', 'annually', 'anomalies', 'anonymous', 'another', \"another's\", 'answer', 'answerable', 'answered', 'ant', 'antagonism', 'antagonisms', 'ante', 'anti', 'anti-Colmer', 'anti-Kennedy', 'anti-Negro', 'anti-monopoly', 'anti-organization', 'anti-submarine', 'anti-trust', 'anticipated', 'antidote', 'antiquarians', 'antiques', 'ants', 'any', 'anybody', 'anymore', 'anyone', 'anything', 'anytime', 'anyway', 'anywhere', 'apart', 'apartment', 'apartment-building', 'apartments', 'apologetically', 'apparent', 'apparently', 'appeal', 'appealed', 'appealing', 'appeals', 'appear', 'appearance', 'appearances', 'appeared', 'appearing', 'appears', 'appeasement', 'applaud', 'applause', 'appliances', 'applicant', 'application', 'applications', 'applied', 'appliques', 'apply', 'applying', 'appoint', 'appointed', 'appointee', 'appointing', 'appointment', 'appointments', 'appraisal', 'appraisers', 'appreciate', 'appreciated', 'appreciation', 'apprentice', 'apprentices', 'approach', 'approached', 'approaching', 'appropriate', 'appropriation', 'appropriations', 'approval', 'approve', 'approved', 'approximately', 'apt', 'aptly', 'arc', 'archaeology', 'arched', 'arches', 'architect', 'architecture', 'ardor', 'are', 'area', 'areas', \"aren't\", 'arenas', 'argue', 'argued', 'argument', 'arguments', 'arise', 'arises', 'arithmetical', 'arm', 'armchairs', 'armed', \"armory's\", 'arms', 'army', 'arose', 'around', 'arouse', 'aroused', 'arrange', 'arranged', 'arrangement', 'arrangements', 'array', 'arrears', 'arrest', 'arrested', 'arrests', 'arrival', 'arrive', 'arrived', 'arson', 'art', 'article', 'artificial', 'artillery', 'artist', 'artistic', 'artists', 'arts', 'as', 'ashes', 'ashore', 'aside', 'ask', 'asked', 'asking', 'asks', 'aspect', 'aspects', 'assailant', 'assailed', 'assault', 'assaulted', 'assaulting', 'assaults', 'assemblage', 'assemble', 'assembled', 'assemblies', 'assembly', 'assent', 'asserted', 'assertion', 'assessment', 'assessments', 'assessors', 'asset', 'assets', 'assign', 'assigned', 'assignment', 'assignments', 'assist', 'assistance', 'assistant', 'assisted', 'assisting', 'associate', 'associated', 'associates', 'association', \"association's\", 'assume', 'assumed', 'assumption', 'assure', 'assured', 'assuring', 'astray', 'at', 'at-bats', 'athlete', \"athlete's\", \"athletes'\", 'athletic', 'athletics', 'atmosphere', 'atom', 'atomic', 'attached', 'attachment', 'attack', 'attacked', 'attacking', 'attacks', 'attactive', 'attainment', 'attempt', 'attempted', 'attempting', 'attempts', 'attend', 'attendants', 'attended', 'attending', 'attends', 'attention', 'attire', 'attitude', 'attorney', 'attorneys', 'attract', 'attracted', 'attracting', 'attraction', 'attractive', 'attributable', 'attributed', 'audience', 'audio-visual', 'auditorium', 'augment', 'august', 'aunt', 'aunts', 'auspices', 'auspiciously', 'austere', 'author', 'authoritative', 'authorities', 'authority', 'authorize', 'authorized', 'authorizing', 'auto', 'automatic', 'automatically', 'automobile', 'autonomy', 'autumn', 'availability', 'available', 'avant', 'avenue', 'average', 'averages', 'averaging', 'avid', 'avidly', 'avoid', 'avoided', 'avoids', 'awaited', 'awaiting', 'awakening', 'award', 'awarded', 'awarding', 'awards', 'aware', 'awareness', 'away', 'awe', 'awed', 'awoke', 'axiomatic', 'aya', 'ayes', 'babies', 'baby', 'bachelor', 'back', 'backbone', 'backed', 'background', 'backgrounds', 'backs', 'bad', 'badly', 'bag', 'baggage', 'bags', 'bail', 'bake-offs', 'baked', 'baking', 'balance', 'balanced', 'balconies', 'balding', 'balking', 'ball', 'ball-carriers', 'ball-hawking', 'ballet', 'ballets', 'ballgowns', 'ballot', 'ballots', 'ballplayer', 'ballroom', 'balls', 'ban', 'band', 'bandit', 'bandstand', 'baneful', 'bang', 'banjo', 'bank', 'banked', 'banker', 'bankers', 'bankrupt', 'bankruptcy', 'banks', 'banned', 'banquet', 'bans', 'banshees', 'bar', 'barbecue', 'barber', 'barbs', 'bare', 'barely', 'bargain', 'bargaining', 'barge', 'barn', 'barrage', 'barred', 'barrel', 'barriers', 'bars', 'base', 'base-runner', 'base-stealing', 'baseball', \"baseball's\", 'baseballight', 'baseballs', 'based', 'baseman', 'bases', 'basic', 'basically', 'basis', 'basketball', 'bass', 'bat', 'batch', 'bateau', 'bath', 'baton', 'bats', 'battalion', 'battalions', 'batted', 'batter', 'battered', 'batters', 'battery', 'batting', 'battle', 'battleground', 'battling', 'bay', 'bayonet', 'be', 'beach', 'beads', 'beaming', 'bean', 'bear', 'beardown', 'bearing', 'bearings', 'beat', 'beaten', 'beating', 'beatnik', 'beautiful', 'beautifully', 'beauty', 'became', 'because', 'become', 'becomes', 'becoming', 'bed', 'bed-time', 'bedridden', 'bedroom', 'bedrooms', 'beds', 'bedtime', 'beef', 'been', 'beer', 'before', 'began', 'beggar', 'begging', 'begin', 'beginning', 'begins', 'begun', 'behalf', 'behaving', 'behavior', 'behind', 'being', 'belated', 'belatedly', 'belief', 'beliefs', 'believe', 'believed', 'believes', 'believing', 'bellboys', 'belong', 'belonged', 'belonging', 'belongs', 'below', 'belt', 'belted', 'belting', 'bench', 'benches', 'beneath', 'beneficiaries', 'benefit', 'benefits', 'bent', 'beside', 'bespectacled', 'best', 'bestowal', 'bestowed', 'bet', 'better', 'betting', 'between', 'beyond', 'bicameral', 'bicycle-auto', 'bid', 'bids', 'biennial', 'big', 'big-league', 'bigger', 'biggest', 'bilateral', 'bill', \"bill's\", 'billed', 'billing', 'billion', 'bills', 'binding', 'biography', 'biologist', 'biology', 'bipartisan', 'bird', 'birdie', 'birdied', 'birdies', 'birds', 'birth', 'birthday', \"bishops'\", 'bit', 'bite', 'bites', 'bitter', 'biz', 'blabbed', 'black', 'blacked', 'blackmail', 'blackout', 'blades', 'blame', 'blamed', 'blast', 'blasted', 'blasting', 'blazing', 'bleacher-type', 'bleachers', 'bleak', 'blended', 'blind', 'bloc', 'block', 'blocked', 'blond', 'blonde', 'blood', 'bloodstream', 'blow', 'blows', 'bludgeon', 'blue', 'blue-uniformed', 'blueberries', 'bluebonnets', 'blueprints', 'blues', 'blundered', 'blunders', 'blunt', 'bluntly', 'blunts', 'board', \"board's\", 'boarded', 'boarding', 'boards', 'boast', 'boasted', 'boasting', 'boatload', 'boats', 'bobbles', 'bobby-sox', 'bodice', 'bodies', 'bodily', 'body', \"body's\", 'bogey', 'bogeyed', 'bogeys', 'boil', 'boiling', 'boils', 'boldly', 'boldness', 'bolted', 'bomb', 'bomber', 'bombers', 'bombing', 'bombs', 'bonanza', 'bond', 'bonding', 'bonds', 'bondsman', 'boobify', 'boogie', 'book', 'book-review', 'book-selection', 'bookcases', 'booked', 'bookkeeping', 'booklists', 'books', 'bookseller', 'boom', 'boomed', 'boos', 'boost', 'boosting', 'boosts', 'border', 'bordering', 'borders', 'bored', 'borer', 'born', 'borne', 'borrowed', 'borrower', 'borrowing', 'boss', 'bossman', 'both', 'bothered', 'bottled', 'bottleneck', 'bottling', 'bottom', 'bought', 'bounced', 'bouncy', 'bound', 'boundaries', 'bounded', 'bounds', 'bounty', 'bowed', 'bowl', 'bows', 'box', 'boxer', 'boxes', 'boxy', 'boy', \"boy's\", 'boy-manager', 'boycott', 'boys', 'braced', 'brain', 'brainwashing', 'branch', 'branches', 'brand', 'breaching', 'bread', 'break', 'break-even', 'breakdown', 'breakfast', 'breaking', 'breakoff', 'breaks', 'breakups', 'breast', 'breasts', 'breathes', 'breed', 'brethren', 'bric-a-brac', 'brick', 'bridal', 'bride', \"bride's\", 'bridegroom', \"bridegroom's\", 'bridesmaids', 'bridge', 'bridges', 'brief', 'briefing', 'briefly', 'briefs', 'bright', 'brilliant', 'bring', 'bringing', 'brings', 'brink', 'brisk', 'briskly', 'broad', 'broadcast', 'broaden', 'broadened', 'brocade', 'broccoli', 'brochures', 'broke', 'broken', 'brokerage', 'brokers', 'bronzy-green-gold', 'brooding', 'brook', 'brother', 'brother-in-law', 'brotherly', 'brothers', 'brought', 'brown', 'bruises', 'brunches', 'brushed', 'brutality', 'bubble', 'bucked', 'buddies', 'buddy', 'budget', 'budgeted', 'budgets', 'buffet', 'buffets', 'build', 'build-up', 'builder', 'builders', \"builders'\", 'building', 'buildings', 'built', 'builtin', 'bulge', 'bulk', 'bulky', 'bull', 'bull-necked', \"bulletin'd\", 'bulletins', 'bulwark', 'bum', 'bumper', 'bunched', 'bundle', 'bundles', 'bunker', 'bunkered', 'bunt', 'bunter', 'bunters', 'burden', 'bureau', 'burglarproof', 'burglary', 'buried', 'burl', 'burned', 'burning', 'burns', 'burr', 'burrowed', 'burst', 'bus', 'buses', 'bushes', 'busied', 'business', 'businesses', 'businessman', 'businessmen', 'buss', 'bustling', 'busy', 'busy-work', 'but', 'butter', 'buy', 'buyers', 'buying', 'buys', 'by', 'by-laws', 'bypass', 'cab', 'cabinet', 'cabinetmakers', 'cabinets', 'cable', 'cabled', 'cadet', 'cafeteria', 'cafeterias', 'calamity', 'calculating', 'calendar', 'caliber', 'calico', 'call', 'called', 'calling', 'calls', 'calm', 'calmest', 'calypso', 'came', 'camera', 'cameras', 'camp', 'campaign', 'campaigned', 'campaigning', 'camping-out', 'camps', 'campus', 'can', \"can't\", 'cancel', 'canceled', 'candid', 'candidacy', 'candidate', 'candidates', 'candidly', 'candle', 'candor', 'candy', 'cane', 'canned', 'cannibalistic', 'cannot', 'canted', 'canvas', 'canvass', 'canvassed', 'canvassers', 'cap', 'capabilities', 'capable', 'capacity', 'capers', 'capita', 'capital', \"capital's\", 'capitalist', 'capitol', 'caps', 'capsule', 'captain', 'captivated', 'captivating', 'capture', 'captured', 'car', \"car's\", 'caramel', 'carcass', 'card', 'cardiac', 'care', 'career', 'careers', 'careful', 'carefully', 'carpenters', \"carpenters'\", 'carpet', 'carpeted', 'carpeting', 'carried', 'carriers', 'carries', 'carry', 'carrying', 'cars', 'cartels', 'carved', 'case', 'cases', 'cash', 'cashed', 'caskets', 'cast', 'casuals', 'catalogue', 'catapulted', 'catastrophe', 'catcher', 'catchers', 'catching', 'category', 'cats', 'caucus', 'caucuses', 'caught', 'cauliflower', 'cause', 'caused', 'causes', 'caution', 'cautioned', 'cautious', 'cease', 'cease-fire', 'ceased', 'celebrants', 'celebrate', 'celebrated', 'celebrates', 'celebrating', 'cell', 'cellar', 'cellist', 'cemetery', 'cent', 'center', 'centered', 'centers', 'central', 'centralization', 'centralized', 'cents', 'centuries', 'century', 'ceramic', 'cerebrated', 'ceremonial', 'ceremonies', 'ceremony', 'certain', 'certainly', 'certificate', 'certifying', 'chafing', 'chain', 'chains', 'chair', 'chairman', 'chairmanships', 'chairmen', 'chairs', 'chalk', 'challenge', 'challenged', 'challenger', 'challenges', 'challenging', 'chamber', 'chambers', 'champion', 'champions', 'championship', 'championships', 'champs', 'chance', 'chances', 'chandeliers', 'change', 'changed', 'changes', 'changing', 'channels', 'chaos', 'chaotic', 'chapel', 'chapter', \"chapter's\", 'chapters', 'character', 'characteristic', 'characterized', 'characters', 'charge', 'charged', 'charges', 'charging', 'charities', 'charity', 'charm', 'charmed', 'charming', 'chart', 'charter', 'chartered', 'chase', 'chat', 'chatte', 'chatting', 'cheap', 'cheaper', 'check', 'checked', 'checks', 'cheer', 'cheery', 'chef', 'chemical', 'chemicals', 'chemise', 'chemistry', 'cherish', 'cherished', 'chest', 'chestnut', 'chests', 'chic', 'chicanery', 'chicken', 'chief', 'chiefly', 'chiefs', 'chien', 'child', \"child's\", 'children', \"children's\", 'chip', 'chipped', 'chocolate', 'choice', 'choices', 'choke', 'choking', 'choose', 'choosing', 'chopper', 'choppy', 'chops', 'chore', 'choreography', 'chores', 'chorus', 'chose', 'chosen', 'chow', 'chrome', 'chum', 'church', \"church's\", 'church-state', 'churches', 'churchmen', 'cigaret', 'circulating', 'circulation', 'circumstances', 'circus', 'citation', 'cited', 'cities', 'citizen', 'citizenry', 'citizens', 'citizenship', 'city', \"city's\", 'city-wide', 'civil', 'civilian', 'civilians', 'claim', 'claimed', 'claiming', 'claims', 'clamoring', 'clarification', 'clash', 'clashes', 'class', 'classed', 'classes', 'classic', 'classical', 'classics', 'classified', 'classmates', 'classroom', 'classrooms', 'clay', 'clay-mining', 'clean', 'cleaner', 'cleaners', 'cleaning', 'clear', 'clearance', 'cleared', 'clearing', 'clearly', 'clears', 'clerical', 'clerical-lay', 'clerk', 'clicked', 'client', 'clientele', 'clients', \"clients'\", 'cliffhanging', 'climate', 'climaxed', 'climbed', 'climbing', 'clinic', 'cloakrooms', 'clobbers', 'clock', 'clocking', 'close', 'closed', 'closed-door', 'closely', 'closeness', 'closer', 'closest', 'closing', 'clothes', 'clothing', 'cloture', 'cloud', 'clouded', 'cloudless', 'clown', 'club', \"club's\", 'clubhouse', 'clubs', 'clue', 'clustered', 'clusters', 'clutch', 'co-chairmen', 'co-educational', 'co-op', 'co-operation', 'co-operative', 'co-ops', 'co-ordination', 'co-signers', 'coach', \"coach's\", 'coaches', 'coaching', 'coal', 'coalition', 'coast', 'coasted', 'coat', 'cobalt', 'cockpit', 'cocktail', 'cocky', 'coconut', 'code', 'codes', 'coeds', 'coercion', 'coffee', 'coincidence', 'coins', 'cold', 'cold-war', 'collaborated', 'collaborators', 'collapse', 'collapsed', 'colleagues', 'collect', 'collected', 'collecting', 'collection', 'collections', 'collective', 'collective-bargaining', 'collectors', 'collects', 'college', 'colleges', 'collegiate', 'collided', 'collision', 'collonaded', 'colonel', 'colonial', 'colonialism', 'colonialist', 'colonies', 'colony', 'color', 'colored', 'colorful', 'colors', 'colossus', 'colts', 'column', 'columnist', 'combat', 'combating', 'combination', 'combinations', 'combine', 'combined', 'combines', 'combining', 'combo', 'come', 'comeback', 'comedy', 'comes', 'comfort', 'comfortable', 'comforting', 'comic', 'coming', 'command', 'commandant', 'commander', 'commenced', 'commencing', 'commended', 'comment', 'commentator', 'commented', 'commenting', 'comments', 'commerce', 'commercial', 'commission', \"commission's\", 'commissioner', 'commissioners', 'commit', 'commitment', 'commitments', 'committee', \"committee's\", 'committees', 'committeewoman', 'commodities', 'commodity', 'common', 'communication', 'communications', 'communism', 'communist', 'communities', 'community', 'commuted', 'commuting', 'compact', 'compacts', 'companies', 'companion', 'companionship', 'company', \"company's\", 'comparable', 'comparatively', 'compare', 'compared', 'comparison', 'compartment', 'compassion', 'compassionate', 'compel', 'compelled', 'compensated', 'compensation', 'compensations', 'compete', 'competed', 'competence', 'competing', 'competition', 'competitive', 'competitively', 'competitor', 'competitors', 'compiled', 'complacency', 'complained', 'complaining', 'complaint', 'complementary', 'complete', 'completed', 'completely', 'completes', 'completing', 'completion', 'completions', 'complex', 'complexity', 'complicated', 'complication', 'components', 'composed', 'composition', 'composure', 'comprehensive', 'comprise', 'comprised', 'compromise', 'compulsory', 'computed', 'computers', 'comradeship', 'con', 'concede', 'conceded', 'concentrate', 'concentration', 'concern', 'concerned', 'concerns', 'concert', 'concertmaster', 'concerts', 'concessionaires', 'concessions', 'conciliatory', 'concluded', 'conclusion', 'conclusions', 'concrete', 'condemned', 'condemning', 'condiments', 'condition', 'conditioned', 'conditions', 'conduct', 'conducted', 'conducting', 'conductor', 'conductors', 'conducts', 'conferees', 'conference', \"conference's\", 'conferences', 'conferred', 'confessed', 'confessing', 'confession', 'confided', 'confidence', 'confident', 'confirm', 'confirmation', 'confirmed', 'confirming', 'conflict', 'conforms', 'confront', 'confrontation', 'confrontations', 'confronted', 'confronting', 'confronts', 'confusion', 'congealed', 'congenial', 'congestion', 'congratulated', 'congressional', 'congressmen', 'connect', 'connected', 'connection', 'connections', 'connotes', 'conpired', 'conquer', 'conscience', 'conscious', 'consecutive', 'consent', 'consequences', 'consequently', 'conservation', 'conservative', 'conservative-liberal', 'conservatives', 'conserve', 'consider', 'considerable', 'considerably', 'considered', 'considering', 'consisted', 'consistently', 'consisting', 'consists', 'consolidation', 'consonance', 'conspicuous', 'conspicuously', 'conspiracies', 'conspiracy', 'conspirators', 'conspired', 'constant', 'constantly', 'constituents', 'constituted', 'constitution', 'constitutional', 'constructing', 'construction', 'constructive', 'construed', 'consul', 'consulate', 'consult', 'consultant', 'consultation', 'consultations', 'consulted', 'consulting', 'consumed', 'consumer', 'consumers', 'contact', 'contacted', 'contain', 'contained', 'containing', 'contaminating', 'contemporary', 'contempt', 'contemptuous', 'contend', 'contended', 'contender', 'contendere', 'contented', 'contention', 'contest', 'contested', 'contests', 'continent', 'continents', 'contingency', 'contingent', 'continuance', 'continuation', 'continue', 'continued', 'continues', 'continuing', 'continuous', 'contract', 'contract-negotiation', 'contracted', 'contracting', 'contractor', \"contractor's\", 'contractors', 'contracts', 'contractual', 'contrast', 'contrasting', 'contrasts', 'contribs', 'contributed', 'contributing', 'contribution', 'contributions', 'contributors', 'control', 'controlled', 'controllers', 'controlling', 'controls', 'controversial', 'controversy', 'convenience', 'convenient', 'convening', 'convention', 'conventional', 'conversation', 'conversations', 'conversion', 'conversions', 'convert', 'converted', 'convertible', 'converting', 'convey', 'convicted', 'conviction', 'convince', 'convinced', 'cook', 'cooked', 'cookie', 'cookies', 'cooking', 'cool', 'cooled', 'coolest', 'coolheaded', 'cooperate', 'cooperating', 'cooperation', 'cooperative', 'coordinate', 'coordinating', 'coordination', 'coordinator', 'cope', 'copies', 'coping', 'copper', 'copy', 'cordial', 'core', 'corn', 'corner', 'cornering', 'cornerstone', 'corporate', 'corporation', 'corporations', 'corps', 'correct', 'corrected', 'correctly', 'correctness', 'correlated', 'correspondence', 'correspondent', 'correspondents', 'corresponding', 'corrupt', 'corruption', 'cost', 'costlier', 'costly', 'costs', 'costumes', 'cotillion', 'cottage', 'cotton', 'cotton-growing', 'couch', 'could', \"couldn't\", 'council', \"council's\", 'councils', 'counsel', 'counseled', 'counseling', 'count', 'counted', 'countian', 'counties', \"countin'\", 'counting', 'countless', 'countries', 'country', \"country's\", 'counts', 'county', \"county's\", 'county-wide', 'coup', 'couple', 'couples', 'courageous', 'course', 'courses', 'court', \"court's\", 'court-appointed', 'court-length', 'courteous', 'courtly', 'courtroom', 'courts', 'cousin', 'cover', 'coverage', 'covered', 'covering', 'covers', 'coveted', 'cows', 'coyly', 'crabapple', 'crabs', 'crack', 'cracked', 'crackpots', 'craftsman', 'craftsmen', 'crash', 'crashed', 'crashes', 'craven', 'crazy', 'crazy-wonderful', 'cream', 'create', 'created', 'creating', 'creation', 'creations', 'creative', 'creator', 'creature', 'credit', 'creditable', 'credited', 'credits', 'creed', 'crew', 'crews', 'crime', 'criminal', 'criminals', 'crimson', 'crippled', 'crippling', 'crises', 'crisis', 'criteria', 'critic', 'critical', 'criticisms', 'criticized', 'critics', 'crop', 'crops', 'cross', 'cross-examination', 'cross-section', 'crossed', 'crossing', 'crossroads', 'crosswalk', 'crowd', 'crowding', 'crowds', 'crown', 'crowning', 'crowns', 'crucial', 'crucified', 'cruelty', 'crushed', 'crusher', 'crushing', 'cry', 'crypt', 'crystal', 'cubic', 'cufflinks', 'cuisine', 'culminates', 'culminating', 'culmination', 'culpas', 'cultural', 'culture', 'cumulative', 'cup', 'curator', 'curbing', 'curious', 'currency', 'current', 'currently', 'cursing', 'custodian', 'custom-design', 'customers', 'customs', 'cut', 'cut-off', 'cutback', 'cuts', 'cutting', 'cyclical', \"d'etat\", \"d'hotel\", 'daily', 'dais', 'damage', 'damaged', 'damages', 'dampened', 'dance', 'dancer', 'dancers', 'dances', 'dancing', 'danger', 'dangerous', 'dangerously', 'dangers', 'danseur', 'dapper', 'dares', 'daring', 'dark', 'dark-haired', \"darlin'\", 'darling', 'dash', 'data', 'date', 'dated', 'dates', 'dating', 'daughter', 'daughters', 'dawn', 'day', \"day's\", 'daylight', 'days', 'dazzler', 'de', 'dead', 'deadline', 'deadlock', 'deaf', 'deal', 'dealer', 'dealers', 'dealing', 'dealt', 'dean', 'death', 'debate', 'debates', 'debentures', 'debonair', 'debut', 'debutante', 'debuting', 'debuts', 'decade', 'decadence', 'decades', 'decency', 'decent', 'decertify', 'decide', 'decided', 'decides', 'decision', 'decision-making', 'decisions', 'decisive', 'declaration', 'declare', 'declared', 'declares', 'declaring', 'decline', 'declined', 'declines', 'decolletage', 'decor', 'decorate', 'decorating', 'decoration', 'decorations', 'decorative', 'decorator', 'decorators', 'decrease', 'decree', 'decreeing', 'decried', 'dedicated', 'dedication', 'deducted', 'deductibility', 'deductible', 'deduction', 'deductions', 'deed', 'deemed', 'deep', 'deeper', 'deeply', 'default', 'defaulted', 'defeat', 'defeated', 'defeats', 'defective', 'defend', 'defendant', 'defendants', 'defenders', 'defending', 'defends', 'defense', 'defensive', 'deferred', 'deficiencies', 'deficiency', 'deficit', 'define', 'definite', 'definitely', 'definition', 'definitive', 'defraud', 'defray', 'degree', 'delay', 'delayed', 'delegate', 'delegates', 'delegation', 'delegations', 'deliberate', 'deliberately', 'deliberation', 'deliberations', 'delicate', 'delight', 'delighted', 'delightful', 'delinquency', 'deliver', 'delivered', 'delivering', 'delivery', 'demand', 'demanded', 'demanding', 'demands', 'democracy', 'democratic', 'demolished', 'demonstrate', 'demonstrated', 'demonstration', 'denied', 'denomination', \"denomination's\", 'denote', 'denounced', 'dense', 'density', 'dent', 'dental', 'denting', 'dentistry', 'denunciation', 'deny', 'denying', 'deodorant', 'departed', 'department', 'departments', 'departure', 'depend', 'depended', 'dependence', 'dependency', 'dependent', 'depending', 'depends', 'depletion', 'deplored', 'deposit', 'deposited', 'depositors', 'depreciation', 'depression', 'dept.', 'deputies', 'deputy', 'derive', 'derived', 'derives', 'dervishes', 'descendants', 'descent', 'described', 'describes', 'describing', 'description', 'desegregated', 'desegregation', 'desertion', 'deserts', 'deserves', 'design', 'design-conscious', 'designated', 'designed', 'designer', 'designers', 'designing', 'designs', 'desirable', 'desire', 'desired', 'desiring', 'desk', 'despair', 'desperate', 'despite', 'dessert', 'destined', 'destroy', 'destroyer', 'destroyers', 'destroying', 'detach', 'detachment', 'detail', 'detailed', 'details', 'detecting', 'detectives', 'detector', 'detente', 'detention', 'deteriorating', 'deterioration', 'determination', 'determine', 'determined', 'determining', 'deterrent', 'detested', 'detonation', 'detract', 'detriment', 'develop', 'developed', 'developing', 'development', 'developments', 'develops', 'device', 'devised', 'devote', 'devoted', 'devotion', 'diagnostic', 'dialects', 'diamond', 'diamond-studded', 'dichotomy', 'dictatorship', 'did', \"didn't\", 'die', 'died', 'diehard', 'diem', 'dies', 'difference', 'different', 'differently', 'difficult', 'difficulties', 'difficulty', 'dignitaries', 'dignity', 'dilemma', 'dimension', 'dimes', 'diminutive', 'dining', 'dinner', 'dinners', 'diocesan', 'diplomacy', 'diplomat', 'diplomatic', 'diplomats', 'dipped', 'direct', 'directed', 'directing', 'direction', 'directions', 'directive', 'directly', 'director', 'directorate', 'directors', 'dirt', 'disability', 'disable', 'disabuse', 'disagreed', 'disagreement', 'disallowed', 'disappointing', 'disappointment', 'disappointments', 'disapproval', 'disapprove', 'disarmament', 'disaster', 'disbanded', 'disbelief', 'discarded', 'discharge', 'discharged', 'discharging', 'disclosed', 'disclosure', 'disclosures', 'discounts', 'discourage', 'discouraged', 'discover', 'discovered', 'discovering', 'discredit', 'discredited', 'discrepancies', 'discrepancy', 'discriminate', 'discriminating', 'discrimination', 'discriminatory', 'discuss', 'discussed', 'discussing', 'discussion', 'discussions', 'disgusted', 'dish', 'disharmony', 'disheartening', 'dishes', 'disillusioned', 'disinterested', 'dismal', 'dismiss', 'dismissal', 'dismissed', 'disparities', 'dispatched', 'dispatching', 'display', 'displayed', 'displaying', 'displays', 'disposal', 'disposed', 'disposition', 'disproportionate', 'dispute', 'disputes', 'disrepute', 'dissatisfaction', 'dissension', 'dissent', 'dissents', 'distance', 'distant', 'distasteful', 'distinction', 'distinctly', 'distinguished', 'distracted', 'distressing', 'distribute', 'distributed', 'distribution', 'distributions', 'district', 'districts', 'disturbance', 'disturbing', 'disunity', 'dive', 'diversified', 'divide', 'divided', 'dividend', 'dividends', 'dividing', 'diving', 'division', 'divorce', 'divorced', 'divulging', 'do', 'docile', 'doctor', 'doctors', 'documentary', 'documents', 'does', \"doesn't\", 'dog', 'dogleg', 'dogs', 'doing', 'doings', 'doldrums', 'dole', 'dollar', 'dollars', 'domain', 'domestic', 'dominate', 'dominated', 'domination', \"don't\", 'donated', 'donations', 'done', 'donor', 'door', 'door-fronted', 'door-to-door', 'doorman', 'doormen', 'doors', 'doorstep', 'dormitories', 'dot', 'dots', 'double', 'double-bogeyed', 'double-crosser', 'double-header', 'doubled', 'doubleheader', 'doubles', 'doubling', 'doubly', 'doubt', 'doubted', 'doubtful', 'doubtless', 'dough', 'dour', 'down', 'down-payments', 'down-to-earth', 'downed', 'downhill', 'downstairs', 'downstream', 'downtown', 'downtrodden', 'dozen', 'dozens', 'drab', 'draft', 'drafted', 'drafts', 'dragged', 'dragging', 'dragnet', 'drain', 'drama', 'dramatic', 'drank', 'drastic', 'draught', 'draw', 'drawing', 'drawings', 'drawn', 'dread', 'dreadful', 'dreamed', 'dreams', 'dress', 'dressers', 'drew', 'driers', 'drifting', 'drifts', 'drill', 'drive', 'drive-in', 'driven', 'driver', 'drivers', \"drivers'\", 'drives', 'driveway', 'driving', 'drizzly', 'drop', 'dropped', 'dropping', 'drops', 'drought-seared', 'drove', 'drum', 'drums', 'drunk', 'drying', 'dud', 'due', 'duel', 'duels', 'duffer', 'duffers', 'dug', 'dull', 'dullest', 'dumb', 'dumping', 'duplicated', 'duplication', 'durable', 'duress', 'during', 'dust', 'duties', 'dutifully', 'duty', 'dwellings', 'dwindled', 'dying', 'dynamic', 'dynamite', 'dynamo', 'e.g.', 'each', 'eager', 'earlier', 'earliest', 'early', 'early-season', 'earn', 'earned', 'earned-run', 'earnest', 'earning', 'earnings', 'earns', 'earrings', 'ears', 'earth', \"earth's\", 'ease', 'eased', 'easier', 'easily', 'east', 'easy', 'easy-to-reach', 'eat', 'eating', 'ebony', 'eccentricity', 'echoes', 'economic', 'economically', 'economics', 'economist', 'economists', 'economize', 'economy', 'edge', 'edged', 'edges', 'edging', 'editing', 'edition', 'editor', 'educated', 'education', 'educational', 'educators', 'effect', 'effected', 'effective', 'effectively', 'effectiveness', 'effects', 'efficiency', 'efficient', 'efficiently', 'effort', 'efforts', 'eggs', 'eggshell', 'eight', 'eight-year', 'eighteen', 'eighteenth-', 'eighth', 'either', 'eject', 'elaborate', 'elder', 'elderly', 'elect', 'elected', 'election', 'elections', 'electors', 'electric', 'electrical', 'electricity', 'electronic', 'elegant', 'element', 'elementary', 'elements', 'elephants', 'elevated', 'eleven', 'eleventh', 'eligible', 'eliminate', 'eliminates', 'eliminating', 'elite', 'else', \"else's\", 'elsewhere', 'eluded', 'emasculated', 'embankment', 'embargo', 'embarrassing', 'embassies', 'embassy', 'embedded', 'embezzlement', 'embezzling', 'embossed', 'embroidered', 'emerge', 'emergency', 'emerges', 'eminent', 'emissaries', 'emissary', 'emotion', 'emotionally', 'emphasis', 'emphasize', 'emphasized', 'emphasizes', 'emphasizing', 'empires', 'employ', 'employed', 'employee', 'employees', 'employer', 'employers', \"employers'\", 'employes', 'employment', 'employments', 'employs', 'en', 'enabled', 'enables', 'enabling', 'enact', 'enacted', 'enacting', 'enactment', 'enchantment', 'encounter', 'encounters', 'encourage', 'encouraged', 'encouragement', 'encouraging', 'end', 'endangering', 'endeared', 'ended', 'ending', 'endorse', 'endorsed', 'endowment', 'endowments', 'ends', 'endurance', 'endure', 'enemies', 'enemy', 'energy', 'enforce', 'enforced', 'enforcement', 'enforcers', 'enforcing', 'engage', 'engaged', 'engagement', 'engagements', 'engaging', 'engine', 'engineer', 'engineering', 'engineers', \"engineers'\", 'engines', 'engrossed', 'engulfed', 'enigma', 'enjoy', 'enjoyed', 'enjoys', 'enlarge', 'enlarged', 'enlarging', 'enlisted', 'enlivened', 'enmity', 'enormous', 'enough', 'enriching', 'enrollment', 'enrollments', 'ensconced', 'ensembles', 'ensued', 'entail', 'entails', 'enter', 'entered', 'entering', 'enterprise', 'enterprises', 'enterprisingly', 'entertain', 'entertained', 'entertainers', 'entertaining', 'entertainment', 'enthralled', 'enthralling', 'enthusiasm', 'enthusiastic', 'entire', 'entirely', 'entirety', 'entities', 'entitled', 'entomologist', 'entourage', 'entrance', 'entrant', 'entries', 'entry', 'enunciate', 'envisaged', 'envision', 'envisioned', 'epicure', 'episode', 'episodes', 'equal', 'equality', 'equalizers', 'equally', 'equation', 'equatorial', 'equipment', 'equipped', 'equitable', 'equivalent', 'era', 'eradication', 'erase', 'erasing', 'erected', 'erratic', 'erred', 'erroneous', 'erroneously', 'error', 'errors', 'errs', 'ersatz', 'erupted', 'erupts', 'escape', 'escaped', 'escaping', 'escheat', 'escort', 'especially', 'esplanade', 'esprit', 'essence', 'essential', 'essentially', 'establish', 'established', 'establishing', 'establishment', 'estate', 'estimate', 'estimated', 'estimates', 'et', 'etc.', 'ethical', 'ethics', 'ethnic', 'eulogized', 'eulogizers', 'eva', 'evacuate', 'evacuation', 'evaluate', 'evaluating', 'evasive', 'eve', 'even', 'evening', 'evenings', 'event', 'events', 'eventual', 'eventually', 'ever', 'ever-changing', 'ever-present', 'every', 'everybody', 'everyday', 'everyone', 'everything', 'evidence', 'evidently', 'evil', 'evoked', 'evolutionary', 'ex-Mrs.', 'ex-National', 'ex-Yankee', 'ex-convict', 'ex-gambler', 'ex-marine', 'ex-schoolteacher', 'ex-singer', 'exacerbated', 'exact', 'exactly', 'exaggerate', 'exaggerated', 'exaggeration', 'exaltation', 'examine', 'examined', 'examiner', 'example', 'exasperated', 'excavation', 'exceed', 'excellence', 'excellent', 'except', 'exception', 'exceptionally', 'exceptions', 'excess', 'excessive', 'exchange', 'exchanged', 'exchanges', 'excise', 'excite', 'excitement', 'exciting', 'excluding', 'exclusive', 'exclusively', 'excused', 'excuses', 'exec', 'execute', 'executed', 'executions', 'executive', 'executives', 'exempt', 'exemption', 'exercise', 'exert', 'exhaust', 'exhibit', 'exhibited', 'exhibition', 'exhibitors', 'exile', 'exist', 'existed', 'existence', 'existing', 'exotic', 'expand', 'expanded', 'expanding', 'expansion', 'expansive', 'expect', 'expectation', 'expectations', 'expected', 'expects', 'expedient', 'expended', 'expenditures', 'expense', 'expenses', 'expensive', 'experience', 'experienced', 'experiencing', 'experiment', 'experimental', 'experiments', 'expert', 'experts', 'expire', 'expired', 'expires', 'explain', 'explained', 'explaining', 'explains', 'explanation', 'explicit', 'exploit', 'exploited', 'exploratory', 'explorers', 'exploring', 'explosion', 'explosive', 'export', 'exported', 'exporting', 'exports', 'exposed', 'express', 'expressed', 'expressing', 'extend', 'extended', 'extending', 'extends', 'extension', 'extensions', 'extensive', 'extent', 'extern', 'extra', 'extraction', 'extractors', 'extraordinarily', 'extraordinary', 'extreme', 'extremely', 'eye', 'eyebrow', 'eyes', 'fabled', 'fabrics', 'face', 'face-saving', 'faced', 'faces', 'facets', 'facilities', 'facing', 'fact', 'facto', 'factor', 'factories', 'factors', 'factory', 'facts', 'faculty', 'fail', 'failed', 'failing', 'fails', 'failure', 'faint', 'fair', 'fair-weather', 'fairgoers', 'fairies', 'fairly', 'fairway', 'fairways', 'faith', 'faked', 'fall', \"fall's\", 'fall-off', 'fallacious', 'fallen', 'fallout', 'falls', 'false', 'fame', 'famed', 'familiar', 'familiarity', 'families', 'family', 'family-community', 'famous', 'fan', 'fancy', 'fanned', 'fans', 'fantastic', 'far', 'far-flung', 'far-out', 'far-reaching', 'fare', 'farewell', 'farm', 'farmer', 'farmers', \"farmers'\", 'farms', 'fashion', 'fashions', 'fast', 'fast-grossing', 'fast-spreading', 'fastened', 'faster', 'fastest', 'fat', 'fatal', 'fate', 'father', \"father's\", 'fathers', 'faults', 'favor', 'favorable', 'favored', 'favoring', 'favorite', 'favors', 'fear', 'feared', 'fearing', 'feasible', 'feat', 'feathers', 'feats', 'feature', 'featured', 'features', 'featuring', 'federal', 'federalism', 'federalize', 'fee', 'feeble', 'feed', 'feeds', 'feel', 'feeling', 'feelings', 'feels', 'fees', 'feet', 'fell', 'fellow', 'fellows', 'felt', 'female', 'females', 'feminine', 'femininity', 'fence', 'fender', 'fertilizer', 'festival', 'festive', 'festivities', 'fete', 'feted', 'few', 'fewer', 'fiance', 'fiasco', 'fiction', 'fictitious', 'field', 'fielded', 'fielders', 'fielding', 'fields', 'fierce', 'fiercest', 'fiery', 'fifteen', 'fifteenth', 'fifth', 'fifty', 'fight', 'fighters', 'fighting', 'figure', 'figured', 'figures', 'figuring', 'filbert', 'file', 'filed', 'filial', 'filibuster', 'filibusters', 'filing', 'fill', 'filled', 'filling', 'filly', 'film', 'films', 'filmy', 'final', 'finale', 'finalist', 'finally', 'finals', 'finance', 'financed', 'finances', 'financial', 'financing', 'find', 'finding', 'finds', 'fine', 'fined', 'fines', 'finest', 'finger', 'finger-paint', 'finish', 'finished', 'finishing', 'finned', 'fins', 'fire', 'fire-fighting', 'fired', 'firehouses', 'firemen', 'fireplace', 'fires', 'firing', 'firm', \"firm's\", 'firmer', 'firmly', 'firms', 'first', 'first-class', 'first-floor', 'first-place', 'first-run', 'fiscal', 'fishing', 'fit', 'fits', 'fitted', 'fittest', 'five', 'five-cent', 'five-day', 'five-home', 'five-month', 'five-year', 'fixed', 'fixing', 'fixture', 'fizzled', 'flag-stick', 'flames', 'flaming', 'flanked', 'flared', 'flash', 'flashy', 'flat', 'flatly', 'flattened', 'flattering', 'flavor', 'flavored', 'fled', 'fleeing', 'fleet', 'flew', 'flex', 'flexible', 'flicker', 'flickered', 'flies', 'flight', 'flights', 'floated', 'flood', 'flooded', 'floor', 'floors', 'flour', 'flourish', 'flourishes', 'flow', 'flowed', 'flower', 'flowers', 'flowing', 'flows', 'flu', 'flubbed', 'fluid', 'flung', 'fly', 'flying', 'focus', 'focused', 'foes', 'foliage', 'folk', 'folks', 'follow', 'followed', 'followers', 'following', 'follows', 'fondness', 'food', 'foods', 'fool', 'foolish', 'foot', 'football', \"football's\", 'footing', 'footnotes', 'for', 'forbid', 'forbidden', 'forbids', 'force', 'forced', 'forces', 'forcing', 'fore', 'forecast', 'forecasts', 'foreign', 'foreign-aid', 'foreign-policy', 'foreman', 'foresee', 'foreseeable', 'forest', 'forestry', 'forever', 'forget', 'forgetting', 'forgive', 'form', 'forma', 'formal', 'formally', 'format', 'formation', 'formative', 'formed', 'former', 'formerly', 'forming', 'forms', 'formula', 'formulating', 'forswears', 'forth', 'forthcoming', 'fortune', 'forty-year', 'forum', 'forward', 'foster', 'fought', 'fouled', 'fouling', 'found', 'foundation', 'founded', 'founder', 'founding', 'fountain', 'four', 'four-hour', 'four-jet', 'four-letter', 'four-wood', 'four-year', 'fourteen', 'fourteen-nation', 'fourteen-team', 'fourth', 'fourth-down', 'fraction', 'fractured', 'fractures', 'fragmentation', 'frame', 'framed', 'frames', 'franchise', 'frank', 'franker', 'frankness', 'frantic', 'fraternity', 'frau', 'fraud', 'free', 'free-for-all', 'freed', 'freedom', 'freer', 'freeze', 'freezes', 'freight', 'frequent', 'frequently', 'fresh', 'freshman', 'friction', 'frictions', 'friend', 'friendliness', 'friendly', 'friends', 'frightening', 'frigid', 'fringe', 'fringed', 'frock', 'from', 'front', 'fronts', 'frosting', 'frothier', 'fruitful', 'frustrated', 'frustrating', 'frustrations', 'fuel', 'fueled', 'fuels', 'fulfill', 'fulfilled', 'fulfillment', 'full', 'full-dress', 'full-fledged', 'full-scale', 'full-time', 'fullback', 'fullbacking', 'fuller', 'fully', 'fumble', 'fumes', 'fun', 'fun-loving', 'function', 'functional', 'functionary', 'functions', 'fund', \"fund's\", 'fund-raiser', 'fund-raisers', 'fund-raising', 'fundamental', 'fundamentalism', 'fundamentally', 'fundamentals', 'funds', 'funeral', 'fur', 'furlongs', 'furlough', 'furloughed', 'furnish', 'furnished', 'furnishings', 'furniture', 'furs', 'further', 'fuselage', 'future', 'g-p', 'gain', 'gained', 'gaining', 'gains', 'gait', 'gala', 'gale', 'gallery', 'gallons', 'gals', 'gamble', 'gambling', 'game', \"game's\", 'games', 'gang', 'gangland', 'gangling', 'gangsters', 'gaping', 'garbage', 'garde', 'garden', 'gardenias', 'garrulous', 'gas', 'gas-fired', 'gasoline', 'gates', 'gather', 'gathered', 'gathering', 'gaudy', 'gauntlet', 'gave', 'gay', 'gayety', 'gazing', 'gear', 'geeing', 'general', \"general's\", 'generally', 'generated', 'generation', 'generosity', 'generous', 'generously', 'genes', 'genial', 'gentlemanly', 'gentlemen', 'genuine', 'geographical', 'geographically', 'geography', 'geometrically', 'geriatric', 'gesture', 'get', 'get-together', 'getaway', 'gets', 'getting', 'ghastly', 'giant', 'giants', 'gift', 'gifted', 'gifts', 'gigantic', 'gin', 'ginning', 'gins', 'girl', \"girl's\", 'girls', 'give', 'giveaway', 'given', 'gives', 'giving', 'glad', 'glamor', 'glamorous', 'glanced', 'glaze', 'gleam', 'glib', 'gliders', 'glimpsed', 'global', 'globe', 'globe-girdling', 'globetrotter', 'gloomily', 'glories', 'glove', 'glow', 'glowing', 'glutted', 'go', 'go-go-go', 'goaded', 'goal', 'goals', 'god-like', 'godliness', 'goes', 'going', 'gold', 'golden', 'golf', \"golf's\", 'golfer', 'golfers', 'golfing', 'gone', 'good', 'good-will', 'goodness', 'goods', 'got', 'gotten', 'goutte', 'govern', 'governed', 'governing', 'government', \"government's\", 'governmental', 'governments', 'governor', \"governor's\", 'governs', 'gown', 'grab', 'grabbed', 'grabbing', 'grace', 'graciously', 'grade', 'grader', 'grads', 'gradually', 'graduate', 'graduated', 'graduates', 'graduation', 'grain', 'grammar', 'grand', 'grand-slam', 'grandchildren', 'grandfather', 'grandiose', 'grandma', \"grandmother's\", 'grant', 'grant-in-aid', 'granted', 'grants', 'granular-type', 'grapefruit', 'grapes', 'grasp', 'grass', 'grass-green', 'grassroots', 'grateful', 'gratification', 'grave', 'gravy', 'gray', 'gray-haired', 'great', 'greater', 'greatest', 'greatly', 'green', 'greenish', 'greens', 'greet', 'greeted', 'greeting', 'grew', 'grievances', 'grillwork', 'grimace', 'grimly', 'grin', 'grip', 'gripped', 'grips', 'grisly', 'grist', 'groceries', 'grocery', 'grooming', 'groomsmen', 'groove', 'gross', 'ground', 'grounder', 'grounds', 'group', 'groupings', 'groups', 'grow', 'growing', 'grown', 'grows', 'growth', 'grumble', 'gruonded', 'guarantee', 'guaranteed', 'guard', 'guardians', 'guarding', 'guards', 'gubernatorial', 'guerrilla', 'guessing', 'guest', 'guests', 'guidance', 'guide', \"guide's\", 'guided', 'guiding', 'guilt', 'guiltless', 'guilty', 'guise', 'guitar', 'gulf', 'gully', 'gulped', 'gum', 'gumption', 'gun', 'gunmen', 'guns', 'guttural', 'guy', 'guys', 'ha', 'hackers', 'had', \"hadn't\", 'haggling', 'hailed', 'hair', 'half', 'half-brothers', 'half-mile', 'halfback', 'halfbacks', 'halftime', 'halfway', 'hall', 'halt', 'halted', 'halting', 'haltingly', 'ham', 'hamburger', 'hamlet', 'hammered', 'hampered', 'hand', 'hand-crafted', 'hand-screened', 'hand-woven', 'handed', 'handful', 'handicapped', 'handing', 'handle', 'handled', 'handles', 'handling', 'hands', 'handsome', 'handwriting', 'handy', 'hang', 'happen', 'happened', 'happening', 'happens', 'happier', 'happily', 'happy', 'hard', 'hard-fought', 'hard-hit', 'hard-to-get', 'harder', 'hardly', 'hardship', 'hardware', 'harm', 'harmless', 'harmonies', 'harmony', 'harrowing', 'harsh', 'harvesting', 'has', \"hasn't\", 'hastened', 'hastily', 'hasty', 'hat', 'hate', 'hats', 'haute', 'have', 'having', 'hawing', 'hazards', 'haze', 'he', \"he'll\", \"he's\", 'head', 'head-and-shoulders', 'head-on', 'headache', 'headboard', 'headdress', 'headed', 'heading', 'headlights', 'headline', 'headlines', 'headmaster', 'headquarters', 'heads', 'heady', 'healed', 'health', 'hear', 'heard', 'hearing', 'hearings', 'hearsay', 'heart', 'heartbreaking', 'heartening', 'hearts', 'hearty', 'heat', 'heaters', 'heather', 'heavier', 'heavily', 'heavy', 'heavy-electrical-goods', 'heed', 'heel', 'heels', 'height', 'heightened', 'heights', 'heirs', 'held', 'helm', 'help', 'helped', 'helping', 'helpless', 'helps', 'hemisphere', \"hemisphere's\", 'hence', 'heptachlor', 'her', 'heralded', 'here', 'heredity', 'heritage', 'hero', 'heroes', 'heroics', 'heroin', 'herself', 'hesitated', 'heyday', 'hidden', 'hides', 'high', 'high-ceilinged', 'high-density', 'high-legged', 'high-school', 'high-sounding', 'high-wage', 'higher', 'highest', 'highest-paid', 'highly', 'highs', 'highway', 'highways', 'hijacked', 'hijackers', 'hike', 'hill', 'hilt', 'him', 'himself', 'hinted', 'hip', 'hire', 'hired', 'hiring', 'his', 'historian', 'historic', 'historical', 'history', 'hit', 'hit-run', 'hitch', 'hitched', 'hitless', 'hits', 'hitter', 'hitters', 'hitting', 'hoc', 'hog', 'hold', 'hold-back', 'holders', 'holdings', 'holds', 'holdup', 'hole', 'holed', 'holes', 'holiday', 'holidays', 'home', 'home-and-home', 'home-owners', 'home-run', 'homemakers', 'homeowners', 'homer', 'homers', 'homerun', 'homes', 'honest', 'honestly', 'honeymoon', 'honor', 'honorary', 'honored', 'honoree', 'honoring', 'honors', 'hood', 'hoodlum', 'hoodlums', 'hooked', 'hope', 'hoped', 'hoped-for', 'hopeful', 'hopelessly', 'hopes', 'hoping', 'hopper', 'horde', 'horizon', 'horse', 'horsemanship', 'horses', 'hospitable', 'hospital', 'hospital-care', 'hospitality', 'hospitals', 'hostages', 'hostess', 'hostesses', 'hosts', 'hot', 'hotdogs', 'hotel', 'hotels', 'hottest', 'hour', 'hours', 'house', 'house-cleaning', 'housed', 'household', 'household-type', 'houses', 'housewife', 'housing', 'how', 'however', 'hubby', 'huddle', 'huddling', 'huge', 'hull', 'human', 'humans', 'humiliating', 'humor', 'hundred', 'hundreds', 'hung', 'hungry', 'hunt', 'hunter', 'hunter-killer', 'hunting', 'hurdle', 'hurler', 'hurlers', 'hurry', 'hurting', 'hurtling', 'husband', 'husbands', 'husky', 'huzzahs', 'hypocrisies', 'i.e.', 'icy', 'idea', 'ideal', 'idealism', 'ideas', 'identical', 'identically', 'identification', 'identified', 'identity', 'ideological', 'ideology', 'idle', 'idleness', 'idol', 'idolize', 'idols', 'if', 'ignited', 'ignition', 'ignored', 'ignoring', 'ill', 'illegal', 'illegitimacy', 'illness', 'illusion', 'illusory', 'illustrate', 'illustrated', 'illustration', 'image', 'imagination', 'imagine', 'imagines', 'imbroglio', 'immediate', 'immediately', 'immigrant', 'imminent', 'immorality', 'immunization', 'impact', 'impair', 'impeccable', 'impersonal', 'impetus', 'impinging', 'implement', 'implementation', 'implements', 'implication', 'implicit', 'imply', 'impolitic', 'import', 'important', 'imports', 'imposed', 'imposes', 'imposing', 'imposition', 'impossible', 'impossibly', 'impotency', 'impoverished', 'impressed', 'impression', 'impressionist', 'impressions', 'impressive', 'imprisonment', 'improper', 'improperly', 'improve', 'improved', 'improvement', 'improvements', 'improving', 'imprudently', 'impunity', 'in', 'in-group', 'inability', 'inadequacy', 'inadequate', 'inappropriate', 'inapt', 'inaugural', 'inauguration', 'inboard', 'incentive', 'inches', 'incident', 'incidents', 'incinerator', 'inclination', 'inclined', 'include', 'included', 'includes', 'including', 'inclusive', 'income', 'incomparable', 'incomparably', 'incompetents', 'incomplete', 'inconclusive', 'inconsistencies', 'incorporated', 'incorrigible', 'increase', 'increased', 'increases', 'increasing', 'increasingly', 'incredible', 'incredibly', 'incumbent', 'incurred', 'indecisive', 'indeed', 'indefinite', 'independence', 'independent', 'independents', 'index', 'indicate', 'indicated', 'indicates', 'indicating', 'indication', 'indicted', 'indictment', 'indictments', 'indifference', 'indignation', 'indirect', 'indispensable', 'individual', 'individuals', 'indoor', 'indorsed', 'induce', 'inducted', 'industrial', 'industrialist', 'industrialized', 'industries', 'industry', 'ineffectual', 'inefficient', 'ineligible', 'ineptness', 'inevitable', 'inevitably', 'infallible', 'infant', 'infantile', 'inferior', 'infest', 'infested', 'infield', 'infiltrating', 'inflamed', 'inflate', 'inflation', 'inflexible', 'inflicted', 'inflow', 'influence', 'influences', 'influx', 'inform', 'informal', 'informally', 'information', 'informed', 'infrequent', 'inhabitants', 'inherent', 'inherited', 'inhomogeneous', 'initial', 'initially', 'initiating', 'initiative', 'inject', 'injection', 'injunctions', 'injured', 'injuries', 'injuring', 'injury', 'inlaid', 'innate', 'inner', 'inning', 'innings', 'innocence', 'innocent', 'innumerable', 'inquired', 'inquiries', 'inroads', 'inscription', 'insects', 'insets', 'inside', 'insist', 'insisted', 'insistence', 'insists', 'inspection', 'inspired', 'inspiring', 'installed', 'instance', 'instances', 'instantly', 'instead', 'instincts', 'institute', 'instituted', 'institution', 'institutions', 'instructed', 'instruction', 'instructor', 'instrument', 'instrumentals', 'instruments', 'insult', 'insurance', 'insure', 'insurgent', 'intact', 'intangible', 'intangibles', 'integrate', 'integrated', 'integration', 'intellectual', 'intellectually', 'intelligent', 'intend', 'intended', 'intends', 'intense', 'intensified', 'intensifying', 'intensity', 'intention', 'intentions', 'intercepted', 'interest', 'interested', 'interesting', 'interests', 'interfere', 'interfered', 'interference', 'interfering', 'interim', 'interior', 'interlibrary', 'interlude', 'interment', 'intern', 'internal', 'international', 'internationalist', 'interpret', 'interpretation', 'interrupt', 'intersection', 'interstate', 'intervals', 'intervene', 'intervened', 'intervening', 'intervention', 'interview', 'interviewed', 'interviews', 'intimated', 'intimidation', 'into', 'intra-mural', 'intrigue', 'introduced', 'introduction', 'intruders', 'inure', 'invaded', 'invasion', 'inventories', 'inverted', 'investigate', 'investigated', 'investigating', 'investigation', 'investigations', 'investigators', 'investment', 'investments', 'investor', 'investors', 'invests', 'inviolate', 'invitation', 'invitations', 'invited', 'invites', 'inviting', 'invoices', 'invoked', 'invoking', 'involve', 'involved', 'involving', 'irate', 'iron', 'irrational', 'irrationality', 'irreconcilable', 'irregularities', 'irrespective', 'irritable', 'is', 'island', \"isn't\", 'isolated', 'issuance', 'issue', 'issued', 'issues', 'it', \"it's\", 'item', 'items', 'its', 'itself', 'ivory', 'jacket', 'jail', 'jails', 'jangling', 'janitor', 'janitors', \"janitors'\", 'jarred', 'jazz', 'jealousies', 'jeopardizing', 'jeopardy', 'jersey', 'jesting', 'jet', 'jetliners', 'jewelry', 'jewels', 'jitters', 'job', 'job-seekers', 'joblessness', 'jobs', 'jockeying', 'join', 'joined', 'joining', 'joint', 'jointly', 'joints', 'jolt', 'jotted', 'journalism', 'journalist', 'journey', 'judge', 'judged', 'judges', 'judgeship', 'judging', 'judgment', 'juice', 'jump', 'jumped', 'jumpy', 'junction', 'junior', \"junior's\", 'junior-senior', 'juniors', 'junta', 'juries', 'jurisdictional', 'jurist', 'juror', 'jurors', 'jury', 'jury-tampering', 'just', 'justice', 'justices', 'justified', 'justify', 'juvenile', 'keep', 'keeping', 'keeps', 'kept', 'kerosene', 'key', 'keyboarding', 'keyhole', 'keynote', 'kick', 'kickbacks', 'kicked', 'kicking', 'kickoff', 'kicks', 'kid', 'kidding', 'kidnaped', 'kidnapping', 'kids', 'kill', 'killed', 'killer', 'killing', 'kind', 'kinda', 'kindergarten', 'kinds', 'king', 'kingdom', 'kitchen', 'knee', 'knees', 'knew', 'knit', 'knock', 'knock-down', 'knocked', 'knocks', 'know', 'know-how', 'knowing', 'knowledge', 'known', 'knows', 'knuckleball', 'la', 'label', 'labeled', 'labor', 'labor-management', 'laboratory', 'laborers', 'lace', 'lacerations', 'lack', 'lacked', 'lacking', 'lad', 'ladder', 'ladies', \"ladies'\", 'lady', 'lag', 'lagged', 'lags', 'laid', 'lamb', 'lamp', 'lampoon', 'lamps', 'land', 'landed', 'landing', 'landscape', 'landscaped', 'language', 'languages', 'lap', 'larceny', 'large', 'largely', 'larger', 'largest', 'last', 'last-minute', 'last-round', 'lasted', 'lasting', 'latch', 'late', 'lately', 'later', 'latest', 'latter', \"latter's\", 'launched', 'laurels', 'lavish', 'lavishly', 'law', 'lawmakers', 'lawn', 'laws', 'lawyer', 'lawyers', 'lay', 'lay-offs', 'layer', 'laying', \"layman's\", 'laymen', 'layout', 'lazy', 'le', 'lead', 'leader', \"leader's\", 'leaders', 'leadership', 'leading', 'leads', 'league', \"league's\", 'leaguer', 'leagues', 'leaked', 'lean', 'leaned', 'learn', 'learned', 'learning', 'lease', 'least', 'leather', 'leathery', 'leave', 'leaving', 'lecture', 'lecturer', 'led', 'left', 'left-centerfield', 'left-handed', 'leftfield', 'lefthander', 'lefthanders', 'leg', 'legal', 'legend', 'legislation', 'legislation-delaying', 'legislative', 'legislator', 'legislators', 'legislature', 'legitimate', 'legs', 'leisurely', 'lemonade', 'lend', 'lending', 'length', 'lengthening', 'lengthy', 'lenient', 'less', 'less-developed', 'lesson', 'lessons', 'lest', 'let', \"let's\", 'letter', 'lettered', 'letterman', 'lettermen', 'letters', 'letting', 'level', 'levels', 'lever', 'levy', 'liable', 'liaison', 'liberal', 'liberal-conservative', 'liberals', 'liberty', 'librarian', \"librarian's\", 'librarian-board', 'librarians', 'libraries', 'library', 'license', 'licenses', 'licensing', 'licked', 'lid', 'lie', 'lied', 'liens', 'lies', 'lieutenant', 'lieutenants', 'life', 'lifeblood', 'lifetime', 'lift', 'lifted', 'ligament', 'light', 'lighter', 'lighters', 'lightly', 'lightness', 'lights', 'lightweight', 'like', 'liked', 'likelihood', 'likely', 'likes', 'limit', 'limitations', 'limited', 'limiting', 'line', 'linebackers', 'lineman', 'linen', 'liner', 'lines', 'lineup', 'lining', 'link', 'linking', 'lip', 'liquidation', 'liquidations', 'liquor', 'list', 'listed', 'listen', 'listened', 'listening', 'listing', 'listings', 'lists', 'literally', 'literary', 'literature', 'little', 'livability', 'live', 'lived', 'livelihood', 'liveliness', 'lively', 'lives', 'livestock', 'living', 'load', 'loaded', 'loading', 'loan', 'loans', 'loath', 'lobby', 'local', 'locale', 'locally', 'locate', 'located', 'locked', 'locker', 'locomotive', 'lodge', 'lodged', 'log-jam', 'logging', 'logic', 'logical', 'logistical', 'long', 'long-bodied', 'long-life', 'long-range', 'long-term', 'long-time', 'longer', 'longstanding', 'look', 'looked', 'looking', 'looks', 'loomed', 'loop', 'loophole', 'loose', 'loosely', 'looting', 'lose', 'loser', 'loses', 'losing', 'loss', 'losses', 'lost', 'lot', 'lots', 'loud', 'loudly', 'love', 'lovely', 'lover', 'lovers', 'loves', 'loving', 'low', 'low-down', 'low-key', 'low-wage', 'lower', 'lower-priced', 'lowered', 'lowest', 'lowliest', 'lows', 'loyal', 'loyalist', 'loyalists', 'loyalty', 'luck', 'lucky', 'lucrative', 'luggage', 'lukewarm', 'lull', 'lumber', 'lumped', 'lunch', 'luncheon', 'luncheon-table', 'luncheons', 'lure', 'lurked', 'lustrous', 'luxury', 'lying', 'm.p.h.', 'machine', 'machinery', 'machines', 'machinist', 'mad', 'made', 'magazine', 'magenta', 'magic', 'magistrate', 'magnetic', 'magnification', 'magnificent', 'maid', 'maiden', 'maids', 'mail', 'mailed', 'mails', 'main', 'mainly', 'maintain', 'maintaining', 'maintains', 'maintenance', 'maitre', 'majestic', 'major', 'major-league', 'majorities', 'majority', 'majors', 'make', 'maker', 'makers', 'makes', 'makeshift', 'making', 'male', 'males', 'malice', 'maligned', 'malingering', 'mall', 'mammoth', 'man', \"man's\", 'managed', 'management', \"management's\", 'managements', 'manager', 'managers', 'managing', 'mandatory', 'maneuver', 'manganese', 'manifestations', 'manifestly', 'manipulate', 'manned', 'manner', 'mano', 'manslaughter', 'mantel', 'mantle', 'mantlepiece', 'manual', 'manufacture', 'manufactured', 'manufacturer', 'manufacturers', \"manufacturers'\", 'manufacturing', 'manuscript', 'many', 'mar', 'marble', 'march', 'marching', 'margin', 'marginal', 'margins', 'marines', 'mark', 'marked', 'market', 'marketed', 'marketing', 'marketings', 'markets', 'marking', 'marks', 'marriage', 'marriages', 'married', 'marvel', 'marveled', 'masked', \"maskers'\", 'masonry', 'masquerade', 'masquerades', 'mass', 'masses', 'massive', 'master', \"master's\", 'masterful', 'masterpiece', 'mastodons', 'mat', 'match', 'matched', 'matches', 'matching', 'material', 'materialize', 'materials', 'mates', 'math', 'mathematically', 'mathematics', 'mating', 'matter', 'matters', 'mature', 'maturity', 'maverick', 'maximum', 'may', 'maybe', 'mayonnaise', 'mayor', \"mayor's\", 'me', 'mea', 'meager', 'meals', 'mean', 'meaning', 'meaningless', 'means', 'meant', 'meantime', 'meanwhile', 'measles', 'measure', 'measured', 'measures', 'measuring', 'meat', 'mechanic', \"mechanic's\", 'mechanical', 'mechanically', 'mechanics', 'mechanism', 'mechanisms', 'mechanization', 'medal', 'meddle', 'medical', 'medicine', \"medico's\", 'medics', 'mediocre', 'meditating', 'meet', 'meeting', 'meetings', 'meets', 'megaton', 'melee', 'melt', 'melted', 'member', 'members', \"members'\", 'membership', 'memory', 'men', \"men's\", 'menace', 'menaced', 'mental', 'mentally', 'mention', 'mentioned', 'mentions', 'menu', 'mercenaries', 'merchandise', 'merchandising', 'merchants', 'mercy', 'mere', 'merely', 'merge', 'merger', 'mergers', 'merit', 'merited', 'meritorious', 'merits', 'merry-go-round', 'mess', 'message', 'met', 'metal', 'meteorological', 'meter', 'method', 'methods', 'metropolitan', 'micro-microcurie', 'microfilm', 'mid-1960', 'mid-July', 'mid-June', 'mid-September', 'mid-flight', 'middle', 'middle-aged', 'midmorning', 'midnight', 'midst', 'midway', 'miffed', 'might', 'mighty', 'mile', 'mileage', 'miles', 'milestone', 'military', 'milk', 'mill', 'million', 'millions', 'mind', 'minds', 'mine', 'mined', 'mineral', 'mineral-rich', 'miners', 'mines', 'mingle', 'miniature', 'mining', 'minister', 'ministerial', 'ministers', 'mink', 'minor', 'minorities', 'minors', 'minute', 'minutes', 'miracle', 'miracles', 'mirror', 'miscalculation', 'miscellaneous', 'misconstrued', 'miscount', 'miserable', 'misfortune', 'mishap', 'misled', 'miss', 'missed', 'misses', 'missile', 'missiles', 'missing', 'mission', 'missionary', 'missions', 'mistake', 'mistakes', 'mistrial', 'misunderstanding', 'misunderstandings', 'misuse', 'moans', 'mob', \"mob's\", 'mobile', 'model', 'models', 'moderate', 'moderate-income', 'moderates', 'modern', 'modernization', 'modernized', 'modernizing', 'modest', 'modification', 'modifications', 'modified', 'moist', 'moldboard', 'moment', \"moment's\", 'moments', 'momentum', 'monetary', 'money', 'money-winner', 'monks', 'monopolies', 'monopolistic', 'monopoly', 'monotonous', 'monotony', 'monstrous', 'month', \"month's\", 'month-long', 'monthly', 'months', \"months'\", 'monument', 'monumental', 'monuments', 'mood', 'moral', 'morality', 'morals', 'more', 'more-than-ordinary', 'morning', \"morning's\", 'mortal', 'mortgage', 'mortgages', 'most', 'most-valuable', 'most-valuable-player', 'mostly', 'motel', 'motel-keepers', 'motel-keeping', 'motels', 'mother', \"mother's\", 'mothers', 'motion', 'motion-picture', 'motions', 'motivated', 'motivations', 'motor', 'motorist', 'motorists', \"motorists'\", 'motto', 'mound', 'mountainous', 'mounted', 'mounting', 'mourn', 'mouth', 'mouths', 'move', 'moved', 'movement', 'movements', 'moves', 'movie', 'movies', 'moving', 'much', 'much-copied', 'mud', 'multi-family', 'multi-million-dollar', 'multi-product', 'multiple', 'multiply', 'multiplying', 'municipal', 'municipalities', 'murder', 'murdered', 'muscle', 'muscles', 'muscular', 'museum', 'mushrooms', 'music', 'music-loving', 'musical', 'musician', 'musicians', 'must', 'muster', 'muted', 'mutiny', 'mutter', 'muttered', 'mutterers', 'mutual', 'my', 'myself', 'mystery', 'nab', 'nabbed', 'nailed', 'name', 'named', 'namely', 'names', 'nap', 'narcotic', 'narcotics', 'narrow', 'narrowed', 'narrowly', 'nation', \"nation's\", 'national', 'nationalism', 'nationalized', 'nationally', 'nations', 'nationwide', 'native', 'natural', 'naturalized', 'naturally', 'nature', 'naughtier', 'naughty', 'naval', 'navy', \"navy's\", 'near', 'near-Balkanization', 'nearby', 'nearest', 'nearing', 'nearly', 'neatly', 'necessary', 'necessitate', 'necessitated', 'necessity', 'neck', 'neckline', 'need', 'needed', 'needles', 'needs', 'needy', 'negative', 'negotiate', 'negotiating', 'negotiation', 'negotiations', 'neighbor', 'neighborhood', 'neighboring', 'neighbors', 'neither', 'neo-stagnationist', 'nerve', 'nerves', 'net', 'netted', 'network', 'neutral', 'neutralist', 'neutralists', 'neutralized', 'never', 'nevertheless', 'new', 'new-rich', 'newcomers', 'newer', 'newest', 'newly', 'newly-appointed', 'newlyweds', 'news', 'newsletter', 'newsman', 'newsmen', 'newspaper', 'newspapers', 'next', 'nice', 'nicer', 'nickels', 'niece', 'night', \"night's\", 'night-coach', 'nightclubs', 'nightfall', 'nightly', 'nightmare', 'nights', 'nine', 'nine-game', 'nine-year', 'nineteen', 'nineteenth', 'nineteenth-century', 'ninety-nine', 'ninth', 'nitroglycerine', 'no', 'no-driving', 'no-hit', 'noble', 'nobody', 'nodded', 'noes', 'noise', 'nolo', 'nominal', 'nominated', 'nominating', 'nomination', 'nominee', 'non-farm', 'non-partisan', 'non-profit', 'noncommissioned', 'nondescript', 'none', 'nonfiction', 'nonsense', 'nonviolent', 'nonwhite', 'noon', 'nor', 'norm', 'normal', 'normalcy', 'normally', 'north', 'north-bound', 'northeast', 'northern', 'northernmost', 'northwest', 'nose', 'noses', 'nostalgic', 'not', 'notable', 'notably', 'notarized', 'note', 'noted', 'notes', 'nothing', 'notice', 'noticeable', 'noticed', 'notices', 'noting', 'notion', 'notions', 'notorious', 'nourished', 'novel', 'now', 'nowhere', 'nozzle', 'nuclear', 'nucleus', 'number', 'numbered', 'numbers', 'numerous', 'nuns', 'nurse', 'nursing', 'nut', 'nw.', 'nymphomaniacs', \"o'clock\", 'oases', 'oath-taking', 'oats', 'object', 'objected', 'objection', 'objective', 'obligated', 'obligation', 'obligations', 'obliged', 'obliterated', 'observations', 'observer', 'observers', 'observing', 'obstacle', 'obstacles', 'obstructed', 'obstructionist', 'obtain', 'obtained', 'obtaining', 'obvious', 'obviously', 'occasion', 'occasional', 'occasionally', 'occasions', 'occupancy', 'occupants', 'occupation', 'occupied', 'occupying', 'occur', 'occurred', 'occurrence', 'ocean', 'odds', 'of', 'off', 'off-beat', 'off-duty', 'offenders', 'offense', 'offenses', 'offensive', 'offensives', 'offer', 'offered', 'offering', 'offerings', 'offers', 'office', 'officer', 'officered', 'officers', 'offices', 'official', 'officially', 'officials', 'officiate', 'officiated', 'officiating', 'officious', 'oft-repeated', 'often', 'ogled', 'oil', 'oilman-rancher', 'oks', \"ol'\", 'old', 'older', 'oldest', 'olive-green', 'ominous', 'omitted', 'on', 'on-the-scene', 'once', 'one', \"one's\", 'one-fourth', 'one-half', 'one-iron', 'one-over-par', 'one-room', 'one-sided', 'one-story', 'one-third', 'one-week-old', 'ones', 'onetime', 'onion', 'only', 'onrush', 'onslaught', 'onto', 'onus', 'oops', 'open', 'opened', 'opener', 'opening', 'openly', 'opens', 'opera', 'operate', 'operated', 'operates', 'operating', 'operation', 'operations', 'operator', 'operators', 'opinion', 'opinions', 'opponents', 'opportunities', 'opportunity', 'oppose', 'opposed', 'opposes', 'opposite', 'opposition', 'optimism', 'optimistic', 'option', 'opus', 'or', 'orange', 'orchestra', 'orchids', 'ordained', 'order', 'ordered', 'orderly', 'orders', 'ordinance', 'ordinarily', 'ordinary', \"ordinary's\", 'organ', 'organdy', 'organization', \"organization's\", 'organizations', 'organize', 'organized', 'organizers', 'organizing', 'organs', 'oriental', 'orientation', 'origin', 'original', 'originally', 'originated', 'originating', 'other', \"other's\", 'others', 'otherwise', 'ought', 'our', 'ours', 'ourselves', 'oust', 'ouster', 'out', 'out-of-bounds', 'outclass', 'outclassed', 'outcome', 'outdoors', 'outfield', 'outfielder', 'outfit', 'outgoing', 'outlawed', 'outlay', 'outlets', 'outline', 'outlook', 'outmoded', 'outnumber', 'outpatient', 'outplayed', 'output', 'outright', 'outrun', 'outset', 'outside', 'outsider', 'outsiders', 'outspoken', 'outstanding', 'ova', 'over', 'over-all', 'over-corrected', 'over-night', 'over-the-counter', 'overcame', 'overcome', 'overcrowding', 'overdeveloped', 'overhauling', 'overhead', 'overlooked', 'overly', 'overnight', 'overpowered', 'overreach', 'overseas', 'overshot', 'oversimplification', 'overtake', 'overthrow', 'overtime', 'overturned', 'overwhelmingly', 'owe', 'owed', 'own', 'owned', 'owner', 'owners', \"owners'\", 'ownership', 'owns', 'oysters', 'p.m.', 'pace', 'paces', 'pack', 'packed', 'pact', 'pad', 'pads', 'paganism', 'page', 'paid', 'paid-for', 'pain', 'painful', 'pains', 'painted', 'painter', 'painting', 'paintings', 'pair', 'paired', 'pal', 'pall', 'palm', 'palmed', 'pan', 'panel', \"panel's\", 'paneled', 'paneling', 'panels', 'panic', 'paper', 'papers', 'par', 'par-3', 'par-5', 'parade', 'parading', 'paradox', 'paragon', 'paralyzed', 'paramount', 'paratroops', 'pardon', 'pardoned', 'parent', \"parent's\", 'parents', 'parimutuels', 'parish', 'park', 'parked', 'parking', 'parklike', 'parks', 'parlor', 'parochial', 'parole', 'parolees', 'pars', 'part', 'part-time', 'partially', 'participate', 'participating', 'participation', 'particular', 'particularly', 'particulars', 'parties', 'partner', 'partners', 'parts', 'party', 'pass', 'passage', 'passages', 'passed', 'passenger', 'passengers', 'passes', 'passing', 'passport', 'past', 'pastel-like', 'pastime', 'pastors', \"pastors'\", 'paternalism', 'path', 'paths', 'patience', 'patient', 'patients', 'patio', 'patrol', 'patrolman', 'patronage', 'patrons', 'pattern', 'patterned', 'pause', 'paused', 'paving', 'pay', 'paycheck', 'paying', 'paymaster', 'payment', 'payments', 'payoff', 'payroll', 'pays', 'peace', 'peace-loving', 'peacetime', 'peak', 'peaks', 'peanut', 'pearl', 'peasant', 'peasants', 'pecan', 'peck', 'peculiar', 'peculiarities', 'pedagogue', 'peddle', 'peddler', 'peddlers', 'pedestal', 'pedestrian', 'pedestrians', 'pedigreed', 'penalized', 'penalties', 'penalty', 'pending', 'penetration', 'pennant', 'pennies', 'pension', 'pensions', 'people', \"people's\", 'peoples', 'pepper', 'peppery', 'pepping', 'per', 'per-game', 'percent', 'percentage', 'percentages', 'perched', 'perennial', 'perfect', 'perfection', 'perform', 'performance', 'performances', 'performed', 'performers', 'performing', 'perhaps', 'peril', 'period', 'periodic', 'periodicals', 'perjury', 'permanence', 'permanent', 'permission', 'permit', 'permits', 'permitted', 'permitting', 'persecution', 'persistent', 'person', 'personal', 'personalities', 'personality', 'personally', 'personification', 'personnel', 'persons', 'persuade', 'pert', 'pertained', 'pertinent', 'perturbed', 'pessimism', 'pest', 'pester', 'pesticides', 'petition', 'petitions', 'petty', 'phalanx', 'phase', 'phases', 'philosopher', 'philosophy', 'phone', 'phones', 'phonies', 'photographers', 'photographing', 'phrase', 'physical', 'physically', 'physician', \"physician's\", 'physics', 'physiology', 'pianist', 'pianists', 'piano', 'pick', 'picked', 'picker', 'pickers', 'picket', 'picketed', 'picketing', 'picking', 'picks', 'pickup', 'picnic', 'picture', 'pictured', 'pictures', 'piece', 'pieces', 'pier', 'piety', 'pile', 'pilgrimage', 'pillow', 'pilot', 'pilots', 'pin', 'pinch-hitter', 'pinch-hitters', 'pine', 'pink', 'pinks', 'pinpoint', 'pioneer', 'pious', 'pipe', 'pipeline', 'piping', 'piracy', 'pirates', 'pistol', 'pitch', 'pitched', 'pitcher', 'pitchers', 'pitches', 'pitching', 'pitfall', 'pitifully', 'pivotal', 'pixies', 'pizza', 'pl.', 'place', 'place-kicker', 'place-kicking', 'placed', 'places', 'placing', 'plague', 'plagued', 'plain', 'plaintiffs', 'plan', 'plane', 'planes', 'planned', 'planner', 'planners', 'planning', 'plans', 'plant', 'planted', 'plants', 'plaques', 'plate', 'plates', 'platform', 'play', 'playable', 'played', 'player', \"player's\", 'players', \"players'\", 'playing', 'playoff', 'plays', 'playtime', 'plea', 'plead', 'pleaded', 'pleads', 'pleasant', 'please', 'pleased', 'pleasure', 'pledge', 'pledged', 'pledges', 'plenary', 'plenty', 'plight', 'plot', 'plotting', 'plow', 'plowing', 'plows', 'plunder', 'plunkers', 'plus', 'pocket', 'pocket-size', 'pockets', 'poet', 'poetic', 'poets', 'point', 'pointed', 'pointing', 'points', 'poised', 'pole', 'police', 'policeman', 'policemen', 'policies', 'policy', 'polished', 'politely', 'political', 'politicians', 'politicos', 'politics', 'poll', 'polled', 'polls', 'pollution', 'pondered', 'ponies', 'pool', 'pooling', 'pools', 'poor', 'poor-mouth', 'poorly', 'pop', 'popped', 'pops', 'popular', 'popularity', 'populated', 'population', 'populous', 'pork', 'pork-barrel', 'portable', 'portion', 'portions', 'portrait', 'portrayal', 'posed', 'position', 'positions', 'positive', 'possess', 'possessing', 'possessive', 'possibility', 'possible', 'possibly', 'post', 'posted', 'poster', 'posters', 'postgraduate', 'postman', 'posts', 'potato', 'potatoes', 'potent', 'potential', 'potentially', 'poultry', 'pound', 'pounds', 'pour', 'poured', 'powderpuff', 'power', 'powered', 'powerful', 'powers', 'practical', 'practice', 'practiced', 'practices', 'practicing', 'praise', 'praised', 'pray', 'prayer-time', 'prayers', 'pre-Easter', 'pre-Fair', 'pre-academic', 'pre-school', 'pre-season', 'pre-set', 'preach', 'preached', 'preaching', 'precarious', 'precautionary', 'precede', 'preceded', 'precedence', 'precedent', 'preceding', 'preceeded', 'precinct', 'precincts', 'precipitated', 'precisely', 'preclude', 'predict', 'predictably', 'predicted', 'prediction', 'predominating', 'prefer', 'preferable', 'preferably', 'preferred', 'prefers', 'prejudicial', 'preliminary', 'prelude', 'premier', 'premium', 'preoccupied', 'prepare', 'prepared', 'prepares', 'prepayment', 'presence', 'present', 'presentation', 'presented', 'presently', 'presentments', 'presents', 'preservation', 'preserve', 'preserved', 'preserving', 'presidency', 'president', \"president's\", 'presidential', 'presides', 'presiding', 'press', 'pressed-paper', 'pressing', 'pressure', 'pressures', 'prestige', 'presumably', 'presumed', 'pretends', 'pretenses', 'pretext', 'pretexts', 'pretty', 'prevailed', 'prevent', 'prevention', 'preview', 'previous', 'previously', 'price', 'price-earnings', 'price-setting', 'priced', 'prices', 'pricing', 'pricking', 'pride', 'priests', 'primarily', 'primary', 'prime', 'princess', 'princesse', 'principal', 'principally', 'principle', 'principles', 'printed', 'prior', 'prior-year', 'priority', 'prison', 'prisoners', 'private', 'private-eye', 'private-school', 'privately', 'privilege', 'privileged', 'privileges', 'prize', 'prizes', 'pro', 'pro-Communist', 'pro-Western', 'pro-Yankee', 'probability', 'probable', 'probably', 'probate', 'probation', 'probe', 'probing', 'problem', 'problems', 'procedure', 'procedures', 'proceed', 'proceeded', 'proceedings', 'proceeds', 'process', 'processes', 'processing', 'procurement', 'prod', 'prodigal', 'produce', 'produced', 'producer', 'producer-hubby', 'producers', 'produces', 'producing', 'product', 'production', 'productions', 'productive', 'products', 'profession', 'professional', 'professionals', 'professor', 'professors', 'profit', 'profits', 'profound', 'program', 'programmed', 'programs', 'progress', 'project', 'projects', 'prominent', 'prominently', 'promise', 'promised', 'promises', 'promising', 'promote', 'promotion', 'promotional', 'prompt', 'promptly', 'prone', 'pronounced', 'pronto', 'proof', 'prop', 'propaganda', 'propeller', 'propeller-driven', 'propelling', 'proper', 'properly', 'properties', 'property', 'proportionate', 'proportionately', 'proposal', 'proposals', 'propose', 'proposed', 'proposes', 'proposing', 'proprietor', 'props', 'pros', 'prosecute', 'prosecution', 'prosecutions', 'prosecutor', 'prosecutors', 'proselytizing', 'prospect', 'prospective', 'prospects', 'prosperity', 'prostitution', 'protect', 'protected', 'protection', 'protective', 'protest', 'protested', 'protests', 'protocol', 'proud', 'prove', 'proved', 'proven', 'provide', 'provided', 'provides', 'providing', 'province', 'provinces', 'provincial', 'provision', 'provisional', 'provisions', 'provocation', 'provoked', 'proximity', 'prudently', 'pry', 'pseudynom', 'psychology', 'public', 'public-school', 'publicity', 'publicized', 'publicly', 'published', 'publishes', 'publishing', 'pubs', 'pull', 'pulled', 'pulling', 'pulse', 'pulse-jet', 'pun', 'punching', 'punted', 'pupils', 'puppet', \"puppet's\", 'puppets', 'purchase', 'purchased', 'purchases', 'purchasing', 'pure', 'purged', 'purple', 'purpose', 'purposely', 'purposes', 'purse', 'pursued', 'pursuing', 'pursuit', 'push', 'pushed', 'pushing', 'put', 'putout', 'puts', 'putt', 'putted', 'putter', 'putting', 'puzzle', 'qualifications', 'qualified', 'qualify', 'qualities', 'quality', 'quarrel', 'quarreling', 'quarter', 'quarter-century', 'quarter-mile', 'quarter-to-quarter', 'quarterback', 'quarterbacks', 'quarterly', 'quarters', 'quartet', 'queen', 'queries', 'quest', 'question', 'questionable', 'questioned', 'questioning', 'questions', 'quick', 'quickie', 'quickly', 'quiet', 'quiet-spoken', 'quieted', 'quietly', 'quipping', 'quit', 'quite', 'quo', 'quota', 'quotas', 'quote', 'quoted', 'rabbit', 'race', 'raced', 'races', 'racial', 'racing', 'racket', 'racketeer', 'racy', 'radiation', 'radical', 'radio', 'radioactive', 'radioed', 'radiomen', 'radios', 'raft', 'raged', 'rail', 'railing', 'railroad', \"railroad's\", 'railroading', 'railroads', 'railway', 'rain', 'rain-slick', 'raincoats', 'rains', 'rainstorm', 'rainy', 'raise', 'raised', 'raiser', 'raises', 'raising', 'rallies', 'rally', 'ramp', 'ran', 'ranch', 'rancho', 'range', 'ranged', 'rangers', 'ranges', 'ranging', 'rangy', 'rank', 'ranked', 'ranks', 'ransacked', 'rapid', 'rapidly', 'raping', 'rapped', 'rapport', 'rapt', 'rare', 'rarity', 'rat-a-tat-tatty', 'rate', 'rated', 'rates', 'rather', 'ratification', 'ratified', 'ration', 'rational', 'rationale', 'ratios', 'raw', \"rbi's\", 're-arguing', 're-elected', 're-election', 're-enactment', 're-set', 'reach', 'reached', 'reaches', 'reaching', 'react', 'reacted', 'reacting', 'reaction', 'reactionary', 'reactions', 'reactor', 'reactors', 'read', 'reader', 'readers', 'readiness', 'reading', 'readjust', 'reads', 'ready', 'real', 'realistic', 'realities', 'realization', 'realize', 'realized', 'realizing', 'really', 'realty', 'reams', 'rear', 'reared', 'reason', 'reasonable', 'reasoning', 'reasons', 'rebel', 'rebellion', 'rebels', 'rebound', 'rebuffed', 'rebuild', 'recalled', 'recalls', 'receipts', 'receive', 'received', 'receives', 'receiving', 'recent', 'recently', 'reception', 'receptive', 'recessed', 'recession', 'recipe', 'recipient', 'recipients', 'reckless', 'reckonings', 'recognize', 'recognized', 'recognizes', 'recommend', 'recommendation', 'recommendations', 'recommended', 'recommends', 'reconsider', 'reconsideration', 'reconstruction', 'reconvened', 'reconvenes', 'reconvention', 'record', 'record-tying', 'recorded', 'recording', 'records', 'recover', 'recovering', 'recovery', 'recruit', 'recruiter', 'recruiting', 'recruits', 'red', 'redecoration', 'redevelopers', 'redhead', 'redistricting', 'redoubled', 'reds', 'reduce', 'reduced', 'reducing', 'reduction', 'reelected', 'reelection', 'reestablish', 'refer', 'reference', 'referendum', 'referred', 'refinement', 'reflected', 'reflecting', 'reflexes', 'refocusing', 'reform', 'reformatory', 'reforms', 'refuel', 'refueling', 'refurbishing', 'refused', 'refuted', 'regard', 'regarded', 'regents', 'regime', 'regional', 'register', 'registered', 'registration', 'regrets', 'regrettable', 'regretted', 'regrouping', 'regular', 'regularly', 'regulate', 'regulated', 'regulating', 'regulation', 'rehabilitation', 'rehearsal', 'reign', 'rein', 'reiterate', 'reiterated', 'reiterating', 'rejected', 'rejection', 'rejoin', 'rejoining', 'rekindling', 'related', 'relations', 'relationship', 'relationships', 'relative', 'relatively', 'relatives', 'relaxation', 'relearns', 'release', 'released', 'relegated', 'relentlessly', 'reliance', 'relief', 'relieve', 'relieved', 'relieves', 'religion', 'religions', 'religious', 'relinquish', 'reluctant', 'reluctantly', 'rely', 'remain', 'remainder', 'remained', 'remaining', 'remains', 'remanding', 'remark', 'remarkable', 'remarkably', 'remarked', 'remarks', 'remedy', 'remember', 'remembered', 'reminiscence', 'reminiscent', 'reminisces', 'remodeling', 'remote', 'removal', 'remove', 'removed', 'render', 'rendered', 'renderings', 'renew', 'renewal', 'renewed', 'renowned', 'rental', 'rentals', 'renting', 'reopening', 'reorganization', 'repaid', 'repair', 'repaired', 'repairs', 'repartee', 'repay', 'repealed', 'repeated', 'repeatedly', 'replace', 'replaced', 'replacement', 'replied', 'replies', 'reply', 'report', 'reported', 'reportedly', 'reporter', 'reporters', 'reporting', 'reports', 'repository', 'represent', 'representation', 'representations', 'representative', 'representatives', 'represented', 'representing', 'represents', 'reprimanded', 'reprisal', 'reproduced', 'reproductions', 'republic', 'reputation', 'reputedly', 'request', 'requested', 'requesting', 'requests', 'require', 'required', 'requirement', 'requirements', 'requires', 'requiring', 'rescind', 'rescue', 'rescued', 'research', 'researchers', 'resembled', 'resembles', 'resent', 'resented', 'resentment', 'reservations', 'reserve', 'reserved', 'reserves', 'reserving', 'reservoir', 'reservoirs', 'reside', 'residence', 'residences', 'resident', 'residential', 'residents', 'residing', 'resignation', 'resigned', 'resist', 'resistance', 'resistant', 'resisting', 'resolution', 'resolve', 'resort', 'resource', 'resourcefulness', 'resources', 'respect', 'respectable', 'respected', 'respective', 'respects', 'respond', 'responded', 'responding', 'response', 'responses', 'responsibilities', 'responsibility', 'responsible', 'rest', 'restaurant', 'restaurants', 'rested', 'resting', 'restless', 'restrain', 'restrained', 'restraint', 'restrict', 'restricted', 'restriction', 'restrictions', 'result', 'resulted', 'resulting', 'results', 'resumed', 'resumption', 'resurrection', 'retail', 'retailers', 'retain', 'retained', 'retains', 'retaliating', 'retarded', 'retire', 'retired', 'retirement', 'retirements', 'retiring', 'retracted', 'retrenching', 'retrospect', 'return', 'returned', 'returning', 'returns', 'reunion', 'revamped', 'reveal', 'revealed', 'revelation', 'revenge', 'revenue', 'revenuers', 'revenues', 'review', 'reviewed', 'reviewing', 'revised', 'revision', 'revisions', 'revive', 'revived', 'revolt', 'revolutionary', 'revolutionized', 'revolving', 'revulsion', 'reward', 'rhythm', 'ribbon', 'ribbons', 'ribs', 'rich', 'richer', 'richest', 'rid', 'ride', 'rides', 'ridiculous', 'riding', 'rifle', 'rifles', 'rig', 'rigged', 'rigging', 'right', 'right-handed', 'rightfield', 'rightfully', 'righthander', 'rights', 'ring', 'ringing', 'rings', 'ringside', 'ringsiders', 'riot', 'rioting', 'ripened', 'ripped', 'rise', 'risen', 'rises', 'rising', 'risk', 'ritiuality', 'ritual', 'rival', 'rivalries', 'rivalry', 'road', \"road's\", 'roadblock', 'roads', 'roadside', 'roar', 'roaring', 'robbed', 'robber', 'robberies', 'robbery', 'robbing', 'robes', 'rock', 'rock-strewn', 'rocket', \"rocket's\", 'rocket-bomb', 'rocket-bombs', 'rodents', 'role', 'roles', 'roll', 'rolled', 'roller', 'rolling', 'romp', 'romped', 'roof', 'roofer', 'rookie', 'rookie-of-the-year', 'rookies', 'room', 'rooming', 'roommate', 'roommates', 'rooms', 'rooted', 'rose', 'roses', 'roster', 'rosy', 'rotunda', 'rough', 'rough-housing', 'roughly', 'round', 'rounded', 'rounds', 'roundup', 'route', 'routed', 'routine', 'row', 'royal', 'rubbish', 'ruddy', 'ruefully', 'ruggedly', 'rule', 'ruled', 'rulers', 'rules', 'ruling', \"ruling's\", 'rumor', 'rumored', 'run', 'run-scoring', 'run-up', 'run-ups', 'runaway', 'rundown', 'runner-up', 'runners', 'running', 'runs', 'runway', 'rural', 'rush', 'rushed', 'rushing', 'ruthless', 'sacker', 'sacrifice', 'sacrifices', 'sacrilege', 'sad', 'sadism', 'safari', 'safe', 'safely', 'safeties', 'safety', 'saffron', 'sagging', 'said', 'sailing', 'sake', 'salaries', 'salary', 'sale', 'sales', 'sales-conscious', 'salesman', \"salesman's\", 'salesmanship', 'salting', 'salutary', 'saluted', 'same', 'sampled', 'sanctuary', 'sand', 'sandwich', 'sang', 'sank', 'sat', 'satin', 'satisfaction', 'satisfactorily', 'satisfactory', 'satisfied', 'satisfy', 'satisfying', 'saturation', 'saute', 'savage', 'save', 'saved', 'saves', 'saving', 'savings', 'saw', 'saws', 'say', 'saying', 'says', 'scale', 'scalloped', 'scandals', 'scapegoats', 'scarcely', 'scattered', 'scene', 'scenery', 'scenic', 'schedule', 'scheduled', 'schedules', 'scheduling', 'scheme', 'scholar', 'scholars', 'scholarship', 'scholarships', 'scholastic', 'scholastically', 'scholastics', 'school', \"school's\", 'schoolers', 'schooling', 'schools', 'science', 'scientific', 'scientist', 'scoop', 'scope', 'score', 'scoreboard', 'scoreboards', 'scorecard', 'scored', 'scoreless', 'scoring', 'scramble', 'scrambled', 'scrapbook', 'scratches', 'scratching', 'screen', 'screenings', 'scrimmage', 'scrimmaged', 'script', 'scriptures', 'scrutiny', 'sculpture', 'sculptured', 'sculptures', 'sea', 'seams', 'search', 'seashore', 'seaside', 'season', \"season's\", 'seasonal', 'seasonally', 'seasoned', 'seasons', 'seat', 'seated', 'seats', 'secede', 'seceded', 'secessionist', 'second', 'second-degree', 'second-echelon', 'second-half', 'second-place', 'secondary', 'seconds', 'secret', 'secretarial', 'secretary', \"secretary's\", 'secretary-treasurer', 'secretly', 'secrets', 'section', 'sections', 'sectors', 'secular', 'secure', 'securities', 'security', 'see', 'seed', 'seedless', 'seeing', 'seek', 'seekers', 'seeking', 'seeks', 'seem', 'seemed', 'seemingly', 'seems', 'seen', 'sees', 'segment', 'segregated', 'segregation', 'segregationist', 'seize', 'seized', 'seldom', 'select', 'selected', 'selection', 'selections', 'selects', 'self-crimination', 'self-exile', 'self-plagiarisms', 'self-portrait', 'self-respect', 'self-restraint', 'self-sacrifice', 'selfish', 'sell', 'selling', 'sellout', 'sells', 'semester', 'semipublic', 'senate', 'senator', 'senators', 'send', 'sending', 'senior', 'seniority', 'seniors', 'sensation', 'sensational', 'sense', 'senseless', 'sensitive', 'sent', 'sentence', 'sentenced', 'sentences', 'sentencing', 'separate', 'separated', 'separately', 'separating', 'separation', 'separators', 'sequins', 'serene', 'series', 'serious', 'seriously', 'servants', 'serve', 'served', 'serves', 'service', 'services', 'serving', 'session', 'sessions', 'set', 'setback', 'setbacks', 'sets', 'setting', 'settle', 'settled', 'settlement', 'settling', 'setup', 'seven', 'seven-hit', 'seven-iron', 'seven-stories', 'seventeen', 'seventh', 'several', 'severe', 'severely', 'severly', 'sewage', 'sewer', 'sewing', 'sex', 'sexton', 'shade', 'shades', 'shadows', 'shadowy', 'shake', 'shaken', 'shaking', 'shaky', 'shall', 'shape', 'shaped', 'shapeless', 'share', 'shared', 'shareholder', 'shareholders', 'shares', 'sharing', 'sharp', 'sharply', 'she', 'sheep', 'sheet', 'shell', 'shelter', 'shelters', 'shelves', 'sheriff', \"sheriff's\", 'shift', 'shifting', 'shiny', 'ship', 'shipments', 'shipped', 'shipping', 'ships', 'shirking', 'shocked', 'shocker', 'shoe', 'shoes', 'shoji', 'shooting', 'shootings', 'shop', \"shop's\", 'shopping', 'shops', 'short', 'short-term', 'shortage', 'shortages', 'shortcuts', 'shortly', 'shortstop', 'shot', 'shotgun', 'shots', 'should', 'shouldda', 'shoulder', 'shoulders', \"shouldn't\", 'shouted', 'shouting', 'show', 'showdown', 'showed', 'showing', 'showings', 'showman', 'showmanship', 'shown', 'shows', 'shrewd', 'shrimp', 'shrines', 'shrink', 'shrinkage', 'shrinking', 'shrugged', 'shuns', 'sick', 'side', 'sidechairs', 'sidelines', 'sidemen', 'siding', 'sidled', 'sighed', 'sight', 'sights', 'sign', 'signal', 'signaled', 'signals', 'signature', 'signatures', 'signed', 'signers', 'significance', 'significant', 'signing', 'signs', 'silenced', 'silent', 'silhouette', 'silhouettes', 'silk', 'silly', 'silver', 'similar', 'simple', 'simplest', 'simplicity', 'simply', 'simultaneous', 'since', 'sing', 'singers', 'singing', 'single', 'singled', 'sink', 'sinking', 'sinless', 'sins', 'sir', 'sirens', 'sister', \"sister's\", 'sister-in-law', 'sisters', 'sit', 'site', 'sites', 'sitting', 'situation', 'situations', 'six', 'six-point', 'sixth', 'sixth-sense', 'sizable', 'size', 'skeet', 'skid', 'skidded', 'skidding', 'skiddy', 'skies', 'skilled', 'skills', 'skimmed', 'skins', 'skip', 'skips', 'skirt', 'skit', 'skits', 'sky', 'skyjacked', 'skyjackers', 'skylarking', 'slackening', 'slammed', 'slapstick', 'slash', 'slashed', 'slate', 'slated', 'slaughter', 'slave', 'slaying', 'sledding', 'sleeping', 'sleeps', 'slender', 'slice', 'sliced', 'slid', 'slides', 'slight', 'slightly', 'slim', 'slip', 'slipped', 'slipper', 'slippers', 'slob', 'slogan', 'slogans', 'slope', 'slow', 'slow-baked', 'slow-bouncing', 'slowed', 'slower', 'slowly', 'slowly-mending', 'slug', 'slugged', 'slugger', 'sluggers', 'slugging', 'slugs', 'sluice', 'slump', 'slumped', 'slums', 'sly', 'small', 'small-town', 'smaller', 'smallest', 'smash', 'smashed', 'smell', 'smelling', 'smelts', 'smile', 'smiles', 'smoldered', 'smooth', 'smoothed', 'smoother', 'smothered', 'smuggling', 'snack', 'snacks', 'snake', 'snapback', 'snapped', 'snow', 'snowfall', 'snubbed', 'snubbing', 'so', 'so-called', 'so-far', 'so-so', 'soaring', 'social', 'socialized', 'societies', 'society', 'socket', 'socks', 'sofas', 'soft', 'soft-shell', 'softened', 'softening', 'soil', 'sold', 'soldier', 'soldiers', 'solemnly', 'solicit', 'solicitor', 'solicits', 'solid', 'solidarity', 'solo', 'soloists', 'solos', 'solution', 'solve', 'solved', 'solving', 'some', 'somebody', 'somehow', 'someone', 'someplace', 'something', 'sometime', 'sometimes', 'somewhat', 'somewhere', 'son', 'son-in-law', 'song', 'songs', 'sons', 'soon', 'sooner', 'sophisticated', 'sophomore', 'sore', 'sorely', 'sorry', 'sort', 'sorts', 'sought', 'sound', 'sounded', 'soup', 'source', 'sources', 'south', 'southeast', 'southern-central', 'southpaw', 'southward', 'southwest', 'souvenir', 'soviet', 'sow', 'sp.', 'space', 'spacious', 'span', 'spare', 'sparing', 'spark', 'sparkle', 'sparks', 'sparsely', 'speak', 'speaker', 'speakers', 'speaking', 'spearhead', 'special', 'special-interest', 'specialists', 'specialization', 'specialize', 'specialized', 'specializing', 'specialties', 'specific', 'specifically', 'specifications', 'specified', 'specimen', 'speck', 'spectacular', 'spectator', 'spectators', 'specter', 'speculated', 'speculating', 'speculations', 'speculative', 'sped', 'speech', 'speech-making', 'speeches', 'speed', 'speeding', 'speedy', 'spell', 'spelled', 'spend', 'spending', 'spends', 'spent', 'sphynxes', 'spice', 'spices', 'spider-leg', 'spills', 'spirit', 'spirits', 'spiritual', 'splendid', 'split', 'split-level', 'splitting', 'spoke', 'spoken', 'spokesman', 'spokesmen', 'spongy', 'sponsor', 'sponsored', 'sponsoring', 'sponsors', 'sponsorship', 'spontaneous', 'spontaneously', 'spooned', 'sporadic', 'sport', 'sporting', 'sports', 'sportsman', 'sportswriter', 'spot', 'spotlight', 'spotlights', 'spots', 'spotted', 'spouse', 'sprained', 'spraying', 'spread', 'spreads', 'spree', 'spring', 'spring-training', 'springboard', 'springing', 'sprinkle', 'spun', 'spurred', 'spurt', 'spy', 'squabbles', 'squad', 'squads', 'square', 'squared', 'squarely', 'squeeze', 'squeezed', 'stab', 'stabilization', 'stadium', 'staff', 'staffed', 'staffing', 'staffs', 'stag', 'stage', 'stagecoach', 'staged', 'stages', 'staggered', 'staging', 'stairs', 'stake', 'stakes', 'stalemate', 'stalled', 'stances', 'stand', 'stand-ins', 'standard', 'standards', 'standing', 'standpoint', 'stands', 'star', 'stared', 'starred', 'starring', 'stars', 'start', 'started', 'starter', 'starting', 'startled', 'startling', 'startlingly', 'starts', 'state', \"state's\", 'stated', 'statement', 'statements', 'states', 'statesmen', 'statewide', 'stating', 'station', 'stations', 'statistical', 'statistics', 'statues', 'stature', 'status', 'statutes', 'statutory', 'staunchest', 'stave', 'stay', 'stayed', 'stays', 'steady', 'steak', 'steaks', 'steal', 'steam', 'steamed', 'steamily', 'steaming', 'steamship', 'steel', 'steelmaker', \"steelmakers'\", 'steep', 'steer', 'steered', 'steering', 'stein', 'stemmed', 'stems', 'step', 'stephanotis', 'stepped', 'stepped-up', 'stepping', 'steps', 'stepson', 'stereotype', 'stevedore', 'stew', 'stewardess', 'stewardesses', 'stewards', 'stick', 'stiff', 'still', 'still-building', 'stimulant', 'stimulation', 'stimulatory', 'stimulus', 'stirling', 'stirred', 'stitch', 'stock', 'stockholder', 'stockholders', 'stocks', 'stoked', 'stole', 'stolen', 'stomach', 'stomachs', 'stood', 'stop', 'stopovers', 'stoppage', 'stoppages', 'stopped', 'stopping', 'stops', 'storage', 'store', 'stores', 'stories', 'storm', 'storms', 'story', 'stove', 'straight', 'straight-line', 'straightaway', 'strain', 'strange', 'strategic', 'strategy', 'strayed', 'streak', 'streaked', 'stream', 'streamer', 'streamlined', 'streamliner', 'streams', 'street', 'streetcar', 'streets', 'strength', 'strengthen', 'strengthened', 'strengthening', 'stressed', 'stresses', 'stretch', 'stretching', 'strictly', 'strike', 'strikes', 'striking', 'strikingly', 'string', 'strings', 'strip', 'stripped', 'strive', 'stroke', 'strokes', 'strong', 'stronger', 'strongest', 'strongly', 'strongrooms', 'struck', 'structure', 'structured', 'structures', 'struggle', 'struggles', 'struggling', 'stuck', 'student', 'students', \"students'\", 'studied', 'studies', 'studio', 'study', 'studying', 'stuff', 'stuffed', 'stultifying', 'stunk', 'stupidity', 'style', 'styling', 'suavity', 'sub', 'sub-zero', 'subbing', 'subcommittee', 'subdivision', 'subdue', 'subdued', 'subject', 'subjected', 'subjects', 'sublime', 'submachine', 'submarine', 'submarine-ball', 'submarines', 'submitted', 'subordinated', 'subpenaed', 'subpenas', 'subpoenas', 'subs', 'subscribe', 'subsequent', 'subsequently', 'subsidiary', 'subsidies', 'subsidized', 'subsidy', 'subsistence', 'substance', 'substantial', 'substantially', 'substantiation', 'substitute', 'substitutionary', 'subtitled', 'suburb', 'suburban', 'suburbs', 'succeed', 'succeeded', 'succeeding', 'succeeds', 'success', 'successes', 'successful', 'successfully', 'succession', 'successive', 'successor', 'successors', 'such', 'sudden', 'suddenly', 'sue', 'sued', 'suffered', 'suffering', 'sufficient', 'sufficiently', 'suffrage', 'suffragettes', 'sugar', 'suggest', 'suggested', 'suggestion', 'suggestions', 'suicide', 'suit', 'suitable', 'suitcases', 'suite', 'suited', 'suites', 'suits', 'sum', 'summed', 'summer', \"summer's\", 'summertime', 'summit', 'summitry', 'summoned', 'sumptuous', 'sums', 'sun', 'sun-tanned', 'sunbonnet', 'super', 'super-secret', 'superintendent', \"superintendent's\", 'superior', 'supermarkets', 'supernatural', 'supersensitive', 'supervise', 'supervision', 'supervisor', 'supervisors', 'supper', 'supplement', 'supplied', 'supplies', 'supply', 'supplying', 'support', 'supported', 'supporters', 'supports', 'supposed', 'supposedly', 'suppressed', 'supreme', 'sure', 'surely', 'surfaces', 'surge', 'surged', 'surgery', 'surpassed', 'surplus', 'surpluses', 'surprise', 'surprised', 'surprises', 'surprising', 'surrender', 'surrounded', 'surveillance', 'survey', 'surveyed', 'survival', 'survive', 'surviving', 'survivors', 'susceptible', 'suspect', 'suspected', 'suspects', 'suspend', 'suspended', 'suspicion', 'suspicious', 'swap', 'swarm', 'sway', 'swearing', 'swearing-in', 'sweat-suits', 'sweater', 'sweeping', 'sweets', 'swelling', 'swept', 'swift', 'swift-striding', 'swim', 'swimming', 'swine', 'swing', 'swinging', 'swings', 'swipe', 'switch', 'switch-hitter', 'switched', 'switching', 'swum', 'swung', 'symbol', 'sympathetic', 'sympathy', 'symphony', \"symphony's\", 'syndicate', 'system', \"system's\", 'systems', 'tab', 'table', 'tables', 'tacked', 'tackle', 'tactic', 'tactical', 'tactics', 'taffeta', 'tag', 'tagged', 'tail', 'take', 'take-off', 'taken', 'takes', 'taking', 'takings', 'talent', 'talents', 'talk', 'talked', 'talking', 'talks', 'tall', 'tallies', 'tally', 'tambourine', 'tangible', 'tangle', 'tank', 'tanks', 'tape', 'taper', 'tapestries', 'tapestry', 'tapped', 'tardiness', 'target', 'task', 'tasks', 'taste', 'tasteful', 'tastes', 'tattered', 'taught', 'taunted', 'tax', 'tax-aided', 'tax-exempt', 'tax-exemption', 'tax-free', 'tax-freedom', 'taxable', 'taxation', 'taxed', 'taxes', 'taxi', 'taxiing', 'taxing', 'taxpayer', \"taxpayer's\", 'taxpayers', \"taxpayers'\", 'tea', 'teach', 'teacher', 'teacher-employee', 'teachers', 'teaches', 'teaching', 'teahouse', 'team', \"team's\", 'teammate', \"teammate's\", 'teammates', \"teammates'\", 'teams', \"teams'\", 'teamster', 'teamsters', 'teardrop', 'tearing', 'tears', 'tease', 'technical', 'technicians', 'technique', 'techniques', 'technology', 'tee', 'teen-age', 'teen-agers', 'teenage', 'teenagers', 'teeth', 'telephone', 'telephoned', 'teletype', 'televised', 'television', 'tell', 'telling', 'tells', 'temper', 'temperament', 'temperate', 'temperatures', 'temporarily', 'temporary', 'ten', 'ten-concert', 'ten-hour', 'ten-month', 'tend', 'tended', 'tendency', 'tending', 'tennis', 'tenor', 'tense', 'tension', 'tensions', 'tent', 'tentative', 'tentatively', 'tenths', 'tenure', 'term', 'term-end', 'termed', 'terminate', 'terminated', 'termination', 'terms', 'terrace', 'terribly', 'territories', 'territory', 'terror', 'test', 'testified', 'testify', 'testimony', 'testing', 'tests', 'text', 'textile', 'textile-exporting', 'textile-importing', 'textile-producing', 'textiles', 'texture', 'than', 'thank', 'thanks', 'that', \"that's\", 'the', 'theater', 'theaters', 'theatrical', 'theft', 'their', 'them', 'theme', 'themselves', 'then', 'theologian', 'theory', 'there', \"there's\", 'thereafter', 'thereby', 'therefore', 'thereupon', 'these', 'thesis', 'they', \"they'd\", \"they're\", \"they've\", 'thieves', 'thigh', 'thin', 'thing', 'things', 'think', 'thinking', 'thinks', 'thinning', 'third', 'third-inning', 'thirds', 'thirteen', 'thirty', 'thirty-eighth', 'this', 'thorny', 'thoroughfare', 'thoroughly', 'those', 'though', 'thought', 'thousand', 'thousands', 'threads', 'threat', 'threaten', 'threatened', 'threatening', 'threats', 'three', 'three-building', 'three-day', 'three-fifths', 'three-front', 'three-hour', 'three-inning', 'three-man', 'three-month', 'three-round', 'three-story', 'three-way', 'three-wood', 'three-year', 'threesome', 'threshold', 'threw', 'thrill', 'thrilling', 'thriving', 'through', 'throughout', 'throw', 'throwing', 'throws', 'thru', 'thrusts', 'thug', 'thunderous', 'thus', 'thwarted', 'ticket', 'tickets', 'tidal', 'tide', 'tidelands', 'tidying', 'tie', 'tied', 'tiers', 'ties', 'tight', 'tighten', 'tightly', 'tile', 'tiled', 'tiles', 'tilling', 'tilts', 'time', 'timed', 'timeless', 'timely', 'times', 'timetable', 'timing', 'tin', 'tiny', 'tip', 'tipped', 'tired', 'tires', 'titian-haired', 'title', 'title-holder', 'titled', 'titles', 'titular', 'to', 'toast', 'today', \"today's\", 'toes', 'together', 'token', 'told', 'tolerated', 'toll', 'toll-rate', 'toll-road', 'tolls', 'tomato-red', 'tomb', 'tomorrow', \"tomorrow's\", 'ton', 'tone', 'toneless', 'tones', 'tongues', 'tonight', \"tonight's\", 'tons', 'too', 'took', 'tool', 'toolmaker', 'tools', 'top', 'top-grade', 'top-ranking', 'topics', 'topnotch', 'tops', 'tore', 'torn', 'torpedoes', 'tortured', 'toss', 'tossed', 'tosses', 'total', 'totaled', 'totaling', 'totalitarian', 'totally', 'totals', 'touch', 'touchdown', 'touchdowns', 'touched', 'touches', 'tough', 'tougher', 'toughness', 'tour', 'toured', 'tourists', 'tournament', 'tournaments', 'tours', 'toward', 'towards', 'towel', 'towels', 'tower', 'towering', 'town', \"town's\", 'toy', 'toys', 'tracing', 'track', 'tracks', 'tract', 'tractor', 'tractor-trailer', 'tractors', 'tracts', 'trade', 'traded', 'trading', 'tradition', 'traditional', 'traditionally', 'traffic', 'tragedies', 'tragedy', 'trailed', 'trailing', 'train', 'trained', 'training', 'trains', 'trait', 'trampled', 'transaction', 'transatlantic', 'transcended', 'transfer', 'transferred', 'transferring', 'transfers', 'transit', 'transition', 'translate', 'translated', 'translates', 'transmitter', 'transportation', 'transporting', 'transports', 'travel', 'traveled', 'traveling', 'trawler', 'treacheries', 'treasurer', 'treasures', 'treat', 'treated', 'treating', 'treatment', 'trees', 'tremendous', 'trend', 'trends', 'tri-motor', 'trial', 'trials', 'tribe', 'tribes', 'tribesmen', 'tribunal', 'tribunals', 'tribute', 'trick', 'tricked', 'tried', 'tries', 'trim', 'trimmed', 'trims', 'trio', 'trip', 'tripartite', 'triple', 'triple-crown', 'tripled', 'tripping', 'trips', 'triumph', 'triumphs', 'trivial', 'troops', 'troopships', 'trophy', 'trouble', 'troubled', 'troubles', 'troublesome', 'trout', 'truce', 'truck', 'trucks', 'true', 'truly', 'trumpet', 'truncated', 'trust', 'trusted', 'trustees', \"trustees'\", 'trusting', 'truth', 'truths', 'try', 'trying', 'tuba', 'tube', 'tuck', 'tucked', 'tulle', 'tumbled', 'turbines', 'turmoil', 'turn', 'turned', 'turning', 'turnpike', 'turnpikes', 'turns', 'tusks', 'tutors', 'twelfth', 'twelve', 'twenty', 'twenty-first', 'twice', 'twice-a-year', 'twin', 'twirler', 'twisting', 'two', 'two-and-a-half-mile', 'two-family', 'two-game', 'two-hour', 'two-run', 'two-season', 'two-story', 'two-thirds', 'two-year', 'two-year-old', 'twosome', 'tying', 'type', 'types', 'typewriter', 'typewriters', 'typhoon', 'typical', 'ugly', 'ultimate', 'ultimately', 'ultimatum', 'unable', 'unaccustomed', 'unanimity', 'unanimous', 'unanimously', 'unarmed', 'uncertain', 'unchanged', 'unchecked', 'uncle', 'uncles', 'uncommitted', 'uncommon', 'unconsciously', 'unconstitutional', 'uncontrolled', 'unconventional', 'uncorked', 'undefined', 'under', 'under-developed', 'underbelly', 'underdeveloped', 'underestimate', 'undergo', 'undergoing', 'undergone', 'undergraduate', 'underground', 'underlying', 'undermine', 'undermining', 'underprivileged', 'undersea', 'understand', 'understandable', 'understandably', 'understanding', 'understands', 'understatement', 'understates', 'understood', 'undertake', 'undertaken', 'undertakes', 'underwater', 'underwrite', 'underwriter', 'underwriters', 'underwriting', 'undetermined', 'undeveloped', 'undisputed', 'undistinguished', 'undoubtedly', 'undue', 'une', 'unearned', 'unemployment', 'unexpected', 'unfair', 'unfamiliar', 'unfortunately', 'unhappiest', 'unhappily', 'unhappy', 'unheard', 'unified', 'uniform', 'uniformed', 'uniforms', 'unify', 'uninjured', 'union', \"union's\", 'unions', 'unique', 'uniquely', 'unit', 'unite', 'units', 'unity', 'universal', 'universities', 'university', \"university's\", 'unknown', 'unknowns', 'unless', 'unlike', 'unlikely', 'unlinked', 'unmarried', 'unmatched', 'unmeritorious', 'unmistakably', 'unnecessary', 'unnoticed', 'unofficial', 'unpleasant', 'unprecedented', 'unpredictability', 'unprepared', 'unprofitable', 'unquestionably', 'unresponsive', 'unrest', 'unrestrictedly', 'unsatisfactory', 'unscathed', 'unspecified', 'unspoken', 'unsupported', 'unsure', 'until', 'untold', 'untrammeled', 'unusual', 'unusually', 'unveiled', 'unworkable', 'up', 'updated', 'upheld', 'uphold', 'upon', 'upped', 'upper', 'uprisings', 'upset', 'upshots', 'upstairs', 'upswing', 'uptown', 'uptrend', 'upturn', 'upward', 'upwards', 'uranium', 'urban', 'urged', 'urgency', 'urgent', 'urges', 'urging', 'us', 'use', 'used', 'useful', 'usefulness', 'useless', 'uses', 'using', 'usual', 'usually', 'utilitarian', 'utilities', 'utility', 'utter', 'utterly', 'vacancies', 'vacancy', 'vacated', 'vacation', 'vacationing', 'vaguely', 'vagueness', 'valid', 'validated', 'validity', 'valuable', 'valuation', 'value', 'valued', 'valve', 'vanilla', 'vantage', 'variation', 'variations', 'varied', 'varieties', 'variety', 'various', 'variously', 'vary', 'varying', 'vast', 'vehemence', 'vehicle', 'vehicles', 'vehicular', 'veil', 'veiled', 'venerable', 'venom', 'vented', 'ventilates', 'venture', 'ventured', 'verbally', 'verdict', 'verification', 'verify', 'versatile', 'versed', 'version', 'very', 'vessel', 'vests', 'veteran', 'veto', 'vexing', 'via', 'vice', 'vice-chairman', 'vice-president', 'vicinity', 'vicious', 'victim', 'victimized', 'victims', 'victories', 'victory', 'video', 'view', 'viewed', 'viewers', 'viewing', 'viewpoint', 'views', 'vigor', 'vigorous', 'vigorously', 'villa', 'village', 'vindicated', 'vindication', 'vines', 'violate', 'violated', 'violating', 'violation', 'violations', 'violence', 'violent', 'violin', 'violinists', 'virile', 'virtually', 'virtue', 'virtues', 'visa', 'visible', 'visibly', 'vision', 'visit', 'visited', 'visiting', 'visitor', 'visitors', 'visits', 'vital', 'vitality', 'vitally', 'vivid', 'vocalization', 'vocals', 'vocational', 'voice', 'voiced', 'volume', 'volumes', 'voluntarily', 'voluntary', 'volunteer', 'volunteered', 'volunteers', 'vote', 'voted', 'voter', 'voters', 'votes', 'voting', 'vouchers', 'vow', 'vowed', 'vows', 'vs.', 'vulgar', 'w.', 'wage', 'waged', 'wages', 'wagging', 'wagons', 'wailed', 'wait', 'waited', 'waiting', 'walk', 'walked', 'walking', 'walkout', 'walks', 'walkways', 'wall', 'wall-to-wall', 'wallet', 'walloped', 'walloping', 'walls', 'walnut', 'want', 'wanted', 'wanting', 'wants', 'war', \"war's\", 'war-ridden', 'warbling', 'ward', 'warden', 'wardens', 'wardrobe', 'wards', 'warehouse', \"warehouseman's\", 'warfare', 'warhead', 'warless', 'warm', 'warmed', 'warmth', 'warn', 'warned', 'warning', 'warnings', 'warrant', 'wars', 'wary', 'was', 'wash', 'washed', 'washed-out', \"wasn't\", 'wasteful', 'watch', 'watched', 'watchers', 'watching', 'water', 'watered', 'waterfront', 'waterline', 'waters', 'wave', 'waved', 'wavelengths', 'way', 'ways', 'wayward', 'we', \"we'd\", \"we'll\", \"we're\", \"we've\", 'weaken', 'weakened', 'weaker', 'weakness', 'weaknesses', 'wealth', 'wealthy', 'weapon', 'weapons', 'wear', 'wearing', 'weary', 'weather', 'wed', 'wedding', 'wedge', 'weeds', 'week', \"week's\", 'week-end', 'weekend', 'weekly', 'weeks', 'weigh', 'weighs', 'weight', 'welcome', 'welcomed', 'welcoming', 'welfare', 'well', 'well-armed', 'well-established', 'well-informed', 'well-planned', 'well-played', 'well-prepared', 'well-springs', 'well-stocked', 'welled', 'wellknown', 'went', 'were', \"weren't\", 'west', 'western', 'wetlands', 'what', 'whatever', 'wheat', 'wheel', 'wheeled', 'wheels', 'when', 'where', 'whereby', 'wherever', 'whether', 'which', 'whichever', 'while', 'whims', 'whip', 'whiplash', 'whipped', 'whirling', 'whisking', 'white', 'white-clad', 'whites', 'whiz', 'who', 'whole', 'wholesale', 'wholly', 'wholly-owned', 'whom', 'whopping', 'whose', 'why', 'wide', 'wide-open', 'wide-ranging', 'widely', 'wider', 'widespread', 'widow', 'widowed', 'wife', \"wife's\", 'wild', 'wilderness', 'wildlife', 'wildly', 'will', 'willing', 'willingness', 'win', 'wind', 'wind-and-water', 'window', 'windows', 'winds', 'windshield', 'windy', 'wing', 'winged', 'wings', 'winless', 'winner', 'winners', 'winning', 'winnings', 'wins', 'winter', 'wintertime', 'wiped', 'wiping', 'wire', 'wired', 'wisdom', 'wish', 'wished', 'wistfully', 'with', 'withdraw', 'withdrawal', 'withdrawing', 'withdrawn', 'within', 'without', 'withstand', 'witness', 'witnessed', 'witnesses', 'witnessing', 'woman', \"woman's\", 'women', \"women's\", 'women-trodden', 'won', \"won't\", 'won-lost', 'wonder', 'wonderful', 'wonderfully', 'woo', 'wood', 'woodcarver', 'wooden', 'woods', 'wool', 'word', 'worded', 'wording', 'words', 'wore', 'work', 'workable', 'worked', 'worker', 'workers', \"workers'\", 'working', 'workmen', 'workout', 'works', 'workshop', 'workshops', 'world', \"world's\", 'world-famous', 'world-wide', 'wormy', 'worn', 'worry', 'worse', 'worsens', 'worship', 'worst', 'worth', 'worthiest', 'would', \"wouldn't\", 'wound', 'wrangler', 'wrapping', 'wreath', 'wreck', 'wrecked', 'wrinkle', 'wrinkles', 'write', 'writer', 'writers', \"writers'\", 'writes', 'writing', 'written', 'wrong', 'wrongdoing', 'wrongful', 'wrote', 'yard', 'yardage', 'yards', 'yardstick', 'yarn', 'ye', 'year', \"year's\", 'year-earlier', 'year-old', 'year-round', 'year-to-year', 'yearbook', 'yearly', 'years', \"years'\", 'yeast', 'yellow', 'yen', 'yesterday', \"yesterday's\", 'yesteryear', 'yet', 'yield', 'yielding', 'yields', 'yodel', 'you', \"you'd\", \"you'll\", \"you're\", \"you've\", 'young', 'younger', 'youngest', 'youngsters', 'your', 'yourself', 'youth', 'youthful', 'youths', 'zeal', 'zeroed', 'zinc', 'zombies', 'zone']\n"
     ]
    }
   ],
   "source": [
    "word_list = sorted(set(tokens))\n",
    "print(word_list)"
   ]
  },
  {
   "cell_type": "code",
   "execution_count": 40,
   "metadata": {},
   "outputs": [
    {
     "name": "stdout",
     "output_type": "stream",
     "text": [
      "  1   0.63% The\n",
      "  2   0.63% Fulton\n",
      "  3   0.63% County\n",
      "  4   0.64% Grand\n",
      "  5   0.64% Jury\n",
      "  6   0.80% said\n",
      "  7   0.81% Friday\n",
      "  8   1.11% an\n",
      "  9   1.12% investigation\n",
      " 10   4.22% of\n",
      " 11   4.22% Atlanta's\n",
      " 12   4.24% recent\n",
      " 13   4.25% primary\n",
      " 14   4.25% election\n",
      " 15   4.26% produced\n",
      " 16   5.02% ``\n",
      " 17   5.18% no\n",
      " 18   5.19% evidence\n",
      " 19   5.95% ''\n",
      " 20   6.83% that\n",
      " 21   6.94% any\n",
      " 22   6.94% irregularities\n",
      " 23   6.98% took\n",
      " 24   7.03% place\n",
      " 25  11.28% .\n",
      " 26  11.28% jury\n",
      " 27  11.30% further\n",
      " 28  12.98% in\n",
      " 29  12.98% term-end\n",
      " 30  12.98% presentments\n",
      " 31  18.38% the\n",
      " 32  18.39% City\n",
      " 33  18.39% Executive\n",
      " 34  18.40% Committee\n",
      " 35  23.42% ,\n",
      " 36  23.73% which\n",
      " 37  24.17% had\n",
      " 38  24.17% over-all\n",
      " 39  24.18% charge\n",
      " 40  24.18% deserves\n",
      " 41  24.18% praise\n",
      " 42  26.59% and\n"
     ]
    }
   ],
   "source": [
    "fd = nltk.FreqDist(nltk.corpus.brown.words())\n",
    "cumulative = 0.0\n",
    "for rank, word in enumerate(fd):\n",
    "    cumulative += fd[word] * 100 / fd.N()\n",
    "    print (\"%3d %6.2f%% %s\" % (rank+1, cumulative, word))\n",
    "        \n",
    "    if cumulative > 25:\n",
    "        break"
   ]
  },
  {
   "cell_type": "code",
   "execution_count": 41,
   "metadata": {},
   "outputs": [
    {
     "name": "stdout",
     "output_type": "stream",
     "text": [
      "unextinguishable\n"
     ]
    }
   ],
   "source": [
    "text = nltk.corpus.gutenberg.words('milton-paradise.txt')\n",
    "longest = ''\n",
    "\n",
    "for word in text:\n",
    "    if len(word) > len(longest):\n",
    "        longest = word\n",
    "print (longest)"
   ]
  },
  {
   "cell_type": "code",
   "execution_count": 42,
   "metadata": {},
   "outputs": [
    {
     "name": "stdout",
     "output_type": "stream",
     "text": [
      "['unextinguishable', 'transubstantiate', 'inextinguishable', 'incomprehensible']\n"
     ]
    }
   ],
   "source": [
    "maxlen = max(len(word) for word in text)\n",
    "\n",
    "print ([word for word in text if len(word) == maxlen])"
   ]
  },
  {
   "cell_type": "markdown",
   "metadata": {},
   "source": [
    "### Some Legitimate Uses for Counters"
   ]
  },
  {
   "cell_type": "code",
   "execution_count": 43,
   "metadata": {},
   "outputs": [
    {
     "name": "stdout",
     "output_type": "stream",
     "text": [
      "[['The', 'dog', 'gave'], ['dog', 'gave', 'John'], ['gave', 'John', 'the'], ['John', 'the', 'newspaper']]\n"
     ]
    }
   ],
   "source": [
    "sent = ['The', 'dog', 'gave', 'John', 'the', 'newspaper']\n",
    "n = 3\n",
    "\n",
    "print ([sent[i:i+n] for i in range(len(sent)-n+1)])"
   ]
  },
  {
   "cell_type": "code",
   "execution_count": 44,
   "metadata": {},
   "outputs": [
    {
     "name": "stdout",
     "output_type": "stream",
     "text": [
      "[[set(), set(), set(), set(), set(), set(), set()], [set(), set(), set(), set(), set(), set(), set()], [set(), set(), set(), set(), set(), {'Alice'}, set()]]\n"
     ]
    }
   ],
   "source": [
    "m, n = 3, 7\n",
    "array = [[set() for i in range(n)] for j in range(m)]\n",
    "array[2][5].add('Alice')\n",
    "\n",
    "print(array)"
   ]
  },
  {
   "cell_type": "code",
   "execution_count": 45,
   "metadata": {},
   "outputs": [
    {
     "name": "stdout",
     "output_type": "stream",
     "text": [
      "[[{7}, {7}, {7}, {7}, {7}, {7}, {7}], [{7}, {7}, {7}, {7}, {7}, {7}, {7}], [{7}, {7}, {7}, {7}, {7}, {7}, {7}]]\n"
     ]
    }
   ],
   "source": [
    "array = [[set()] * n] * m\n",
    "array[2][5].add(7)\n",
    "print(array)"
   ]
  },
  {
   "cell_type": "markdown",
   "metadata": {},
   "source": [
    "## 4.4 Functions: The Foundation of Structured Programming"
   ]
  },
  {
   "cell_type": "code",
   "execution_count": 46,
   "metadata": {},
   "outputs": [],
   "source": [
    "#Read text from a file\n",
    "\n",
    "import re\n",
    "\n",
    "def get_text(file):\n",
    "    \"\"\"Read text from a file, normalizing whitespace and stripping HTML markup.\"\"\"\n",
    "    text = open(file).read()\n",
    "    text = re.sub('\\s+', ' ', text)\n",
    "    text = re.sub(r'<.*?>', ' ', text)\n",
    "    return text"
   ]
  },
  {
   "cell_type": "markdown",
   "metadata": {},
   "source": [
    "### Function Inputs and Outputs"
   ]
  },
  {
   "cell_type": "code",
   "execution_count": 47,
   "metadata": {},
   "outputs": [
    {
     "name": "stdout",
     "output_type": "stream",
     "text": [
      "Monty Python Monty Python Monty Python\n"
     ]
    }
   ],
   "source": [
    "def repeat(msg, num):\n",
    "    return ' '.join([msg] * num)\n",
    "\n",
    "monty = 'Monty Python'\n",
    "print (repeat(monty, 3))"
   ]
  },
  {
   "cell_type": "code",
   "execution_count": 48,
   "metadata": {},
   "outputs": [
    {
     "name": "stdout",
     "output_type": "stream",
     "text": [
      "Monty Python\n"
     ]
    }
   ],
   "source": [
    "def monty():\n",
    "    return \"Monty Python\"\n",
    "\n",
    "print (monty())"
   ]
  },
  {
   "cell_type": "code",
   "execution_count": 49,
   "metadata": {},
   "outputs": [
    {
     "name": "stdout",
     "output_type": "stream",
     "text": [
      "Monty Python Monty Python Monty Python\n",
      "Monty Python Monty Python Monty Python\n"
     ]
    }
   ],
   "source": [
    "print (repeat(monty(), 3))\n",
    "\n",
    "print (repeat('Monty Python', 3))"
   ]
  },
  {
   "cell_type": "code",
   "execution_count": 50,
   "metadata": {},
   "outputs": [],
   "source": [
    "def my_sort1(mylist): # good: modifies its argument, no return value\n",
    "    mylist.sort()\n",
    "    \n",
    "def my_sort2(mylist): # good: doesn't touch its argument, returns value\n",
    "    return sorted(mylist)\n",
    "\n",
    "def my_sort3(mylist): # bad: modifies its argument and also returns it\n",
    "    mylist.sort()\n",
    "    return mylist"
   ]
  },
  {
   "cell_type": "markdown",
   "metadata": {},
   "source": [
    "### Parameter Passing"
   ]
  },
  {
   "cell_type": "code",
   "execution_count": 51,
   "metadata": {},
   "outputs": [
    {
     "name": "stdout",
     "output_type": "stream",
     "text": [
      "None\n",
      "\n",
      "['noun']\n"
     ]
    }
   ],
   "source": [
    "def set_up(word, properties):\n",
    "    word = 'lolcat'\n",
    "    properties.append('noun')\n",
    "    properties = 5\n",
    "    \n",
    "w = ''\n",
    "p = []\n",
    "\n",
    "print (set_up(w, p))\n",
    "print (w)\n",
    "print (p)"
   ]
  },
  {
   "cell_type": "code",
   "execution_count": 52,
   "metadata": {},
   "outputs": [
    {
     "name": "stdout",
     "output_type": "stream",
     "text": [
      "\n"
     ]
    }
   ],
   "source": [
    "w = ''\n",
    "word = w\n",
    "word = 'lolcat'\n",
    "\n",
    "print (w)"
   ]
  },
  {
   "cell_type": "code",
   "execution_count": 53,
   "metadata": {},
   "outputs": [
    {
     "name": "stdout",
     "output_type": "stream",
     "text": [
      "[]\n"
     ]
    }
   ],
   "source": [
    "p = []\n",
    "properties = p\n",
    "#print (properties.append['noun'])\n",
    "\n",
    "properties = 5\n",
    "print (p)"
   ]
  },
  {
   "cell_type": "markdown",
   "metadata": {},
   "source": [
    "### Variable Scope"
   ]
  },
  {
   "cell_type": "markdown",
   "metadata": {},
   "source": [
    "### Checking Parameter Types"
   ]
  },
  {
   "cell_type": "code",
   "execution_count": 54,
   "metadata": {},
   "outputs": [
    {
     "name": "stdout",
     "output_type": "stream",
     "text": [
      "det\n",
      "noun\n",
      "noun\n"
     ]
    }
   ],
   "source": [
    "def tag(word):\n",
    "    if word in ['a', 'the', 'all']:\n",
    "        return 'det'\n",
    "    else:\n",
    "        return 'noun'\n",
    "    \n",
    "print (tag('the'))\n",
    "\n",
    "print (tag('knight'))\n",
    "\n",
    "print (tag([\"'Tis\", 'but', 'a', 'scratch']))"
   ]
  },
  {
   "cell_type": "code",
   "execution_count": 55,
   "metadata": {},
   "outputs": [],
   "source": [
    "def tag(word):\n",
    "    assert isinstance(word, basestring), \"argument to tag() must be a string\"\n",
    "    \n",
    "    if word in ['a', 'the', 'all']:\n",
    "        return 'det'\n",
    "    else:\n",
    "        return 'noun'"
   ]
  },
  {
   "cell_type": "markdown",
   "metadata": {},
   "source": [
    "### Functional Decomposition"
   ]
  },
  {
   "cell_type": "code",
   "execution_count": 56,
   "metadata": {
    "scrolled": true
   },
   "outputs": [
    {
     "name": "stdout",
     "output_type": "stream",
     "text": [
      "dict_keys(['http'])\n",
      "dict_keys(['http', ':'])\n",
      "dict_keys(['http', ':', '//www.archives.gov/national-archives-experience/charters/constitution_transcript.html'])\n",
      "None\n"
     ]
    },
    {
     "name": "stderr",
     "output_type": "stream",
     "text": [
      "/home/prajwol/anaconda3/lib/python3.6/site-packages/bs4/__init__.py:375: UserWarning: \"http://www.archives.gov/national-archives-experience/charters/constitution_transcript.html\" looks like a URL. Beautiful Soup is not an HTTP client. You should probably use an HTTP client like requests to get the document behind the URL, and feed that document to Beautiful Soup.\n",
      "  ' that document to Beautiful Soup.' % decoded_markup\n"
     ]
    }
   ],
   "source": [
    "#Poorly designed function to compute frequent words.\n",
    "import nltk\n",
    "\n",
    "def freq_words(url, freqdist, n):\n",
    "    from bs4 import BeautifulSoup\n",
    "\n",
    "    # takes an HTML string and returns raw text\n",
    "    text = BeautifulSoup(url).get_text()\n",
    "\n",
    "    for word in nltk.word_tokenize(text):\n",
    "        freqdist[word.lower()]+=1\n",
    "        print (freqdist.keys())\n",
    "        \n",
    "constitution = \"http://www.archives.gov/national-archives-experience/charters/constitution_transcript.html\"\n",
    "fd = nltk.FreqDist()\n",
    "print (freq_words(constitution, fd, 20))"
   ]
  },
  {
   "cell_type": "code",
   "execution_count": 57,
   "metadata": {},
   "outputs": [
    {
     "name": "stdout",
     "output_type": "stream",
     "text": [
      "dict_keys(['http', ':', '//www.archives.gov/national-archives-experience/charters/constitution_transcript.html'])\n"
     ]
    }
   ],
   "source": [
    "#Well-designed function to compute frequent words.\n",
    "\n",
    "def freq_words(url):\n",
    "    freqdist = nltk.FreqDist()    \n",
    "    from bs4 import BeautifulSoup\n",
    "\n",
    "    # takes an HTML string and returns raw text\n",
    "    text = BeautifulSoup(url).get_text()\n",
    "    for word in nltk.word_tokenize(text):\n",
    "        freqdist[word.lower()]+=1\n",
    "    return freqdist\n",
    "\n",
    "fd = freq_words(constitution)\n",
    "print (fd.keys())"
   ]
  },
  {
   "cell_type": "code",
   "execution_count": 58,
   "metadata": {},
   "outputs": [
    {
     "name": "stdout",
     "output_type": "stream",
     "text": [
      "dict_keys(['http', ':', '//www.archives.gov/national-archives-experience/charters/constitution_transcript.html'])\n"
     ]
    }
   ],
   "source": [
    "# we have now simplified the work of freq_words\n",
    "\n",
    "from bs4 import BeautifulSoup\n",
    "# takes an HTML string and returns raw text\n",
    "words = nltk.word_tokenize(BeautifulSoup(constitution).get_text())\n",
    "\n",
    "fd = nltk.FreqDist(word.lower() for word in words)\n",
    "print (fd.keys())"
   ]
  },
  {
   "cell_type": "markdown",
   "metadata": {},
   "source": [
    "### Documenting Functions"
   ]
  },
  {
   "cell_type": "code",
   "execution_count": 59,
   "metadata": {},
   "outputs": [],
   "source": [
    "#Illustration of a complete docstring, consisting of a one-line summary, a more detailed\n",
    "#explanation, a doctest example, and epytext markup specifying the parameters, types, return type,\n",
    "#and exceptions.\n",
    "def accuracy(reference, test):\n",
    "    \"\"\"\n",
    "    Calculate the fraction of test items that equal the corresponding reference items.\n",
    "\n",
    "    Given a list of reference values and a corresponding list of test values,\n",
    "    return the fraction of corresponding values that are equal.\n",
    "    In particular, return the fraction of indexes\n",
    "    {0<i<=len(test)} such that C{test[i] == reference[i]}.\n",
    "\n",
    "    print (accuracy(['ADJ', 'N', 'V', 'N'], ['N', 'N', 'V', 'ADJ']))\n",
    "\n",
    "    @param reference: An ordered list of reference values.\n",
    "    @type reference: C{list}\n",
    "    @param test: A list of values to compare against the corresponding reference values.\n",
    "    @type test: C{list}\n",
    "    @rtype: C{float}\n",
    "    @raise ValueError: If C{reference} and C{length} do not have the same length.\n",
    "    \"\"\"\n",
    "    if len(reference) != len(test):\n",
    "        raise ValueError(\"Lists must have the same length.\")\n",
    "    \n",
    "    num_correct = 0\n",
    "\n",
    "    for x, y in izip(reference, test):\n",
    "        if x == y:\n",
    "            num_correct += 1\n",
    "    return float(num_correct) / len(reference)"
   ]
  },
  {
   "cell_type": "markdown",
   "metadata": {},
   "source": [
    "## 4.5 Doing More with Functions"
   ]
  },
  {
   "cell_type": "markdown",
   "metadata": {},
   "source": [
    "### Functions As Arguments"
   ]
  },
  {
   "cell_type": "code",
   "execution_count": 60,
   "metadata": {},
   "outputs": [
    {
     "name": "stdout",
     "output_type": "stream",
     "text": [
      "[4, 4, 2, 3, 5, 1, 3, 3, 6, 4, 4, 4, 2, 10, 1]\n",
      "['e', 'e', 'f', 'e', 'e', ',', 'd', 'e', 's', 'l', 'e', 'e', 'f', 's', '.']\n"
     ]
    }
   ],
   "source": [
    "sent = ['Take', 'care', 'of', 'the', 'sense', ',', 'and', 'the', 'sounds', 'will', 'take', 'care', 'of', 'themselves', '.']\n",
    "\n",
    "def extract_property(prop):\n",
    "    return [prop(word) for word in sent]\n",
    "\n",
    "print (extract_property(len))\n",
    "\n",
    "def last_letter(word):\n",
    "    return word[-1]\n",
    "\n",
    "print (extract_property(last_letter))"
   ]
  },
  {
   "cell_type": "code",
   "execution_count": 61,
   "metadata": {},
   "outputs": [
    {
     "data": {
      "text/plain": [
       "['e', 'e', 'f', 'e', 'e', ',', 'd', 'e', 's', 'l', 'e', 'e', 'f', 's', '.']"
      ]
     },
     "execution_count": 61,
     "metadata": {},
     "output_type": "execute_result"
    }
   ],
   "source": [
    "extract_property(lambda w: w[-1])"
   ]
  },
  {
   "cell_type": "code",
   "execution_count": 62,
   "metadata": {},
   "outputs": [
    {
     "name": "stdout",
     "output_type": "stream",
     "text": [
      "[',', '.', 'Take', 'and', 'care', 'care', 'of', 'of', 'sense', 'sounds', 'take', 'the', 'the', 'themselves', 'will']\n"
     ]
    }
   ],
   "source": [
    "def cmp(a, b):\n",
    "    return (a > b) - (a < b) \n",
    "\n",
    "print (sorted(sent))"
   ]
  },
  {
   "cell_type": "markdown",
   "metadata": {},
   "source": [
    "### Accumulative Functions"
   ]
  },
  {
   "cell_type": "code",
   "execution_count": 63,
   "metadata": {},
   "outputs": [
    {
     "name": "stdout",
     "output_type": "stream",
     "text": [
      "search1:\n",
      "Grizzlies'\n",
      "fizzled\n",
      "Rizzuto\n",
      "huzzahs\n",
      "dazzler\n",
      "jazz\n",
      "Pezza\n",
      "Pezza\n",
      "Pezza\n",
      "embezzling\n",
      "embezzlement\n",
      "pizza\n",
      "jazz\n",
      "Ozzie\n",
      "nozzle\n",
      "drizzly\n",
      "puzzle\n",
      "puzzle\n",
      "dazzling\n",
      "Sizzling\n",
      "guzzle\n",
      "puzzles\n",
      "dazzling\n",
      "jazz\n",
      "jazz\n",
      "Jazz\n",
      "jazz\n",
      "Jazz\n",
      "jazz\n",
      "jazz\n",
      "Jazz\n",
      "jazz\n",
      "jazz\n",
      "jazz\n",
      "Jazz\n",
      "jazz\n",
      "dizzy\n",
      "jazz\n",
      "Jazz\n",
      "puzzler\n",
      "jazz\n",
      "jazzmen\n",
      "jazz\n",
      "jazz\n",
      "Jazz\n",
      "Jazz\n",
      "Jazz\n",
      "jazz\n",
      "Jazz\n",
      "jazz\n",
      "jazz\n",
      "jazz\n",
      "Jazz\n",
      "jazz\n",
      "jazz\n",
      "jazz\n",
      "jazz\n",
      "jazz\n",
      "jazz\n",
      "jazz\n",
      "jazz\n",
      "jazz\n",
      "Jazz\n",
      "Jazz\n",
      "jazz\n",
      "jazz\n",
      "nozzles\n",
      "nozzle\n",
      "puzzle\n",
      "buzz\n",
      "puzzle\n",
      "blizzard\n",
      "blizzard\n",
      "sizzling\n",
      "puzzled\n",
      "puzzle\n",
      "puzzle\n",
      "muzzle\n",
      "muzzle\n",
      "muezzin\n",
      "blizzard\n",
      "Neo-Jazz\n",
      "jazz\n",
      "muzzle\n",
      "piazzas\n",
      "puzzles\n",
      "puzzles\n",
      "embezzle\n",
      "buzzed\n",
      "snazzy\n",
      "buzzes\n",
      "puzzled\n",
      "puzzled\n",
      "muzzle\n",
      "whizzing\n",
      "jazz\n",
      "Belshazzar\n",
      "Lizzie\n",
      "Lizzie\n",
      "Lizzie\n",
      "Lizzie\n",
      "Lizzie\n",
      "Lizzie\n",
      "Lizzie\n",
      "Lizzie\n",
      "Lizzie's\n",
      "Lizzie\n",
      "Lizzie\n",
      "Lizzie\n",
      "Lizzie\n",
      "Lizzie\n",
      "Lizzie\n",
      "Lizzie\n",
      "Lizzie\n",
      "Lizzie\n",
      "blizzard\n",
      "blizzards\n",
      "blizzard\n",
      "blizzard\n",
      "fuzzy\n",
      "Lazzeri\n",
      "Piazza\n",
      "piazza\n",
      "palazzi\n",
      "Piazza\n",
      "Piazza\n",
      "Palazzo\n",
      "Palazzo\n",
      "Palazzo\n",
      "Piazza\n",
      "Piazza\n",
      "Palazzo\n",
      "palazzo\n",
      "palazzo\n",
      "Palazzo\n",
      "Palazzo\n",
      "Piazza\n",
      "piazza\n",
      "piazza\n",
      "piazza\n",
      "Piazza\n",
      "Piazza\n",
      "Palazzo\n",
      "palazzo\n",
      "Piazza\n",
      "piazza\n",
      "pizza\n",
      "Piazza\n",
      "Palazzo\n",
      "palazzo\n",
      "dazzling\n",
      "puzzling\n",
      "Wozzek\n",
      "dazzling\n",
      "dazzling\n",
      "buzzing\n",
      "Jazz\n",
      "jazz\n",
      "Jazz\n",
      "Jazz\n",
      "jazz\n",
      "jazz\n",
      "jazz\n",
      "jazz\n",
      "Jazz\n",
      "jazz\n",
      "jazz\n",
      "jazz\n",
      "Fuzzy\n",
      "Lizzy\n",
      "Lizzy\n",
      "jazz\n",
      "fuzzy\n",
      "puzzles\n",
      "puzzling\n",
      "puzzling\n",
      "dazzle\n",
      "puzzle\n",
      "dazzling\n",
      "puzzled\n",
      "jazz\n",
      "jazz\n",
      "jazz\n",
      "jazzy\n",
      "whizzed\n",
      "frazzled\n",
      "quizzical\n",
      "puzzling\n",
      "poetry-and-jazz\n",
      "poetry-and-jazz\n",
      "jazz\n",
      "jazz\n",
      "jazz\n",
      "jazz\n",
      "jazz\n",
      "jazz\n",
      "jazz\n",
      "Jazz\n",
      "jazz\n",
      "jazz\n",
      "jazz\n",
      "poetry-and-jazz\n",
      "jazz\n",
      "jazz\n",
      "jazz\n",
      "Dizzy\n",
      "jazz\n",
      "jazz\n",
      "jazz\n",
      "jazz\n",
      "jazz\n",
      "poetry-and-jazz\n",
      "jazz\n",
      "jazz\n",
      "jazz\n",
      "jazz\n",
      "jazz\n",
      "jazz\n",
      "jazz\n",
      "jazz\n",
      "jazz\n",
      "jazz\n",
      "jazz\n",
      "jazz\n",
      "dazzled\n",
      "bedazzlement\n",
      "bedazzled\n",
      "Piazzo\n",
      "nozzles\n",
      "nozzles\n",
      "buzzing\n",
      "dazzles\n",
      "dizzy\n",
      "puzzling\n",
      "puzzling\n",
      "puzzling\n",
      "puzzle\n",
      "muzzle\n",
      "puzzled\n",
      "nozzle\n",
      "Pozzatti\n",
      "Pozzatti\n",
      "Pozzatti\n",
      "puzzled\n",
      "Pozzatti\n",
      "Pozzatti\n",
      "dazzling\n",
      "pizzicato\n",
      "Jazz\n",
      "jazz\n",
      "jazz\n",
      "jazz\n",
      "jazz\n",
      "nozzle\n",
      "grizzled\n",
      "fuzzy\n",
      "muzzle\n",
      "puzzled\n",
      "puzzle\n",
      "muzzle\n",
      "blizzard\n",
      "buzz\n",
      "dizzily\n",
      "drizzle\n",
      "drizzle\n",
      "drizzle\n",
      "sizzled\n",
      "puzzled\n",
      "puzzled\n",
      "puzzled\n",
      "fuzzed\n",
      "buzz\n",
      "buzz\n",
      "buzz\n",
      "buzz-buzz-buzz\n",
      "buzzes\n",
      "fuzzy\n",
      "frizzled\n",
      "drizzle\n",
      "drizzle\n",
      "drizzling\n",
      "drizzling\n",
      "fuzz\n",
      "jazz\n",
      "jazz\n",
      "fuzz\n",
      "puzzle\n",
      "puzzling\n",
      "Nozze\n",
      "mezzo\n",
      "puzzled\n",
      "puzzled\n",
      "dazzling\n",
      "muzzle\n",
      "muzzle\n",
      "muzzle\n",
      "buzzed\n",
      "whizzed\n",
      "sizzled\n",
      "palazzos\n",
      "puzzlement\n",
      "frizzling\n",
      "puzzled\n",
      "puzzled\n",
      "puzzled\n",
      "dazzling\n",
      "muzzles\n",
      "fuzzy\n",
      "jazz\n",
      "ex-jazz\n",
      "sizzle\n",
      "grizzly\n",
      "guzzled\n",
      "buzzing\n",
      "fuzz\n",
      "nuzzled\n",
      "Kizzie\n",
      "Kizzie\n",
      "Kizzie\n",
      "Kezziah\n",
      "Kizzie\n",
      "Kizzie\n",
      "Buzz's\n",
      "Buzz\n",
      "Buzz\n",
      "Buzz\n",
      "Buzz\n",
      "Buzz\n",
      "Buzz\n",
      "Buzz\n",
      "Buzz\n",
      "dizzy\n",
      "piazza\n",
      "buzzing\n",
      "Puzzled\n",
      "dizziness\n",
      "dazzled\n",
      "Piazza\n",
      "Carrozza\n",
      "fuzzy\n",
      "dizzy\n",
      "buzzing\n",
      "buzzing\n",
      "puzzled\n",
      "puzzling\n",
      "puzzled\n",
      "puzzled\n",
      "Quizzical\n",
      "pizza\n",
      "search2:\n",
      "Grizzlies'\n",
      "fizzled\n",
      "Rizzuto\n",
      "huzzahs\n",
      "dazzler\n",
      "jazz\n",
      "Pezza\n",
      "Pezza\n",
      "Pezza\n",
      "embezzling\n",
      "embezzlement\n",
      "pizza\n",
      "jazz\n",
      "Ozzie\n",
      "nozzle\n",
      "drizzly\n",
      "puzzle\n",
      "puzzle\n",
      "dazzling\n",
      "Sizzling\n",
      "guzzle\n",
      "puzzles\n",
      "dazzling\n",
      "jazz\n",
      "jazz\n",
      "Jazz\n",
      "jazz\n",
      "Jazz\n",
      "jazz\n",
      "jazz\n",
      "Jazz\n",
      "jazz\n",
      "jazz\n",
      "jazz\n",
      "Jazz\n",
      "jazz\n",
      "dizzy\n",
      "jazz\n",
      "Jazz\n",
      "puzzler\n",
      "jazz\n",
      "jazzmen\n",
      "jazz\n",
      "jazz\n",
      "Jazz\n",
      "Jazz\n",
      "Jazz\n",
      "jazz\n",
      "Jazz\n",
      "jazz\n",
      "jazz\n",
      "jazz\n",
      "Jazz\n",
      "jazz\n",
      "jazz\n",
      "jazz\n",
      "jazz\n",
      "jazz\n",
      "jazz\n",
      "jazz\n",
      "jazz\n",
      "jazz\n",
      "Jazz\n",
      "Jazz\n",
      "jazz\n",
      "jazz\n",
      "nozzles\n",
      "nozzle\n",
      "puzzle\n",
      "buzz\n",
      "puzzle\n",
      "blizzard\n",
      "blizzard\n",
      "sizzling\n",
      "puzzled\n",
      "puzzle\n",
      "puzzle\n",
      "muzzle\n",
      "muzzle\n",
      "muezzin\n",
      "blizzard\n",
      "Neo-Jazz\n",
      "jazz\n",
      "muzzle\n",
      "piazzas\n",
      "puzzles\n",
      "puzzles\n",
      "embezzle\n",
      "buzzed\n",
      "snazzy\n",
      "buzzes\n",
      "puzzled\n",
      "puzzled\n",
      "muzzle\n",
      "whizzing\n",
      "jazz\n",
      "Belshazzar\n",
      "Lizzie\n",
      "Lizzie\n",
      "Lizzie\n",
      "Lizzie\n",
      "Lizzie\n",
      "Lizzie\n",
      "Lizzie\n",
      "Lizzie\n",
      "Lizzie's\n",
      "Lizzie\n",
      "Lizzie\n",
      "Lizzie\n",
      "Lizzie\n",
      "Lizzie\n",
      "Lizzie\n",
      "Lizzie\n",
      "Lizzie\n",
      "Lizzie\n",
      "blizzard\n",
      "blizzards\n",
      "blizzard\n",
      "blizzard\n",
      "fuzzy\n",
      "Lazzeri\n",
      "Piazza\n",
      "piazza\n",
      "palazzi\n",
      "Piazza\n",
      "Piazza\n",
      "Palazzo\n",
      "Palazzo\n",
      "Palazzo\n",
      "Piazza\n",
      "Piazza\n",
      "Palazzo\n",
      "palazzo\n",
      "palazzo\n",
      "Palazzo\n",
      "Palazzo\n",
      "Piazza\n",
      "piazza\n",
      "piazza\n",
      "piazza\n",
      "Piazza\n",
      "Piazza\n",
      "Palazzo\n",
      "palazzo\n",
      "Piazza\n",
      "piazza\n",
      "pizza\n",
      "Piazza\n",
      "Palazzo\n",
      "palazzo\n",
      "dazzling\n",
      "puzzling\n",
      "Wozzek\n",
      "dazzling\n",
      "dazzling\n",
      "buzzing\n",
      "Jazz\n",
      "jazz\n",
      "Jazz\n",
      "Jazz\n",
      "jazz\n",
      "jazz\n",
      "jazz\n",
      "jazz\n",
      "Jazz\n",
      "jazz\n",
      "jazz\n",
      "jazz\n",
      "Fuzzy\n",
      "Lizzy\n",
      "Lizzy\n",
      "jazz\n",
      "fuzzy\n",
      "puzzles\n",
      "puzzling\n",
      "puzzling\n",
      "dazzle\n",
      "puzzle\n",
      "dazzling\n",
      "puzzled\n",
      "jazz\n",
      "jazz\n",
      "jazz\n",
      "jazzy\n",
      "whizzed\n",
      "frazzled\n",
      "quizzical\n",
      "puzzling\n",
      "poetry-and-jazz\n",
      "poetry-and-jazz\n",
      "jazz\n",
      "jazz\n",
      "jazz\n",
      "jazz\n",
      "jazz\n",
      "jazz\n",
      "jazz\n",
      "Jazz\n",
      "jazz\n",
      "jazz\n",
      "jazz\n",
      "poetry-and-jazz\n",
      "jazz\n",
      "jazz\n",
      "jazz\n",
      "Dizzy\n",
      "jazz\n",
      "jazz\n",
      "jazz\n",
      "jazz\n",
      "jazz\n",
      "poetry-and-jazz\n",
      "jazz\n",
      "jazz\n",
      "jazz\n",
      "jazz\n",
      "jazz\n",
      "jazz\n",
      "jazz\n",
      "jazz\n",
      "jazz\n",
      "jazz\n",
      "jazz\n",
      "jazz\n",
      "dazzled\n",
      "bedazzlement\n",
      "bedazzled\n",
      "Piazzo\n",
      "nozzles\n",
      "nozzles\n",
      "buzzing\n",
      "dazzles\n",
      "dizzy\n",
      "puzzling\n",
      "puzzling\n",
      "puzzling\n",
      "puzzle\n",
      "muzzle\n",
      "puzzled\n",
      "nozzle\n",
      "Pozzatti\n",
      "Pozzatti\n",
      "Pozzatti\n",
      "puzzled\n",
      "Pozzatti\n",
      "Pozzatti\n",
      "dazzling\n",
      "pizzicato\n",
      "Jazz\n",
      "jazz\n",
      "jazz\n",
      "jazz\n",
      "jazz\n",
      "nozzle\n",
      "grizzled\n",
      "fuzzy\n",
      "muzzle\n",
      "puzzled\n",
      "puzzle\n",
      "muzzle\n",
      "blizzard\n",
      "buzz\n",
      "dizzily\n",
      "drizzle\n",
      "drizzle\n",
      "drizzle\n",
      "sizzled\n",
      "puzzled\n",
      "puzzled\n",
      "puzzled\n",
      "fuzzed\n",
      "buzz\n",
      "buzz\n",
      "buzz\n",
      "buzz-buzz-buzz\n",
      "buzzes\n",
      "fuzzy\n",
      "frizzled\n",
      "drizzle\n",
      "drizzle\n",
      "drizzling\n",
      "drizzling\n",
      "fuzz\n",
      "jazz\n",
      "jazz\n",
      "fuzz\n",
      "puzzle\n",
      "puzzling\n",
      "Nozze\n",
      "mezzo\n",
      "puzzled\n",
      "puzzled\n",
      "dazzling\n",
      "muzzle\n",
      "muzzle\n",
      "muzzle\n",
      "buzzed\n",
      "whizzed\n",
      "sizzled\n",
      "palazzos\n",
      "puzzlement\n",
      "frizzling\n",
      "puzzled\n",
      "puzzled\n",
      "puzzled\n",
      "dazzling\n",
      "muzzles\n",
      "fuzzy\n",
      "jazz\n",
      "ex-jazz\n",
      "sizzle\n",
      "grizzly\n",
      "guzzled\n",
      "buzzing\n",
      "fuzz\n",
      "nuzzled\n",
      "Kizzie\n",
      "Kizzie\n",
      "Kizzie\n",
      "Kezziah\n",
      "Kizzie\n",
      "Kizzie\n",
      "Buzz's\n",
      "Buzz\n",
      "Buzz\n",
      "Buzz\n",
      "Buzz\n",
      "Buzz\n",
      "Buzz\n",
      "Buzz\n",
      "Buzz\n",
      "dizzy\n",
      "piazza\n",
      "buzzing\n",
      "Puzzled\n",
      "dizziness\n",
      "dazzled\n",
      "Piazza\n",
      "Carrozza\n",
      "fuzzy\n",
      "dizzy\n",
      "buzzing\n",
      "buzzing\n",
      "puzzled\n",
      "puzzling\n",
      "puzzled\n",
      "puzzled\n",
      "Quizzical\n",
      "pizza\n"
     ]
    }
   ],
   "source": [
    "#Accumulating output into a list.\n",
    "\n",
    "def search1(substring, words):\n",
    "    result = []\n",
    "    for word in words:\n",
    "        if substring in word:\n",
    "            result.append(word)\n",
    "    return result\n",
    "\n",
    "def search2(substring, words):\n",
    "    for word in words:\n",
    "        if substring in word:\n",
    "            yield word\n",
    "            \n",
    "print (\"search1:\")\n",
    "\n",
    "for item in search1('zz', nltk.corpus.brown.words()):\n",
    "    print (item)\n",
    "\n",
    "print (\"search2:\")\n",
    "\n",
    "for item in search2('zz', nltk.corpus.brown.words()):\n",
    "    print (item)  "
   ]
  },
  {
   "cell_type": "code",
   "execution_count": 64,
   "metadata": {},
   "outputs": [
    {
     "name": "stdout",
     "output_type": "stream",
     "text": [
      "[['police', 'fish', 'buffalo'], ['fish', 'police', 'buffalo'], ['fish', 'buffalo', 'police'], ['police', 'buffalo', 'fish'], ['buffalo', 'police', 'fish'], ['buffalo', 'fish', 'police']]\n"
     ]
    }
   ],
   "source": [
    "def permutations(seq):\n",
    "    if len(seq) <= 1:\n",
    "        yield seq\n",
    "    else:\n",
    "        for perm in permutations(seq[1:]):\n",
    "            for i in range(len(perm)+1):\n",
    "                yield perm[:i] + seq[0:1] + perm[i:]\n",
    "\n",
    "print (list(permutations(['police', 'fish', 'buffalo'])))"
   ]
  },
  {
   "cell_type": "markdown",
   "metadata": {},
   "source": [
    "### Higher-Order Functions"
   ]
  },
  {
   "cell_type": "code",
   "execution_count": 65,
   "metadata": {},
   "outputs": [
    {
     "name": "stdout",
     "output_type": "stream",
     "text": [
      "<filter object at 0x7f1ae9f33160>\n"
     ]
    }
   ],
   "source": [
    "def is_content_word(word):\n",
    "    return word.lower() not in ['a', 'of', 'the', 'and', 'will', ',', '.']\n",
    "\n",
    "sent = ['Take', 'care', 'of', 'the', 'sense', ',', 'and', 'the', 'sounds', 'will', 'take', 'care', 'of', 'themselves', '.']\n",
    "print (filter(is_content_word, sent))"
   ]
  },
  {
   "cell_type": "code",
   "execution_count": 66,
   "metadata": {},
   "outputs": [
    {
     "name": "stdout",
     "output_type": "stream",
     "text": [
      "21.755517092167892\n",
      "21.75081116158339\n"
     ]
    }
   ],
   "source": [
    "lengths = map(len, nltk.corpus.brown.sents(categories='news'))\n",
    "print (sum(lengths) / 4622)\n",
    "\n",
    "lengths = [len(w) for w in nltk.corpus.brown.sents(categories='news')]\n",
    "print (sum(lengths) / len(lengths))"
   ]
  },
  {
   "cell_type": "code",
   "execution_count": 67,
   "metadata": {},
   "outputs": [
    {
     "name": "stdout",
     "output_type": "stream",
     "text": [
      "<map object at 0x7f1aecedef98>\n",
      "[2, 2, 1, 1, 2, 0, 1, 1, 2, 1, 2, 2, 1, 3, 0]\n"
     ]
    }
   ],
   "source": [
    "print (map(lambda w: len(filter(lambda c: c.lower() in \"aeiou\", w)), sent))\n",
    "\n",
    "print ([len([c for c in w if c.lower() in \"aeiou\"]) for w in sent])"
   ]
  },
  {
   "cell_type": "markdown",
   "metadata": {},
   "source": [
    "### Named Arguments"
   ]
  },
  {
   "cell_type": "code",
   "execution_count": 68,
   "metadata": {},
   "outputs": [
    {
     "name": "stdout",
     "output_type": "stream",
     "text": [
      "<empty><empty><empty>\n",
      "Alice\n",
      "AliceAliceAliceAliceAlice\n"
     ]
    }
   ],
   "source": [
    "def repeat(msg='<empty>', num=1):\n",
    "    return msg * num\n",
    "\n",
    "# repating using function\n",
    "print (repeat(num=3))\n",
    "# string multiply by 1\n",
    "print (repeat(msg='Alice'))\n",
    "# string * 5\n",
    "print (repeat(num=5, msg='Alice'))"
   ]
  },
  {
   "cell_type": "code",
   "execution_count": 69,
   "metadata": {},
   "outputs": [
    {
     "name": "stdout",
     "output_type": "stream",
     "text": [
      "(1, 'African swallow')\n",
      "{'monty': 'python'}\n"
     ]
    }
   ],
   "source": [
    "def generic(*args, **kwargs):\n",
    "    print (args)\n",
    "    print (kwargs)\n",
    "\n",
    "generic(1, \"African swallow\", monty=\"python\")"
   ]
  },
  {
   "cell_type": "code",
   "execution_count": 70,
   "metadata": {},
   "outputs": [
    {
     "name": "stdout",
     "output_type": "stream",
     "text": [
      "<zip object at 0x7f1aea0ed408>\n",
      "<zip object at 0x7f1aea0ed408>\n"
     ]
    }
   ],
   "source": [
    "song = [['four', 'calling', 'birds'],\n",
    "        ['three', 'French', 'hens'],\n",
    "        ['two', 'turtle', 'doves']]\n",
    "\n",
    "print (zip(song[0], song[1], song[2]))\n",
    "\n",
    "print (zip(*song))"
   ]
  },
  {
   "cell_type": "code",
   "execution_count": 71,
   "metadata": {},
   "outputs": [
    {
     "ename": "FileNotFoundError",
     "evalue": "[Errno 2] No such file or directory: 'ch01.rst'",
     "output_type": "error",
     "traceback": [
      "\u001b[0;31m---------------------------------------------------------------------------\u001b[0m",
      "\u001b[0;31mFileNotFoundError\u001b[0m                         Traceback (most recent call last)",
      "\u001b[0;32m<ipython-input-71-29bbea471b41>\u001b[0m in \u001b[0;36m<module>\u001b[0;34m\u001b[0m\n\u001b[1;32m      6\u001b[0m     \u001b[0;32mreturn\u001b[0m \u001b[0mfreqdist\u001b[0m\u001b[0;34m.\u001b[0m\u001b[0mkeys\u001b[0m\u001b[0;34m(\u001b[0m\u001b[0;34m)\u001b[0m\u001b[0;34m\u001b[0m\u001b[0;34m\u001b[0m\u001b[0m\n\u001b[1;32m      7\u001b[0m \u001b[0;34m\u001b[0m\u001b[0m\n\u001b[0;32m----> 8\u001b[0;31m \u001b[0mprint\u001b[0m\u001b[0;34m(\u001b[0m\u001b[0mfreq_words\u001b[0m\u001b[0;34m(\u001b[0m\u001b[0;34m'ch01.rst'\u001b[0m\u001b[0;34m,\u001b[0m \u001b[0;36m4\u001b[0m\u001b[0;34m,\u001b[0m \u001b[0;36m10\u001b[0m\u001b[0;34m)\u001b[0m\u001b[0;34m)\u001b[0m\u001b[0;34m\u001b[0m\u001b[0;34m\u001b[0m\u001b[0m\n\u001b[0m\u001b[1;32m      9\u001b[0m \u001b[0mprint\u001b[0m\u001b[0;34m(\u001b[0m\u001b[0;34m\"----------------------------\"\u001b[0m\u001b[0;34m)\u001b[0m\u001b[0;34m\u001b[0m\u001b[0;34m\u001b[0m\u001b[0m\n\u001b[1;32m     10\u001b[0m \u001b[0mprint\u001b[0m\u001b[0;34m(\u001b[0m\u001b[0mfreq_words\u001b[0m\u001b[0;34m(\u001b[0m\u001b[0;34m'ch01.rst'\u001b[0m\u001b[0;34m,\u001b[0m \u001b[0mmin\u001b[0m\u001b[0;34m=\u001b[0m\u001b[0;36m4\u001b[0m\u001b[0;34m,\u001b[0m \u001b[0mnum\u001b[0m\u001b[0;34m=\u001b[0m\u001b[0;36m10\u001b[0m\u001b[0;34m)\u001b[0m\u001b[0;34m)\u001b[0m\u001b[0;34m\u001b[0m\u001b[0;34m\u001b[0m\u001b[0m\n",
      "\u001b[0;32m<ipython-input-71-29bbea471b41>\u001b[0m in \u001b[0;36mfreq_words\u001b[0;34m(file, min, num)\u001b[0m\n\u001b[1;32m      1\u001b[0m \u001b[0;32mimport\u001b[0m \u001b[0mnltk\u001b[0m\u001b[0;34m\u001b[0m\u001b[0;34m\u001b[0m\u001b[0m\n\u001b[1;32m      2\u001b[0m \u001b[0;32mdef\u001b[0m \u001b[0mfreq_words\u001b[0m\u001b[0;34m(\u001b[0m\u001b[0mfile\u001b[0m\u001b[0;34m,\u001b[0m \u001b[0mmin\u001b[0m\u001b[0;34m=\u001b[0m\u001b[0;36m1\u001b[0m\u001b[0;34m,\u001b[0m \u001b[0mnum\u001b[0m\u001b[0;34m=\u001b[0m\u001b[0;36m10\u001b[0m\u001b[0;34m)\u001b[0m\u001b[0;34m:\u001b[0m\u001b[0;34m\u001b[0m\u001b[0;34m\u001b[0m\u001b[0m\n\u001b[0;32m----> 3\u001b[0;31m     \u001b[0mtext\u001b[0m \u001b[0;34m=\u001b[0m \u001b[0mopen\u001b[0m\u001b[0;34m(\u001b[0m\u001b[0mfile\u001b[0m\u001b[0;34m)\u001b[0m\u001b[0;34m.\u001b[0m\u001b[0mread\u001b[0m\u001b[0;34m(\u001b[0m\u001b[0;34m)\u001b[0m\u001b[0;34m\u001b[0m\u001b[0;34m\u001b[0m\u001b[0m\n\u001b[0m\u001b[1;32m      4\u001b[0m     \u001b[0mtokens\u001b[0m \u001b[0;34m=\u001b[0m \u001b[0mnltk\u001b[0m\u001b[0;34m.\u001b[0m\u001b[0mword_tokenize\u001b[0m\u001b[0;34m(\u001b[0m\u001b[0mtext\u001b[0m\u001b[0;34m)\u001b[0m\u001b[0;34m\u001b[0m\u001b[0;34m\u001b[0m\u001b[0m\n\u001b[1;32m      5\u001b[0m     \u001b[0mfreqdist\u001b[0m \u001b[0;34m=\u001b[0m \u001b[0mnltk\u001b[0m\u001b[0;34m.\u001b[0m\u001b[0mFreqDist\u001b[0m\u001b[0;34m(\u001b[0m\u001b[0mt\u001b[0m \u001b[0;32mfor\u001b[0m \u001b[0mt\u001b[0m \u001b[0;32min\u001b[0m \u001b[0mtokens\u001b[0m \u001b[0;32mif\u001b[0m \u001b[0mlen\u001b[0m\u001b[0;34m(\u001b[0m\u001b[0mt\u001b[0m\u001b[0;34m)\u001b[0m \u001b[0;34m>=\u001b[0m \u001b[0mmin\u001b[0m\u001b[0;34m)\u001b[0m\u001b[0;34m\u001b[0m\u001b[0;34m\u001b[0m\u001b[0m\n",
      "\u001b[0;31mFileNotFoundError\u001b[0m: [Errno 2] No such file or directory: 'ch01.rst'"
     ]
    }
   ],
   "source": [
    "import nltk\n",
    "def freq_words(file, min=1, num=10):\n",
    "    text = open(file).read()\n",
    "    tokens = nltk.word_tokenize(text)\n",
    "    freqdist = nltk.FreqDist(t for t in tokens if len(t) >= min)\n",
    "    return freqdist.keys()\n",
    "\n",
    "print(freq_words('ch01.rst', 4, 10))\n",
    "print(\"----------------------------\")\n",
    "print(freq_words('ch01.rst', min=4, num=10))\n",
    "print(\"----------------------------\")\n",
    "print(freq_words('ch01.rst', num=10, min=4))"
   ]
  },
  {
   "cell_type": "code",
   "execution_count": 72,
   "metadata": {},
   "outputs": [],
   "source": [
    "from nltk import FreqDist\n",
    "def freq_words(file, min=1, num=10, verbose=False):\n",
    "    freqdist = FreqDist()\n",
    "    \n",
    "    if trace: print (\"Opening\", file)\n",
    "    text = open(file).read()\n",
    "    if trace: print (\"Read in %d characters\" % len(file))\n",
    "    \n",
    "    for word in nltk.word_tokenize(text):\n",
    "        if len(word) >= min:\n",
    "            freqdist.inc(word)\n",
    "            if trace and freqdist.N() % 100 == 0: print (\".\")\n",
    "    if trace: print()\n",
    "    return freqdist.keys()[:num]"
   ]
  },
  {
   "cell_type": "markdown",
   "metadata": {},
   "source": [
    "## 4.6 Program Development"
   ]
  },
  {
   "cell_type": "markdown",
   "metadata": {},
   "source": [
    "### Structure of a Python Module"
   ]
  },
  {
   "cell_type": "code",
   "execution_count": 73,
   "metadata": {},
   "outputs": [
    {
     "name": "stdout",
     "output_type": "stream",
     "text": [
      "Help on function edit_distance in module nltk.metrics.distance:\n",
      "\n",
      "edit_distance(s1, s2, substitution_cost=1, transpositions=False)\n",
      "    Calculate the Levenshtein edit-distance between two strings.\n",
      "    The edit distance is the number of characters that need to be\n",
      "    substituted, inserted, or deleted, to transform s1 into s2.  For\n",
      "    example, transforming \"rain\" to \"shine\" requires three steps,\n",
      "    consisting of two substitutions and one insertion:\n",
      "    \"rain\" -> \"sain\" -> \"shin\" -> \"shine\".  These operations could have\n",
      "    been done in other orders, but at least three steps are needed.\n",
      "    \n",
      "    Allows specifying the cost of substitution edits (e.g., \"a\" -> \"b\"),\n",
      "    because sometimes it makes sense to assign greater penalties to\n",
      "    substitutions.\n",
      "    \n",
      "    This also optionally allows transposition edits (e.g., \"ab\" -> \"ba\"),\n",
      "    though this is disabled by default.\n",
      "    \n",
      "    :param s1, s2: The strings to be analysed\n",
      "    :param transpositions: Whether to allow transposition edits\n",
      "    :type s1: str\n",
      "    :type s2: str\n",
      "    :type substitution_cost: int\n",
      "    :type transpositions: bool\n",
      "    :rtype int\n",
      "\n"
     ]
    }
   ],
   "source": [
    "from nltk.metrics import edit_distance\n",
    "\n",
    "help(edit_distance)"
   ]
  },
  {
   "cell_type": "markdown",
   "metadata": {},
   "source": [
    "### Multimodule Programs"
   ]
  },
  {
   "cell_type": "markdown",
   "metadata": {},
   "source": [
    "### Sources of Error"
   ]
  },
  {
   "cell_type": "code",
   "execution_count": 74,
   "metadata": {},
   "outputs": [
    {
     "name": "stdout",
     "output_type": "stream",
     "text": [
      "['omg', 'teh', 'teh', 'mat']\n",
      "['ur', 'on']\n",
      "['omg', 'teh', 'teh', 'mat', 'omg', 'teh', 'teh', 'mat']\n"
     ]
    }
   ],
   "source": [
    "def find_words(text, wordlength, result=[]):\n",
    "    for word in text:\n",
    "        if len(word) == wordlength:\n",
    "            result.append(word)\n",
    "        \n",
    "    return result\n",
    "    \n",
    "\n",
    "print (find_words(['omg', 'teh', 'lolcat', 'sitted', 'on', 'teh', 'mat'], 3))\n",
    "\n",
    "print (find_words(['omg', 'teh', 'lolcat', 'sitted', 'on', 'teh', 'mat'], 2, ['ur']))\n",
    "\n",
    "print (find_words(['omg', 'teh', 'lolcat', 'sitted', 'on', 'teh', 'mat'], 3))"
   ]
  },
  {
   "cell_type": "markdown",
   "metadata": {},
   "source": [
    "### Debugging Techniques"
   ]
  },
  {
   "cell_type": "code",
   "execution_count": 77,
   "metadata": {},
   "outputs": [
    {
     "name": "stdout",
     "output_type": "stream",
     "text": [
      "['omg', 'teh', 'teh', 'mat', 'omg', 'teh', 'teh', 'mat', 'cat', 'dog', 'cat', 'dog', 'cat']\n",
      "> <string>(1)<module>()\n",
      "(Pdb) a\n",
      "(Pdb) b\n",
      "(Pdb) c\n",
      "None\n"
     ]
    }
   ],
   "source": [
    "import pdb\n",
    "print (find_words(['cat'], 3))\n",
    "\n",
    "for x in 'a':\n",
    "    print (pdb.run(\"find_words(['dog'], 3)\"))\n",
    "    break"
   ]
  },
  {
   "cell_type": "markdown",
   "metadata": {},
   "source": [
    "### Defensive Programming"
   ]
  },
  {
   "cell_type": "markdown",
   "metadata": {},
   "source": [
    "## 4.7 Algorithm Design"
   ]
  },
  {
   "cell_type": "markdown",
   "metadata": {},
   "source": [
    "### Recursion"
   ]
  },
  {
   "cell_type": "code",
   "execution_count": 78,
   "metadata": {},
   "outputs": [],
   "source": [
    "def factorial1(n):\n",
    "    result = 1\n",
    "    for i in range(n):\n",
    "        result *= (i+1)\n",
    "    return result"
   ]
  },
  {
   "cell_type": "code",
   "execution_count": 79,
   "metadata": {},
   "outputs": [],
   "source": [
    "def factorial2(n):\n",
    "    if n == 1:\n",
    "        return 1\n",
    "    else:\n",
    "        return n * factorial2(n-1)"
   ]
  },
  {
   "cell_type": "code",
   "execution_count": 80,
   "metadata": {},
   "outputs": [],
   "source": [
    "def size1(s):\n",
    "    return 1 + sum(size1(child) for child in s.hyponyms())"
   ]
  },
  {
   "cell_type": "code",
   "execution_count": 81,
   "metadata": {},
   "outputs": [],
   "source": [
    "def size2(s):\n",
    "    layer = [s]\n",
    "    total = 0\n",
    "    while layer:\n",
    "        total += len(layer)\n",
    "        layer = [h for c in layer for h in c.hyponyms()]\n",
    "    return total"
   ]
  },
  {
   "cell_type": "code",
   "execution_count": 82,
   "metadata": {},
   "outputs": [
    {
     "name": "stdout",
     "output_type": "stream",
     "text": [
      "190\n",
      "190\n"
     ]
    }
   ],
   "source": [
    "from nltk.corpus import wordnet as wn\n",
    "dog = wn.synset('dog.n.01')\n",
    "\n",
    "print (size1(dog))\n",
    "print (size2(dog))"
   ]
  },
  {
   "cell_type": "code",
   "execution_count": 83,
   "metadata": {},
   "outputs": [
    {
     "name": "stdout",
     "output_type": "stream",
     "text": [
      "cat\n",
      "{'c': {'h': {'a': {'t': {'value': 'cat'}, 'i': {'r': {'value': 'flesh'}}}, 'i': {'e': {'n': {'value': 'dog'}}, 'c': {'value': 'stylish'}}}}}\n"
     ]
    }
   ],
   "source": [
    "# Building a letter trie: A recursive function that builds a nested dictionary structure; each\n",
    "# level of nesting contains all words with a given prefix, and a sub-trie containing all possible continuations.\n",
    "import nltk\n",
    "def insert(trie, key, value):\n",
    "    if key:\n",
    "        first, rest = key[0], key[1:]\n",
    "        if first not in trie:\n",
    "            trie[first] = {}\n",
    "        insert(trie[first], rest, value)\n",
    "    else:\n",
    "        trie['value'] = value\n",
    "        \n",
    "trie = nltk.defaultdict(dict)\n",
    "\n",
    "insert(trie, 'chat', 'cat')\n",
    "insert(trie, 'chien', 'dog')\n",
    "insert(trie, 'chair', 'flesh')\n",
    "insert(trie, 'chic', 'stylish')\n",
    "\n",
    "trie = dict(trie) # for nicer printing\n",
    "print (trie['c']['h']['a']['t']['value'])\n",
    "\n",
    "print(trie)"
   ]
  },
  {
   "cell_type": "markdown",
   "metadata": {},
   "source": [
    "### Space-Time Trade-offs"
   ]
  },
  {
   "cell_type": "code",
   "execution_count": 84,
   "metadata": {},
   "outputs": [
    {
     "name": "stdout",
     "output_type": "stream",
     "text": [
      "Building Index...\n",
      "query> \n",
      "Not found\n",
      "query> c\n",
      "t about a wholesome surveillance man who loses sight of his \n",
      "                         sean connery stars as a harvard law\n",
      "                          i'm currently accepting all future\n",
      "                       'traffic violation' dr . daniel's rev\n",
      "                            tectonic plates is an incredibly\n",
      "u . s . a . , 1942/1986 ) director : orson welles a recently\n",
      "u . s . a . , 1942/1986 ) director : orson welles a recently\n",
      "of the 1978 warren beatty vehicle \" heaven can wait \" ( whic\n",
      " bad movie . not only does it cross the line of bad taste wh\n",
      " studios want to take over my critical review , and somehow \n",
      " studios want to take over my critical review , and somehow \n",
      "                              capsule : not as bad a sequel \n",
      "                              capsule : not as bad a sequel \n",
      " as far as \" mystery men \" is concerned , the burning questi\n",
      " as far as \" mystery men \" is concerned , the burning questi\n",
      "ertaining film . i mean , who can resist the story of your a\n",
      "      working in the motion picture industry must be a const\n",
      " petersen's latest , the perfect storm , is like a pineapple\n",
      "a potential viewer be under a certain film iq in order to se\n",
      "ssibly the years the most anticipated film and finally it ar\n",
      "                            a cop with a troubled personal l\n",
      "                            a cop with a troubled personal l\n",
      "                              confucius once said , \" govern\n",
      "made _jumanji_ , a brilliant achievement in special effects \n",
      "995 , a sleeper hit that transcended its target audience . b\n",
      "a frightened young boy in its clutches as it topples from a \n",
      "   * * * the following review contains some harsh language .\n",
      "l of sins , a thoroughly despicable man , enough lies , inse\n",
      "              godzilla is a nuclear freak . he is a lizard t\n",
      "                the realm of science fiction has always been\n",
      "ers will use all manner of tricks to flesh out and brighten \n",
      "view for a movie i haven't watched all the way through , but\n",
      " but intentionally so ? in spiceworld , the highly popular s\n",
      "                     i heard actor skeet ulrich discussing t\n",
      "      my friend here in film school just made a two minute-l\n",
      "f appropriate . \" mafia ! \" - crime isn't a funny business b\n",
      "n 1983 to forsee a late-night cable show hosted by gilbert g\n",
      "n 1983 to forsee a late-night cable show hosted by gilbert g\n",
      "n 1983 to forsee a late-night cable show hosted by gilbert g\n",
      "n 1983 to forsee a late-night cable show hosted by gilbert g\n",
      "n 1983 to forsee a late-night cable show hosted by gilbert g\n",
      "n 1983 to forsee a late-night cable show hosted by gilbert g\n",
      "              written by alex cox , tod davies , terry gilli\n",
      "  depending on your degree of cinematic acumen , last man st\n",
      "  depending on your degree of cinematic acumen , last man st\n",
      "wer in hollywood . every year countless films will be made t\n",
      "n seagal ( not to mention director ! ) has built a career ou\n",
      "n seagal ( not to mention director ! ) has built a career ou\n",
      "                           'bicentennial man' is a family fi\n",
      "te your hard-earned $$$ on anaconda . it's not even worth a \n",
      "                 dreamworks pictures presents a jinks/ cohen\n",
      "        the deer hunter , directed by michael cimino , is tr\n",
      "                  in intolerance , d . w . griffith told fou\n",
      "                  in intolerance , d . w . griffith told fou\n",
      "spy movie . despite the presence of pierce brosnan , there i\n",
      "        the film \" magnolia \" can be compared to a simple fl\n",
      " strength and weakness of director steven spielberg's latest\n",
      "     with the release of gattaca , i began to wonder why all\n",
      "                         produced by robert lantos & stephen\n",
      "r is 1962 and the military is conducting nuclear testings . \n",
      "ranger's review of \" the perfect storm \" ( warner bros . ) \"\n",
      "                    i want to correct what i wrote in a form\n",
      " have nothing against it particularly , i just don't happen \n",
      "              note : some may consider portions of the follo\n",
      "assault of an adventurous director reveling in his craft . a\n",
      "t's been a good long while since we had a good old fashioned\n",
      "iends who went to live in usa complain about one thing - tha\n",
      "iends who went to live in usa complain about one thing - tha\n",
      "our journey into the most anticipated sequel of the summer s\n",
      "                    what's shocking about \" carlito's way \" \n",
      "                    i want to correct what i wrote last year\n",
      "                          robocop is an intelligent science \n",
      "                          robocop is an intelligent science \n",
      "                          robocop is an intelligent science \n",
      "                     mars attacks ! ( 1996 ) - c : jack nich\n",
      "           showgirls is the second major outing for the prod\n",
      "en beatty's \" bulworth \" is a caustic political comedy that \n",
      "o be released after 1996's \" scream , \" and written by the s\n",
      "     what do you get when you combine clueless and dumb and \n",
      "query> z\n",
      " planned \" docu-drama \" of amazing stories around the world \n",
      "ket man is one spoken by fred z . randall ( harland williams\n",
      ", gene hackman , jennifer lopez , sylvester stallone , and s\n",
      ", gene hackman , jennifer lopez , sylvester stallone , and s\n",
      "the plot , which is characterized by a blatant disregard for\n",
      "but it's more close than \" antz \" was . i really liked \" ant\n",
      "but it's more close than \" antz \" was . i really liked \" ant\n",
      " original motion picture . antz , however , has upped the an\n",
      " original motion picture . antz , however , has upped the an\n",
      " original motion picture . antz , however , has upped the an\n",
      " original motion picture . antz , however , has upped the an\n",
      " original motion picture . antz , however , has upped the an\n",
      " original motion picture . antz , however , has upped the an\n",
      " original motion picture . antz , however , has upped the an\n",
      " original motion picture . antz , however , has upped the an\n",
      "query> x\n",
      "rlie ( burns ) , a generation x slacker who abandoned his gi\n",
      "erely dark comedy go , is an example of just such a filmmake\n",
      " . this film would evade the explosions and special effects \n",
      "lanet of the apes . i didn't expect much from this latest \" \n",
      "astuality , anal rape , homosexual felatio of both sexes , e\n",
      " concern of body shots is \" sex \" , i will be forced to refe\n",
      ". comments : so , what do an ex-gangbanger turned insubordin\n",
      "phical religious comedy and mixed with a madcap romp . peter\n",
      "s new film , american history x . i don't know the details o\n",
      "s new film , american history x . i don't know the details o\n",
      "s new film , american history x . i don't know the details o\n",
      "s new film , american history x . i don't know the details o\n",
      "s new film , american history x . i don't know the details o\n",
      "s new film , american history x . i don't know the details o\n",
      "          capsule : earthy , experimental , difficult , shoc\n",
      " and sam ( damon jones and elexa williams respectively ) , w\n",
      " what's g , nc 17 , pg , r or x ) to ask why the preview was\n",
      "     billed as a \" feminist sex fantasy \" , this spirited , \n",
      "l born killers confronts and explores . what bonnie and clyd\n",
      "l born killers confronts and explores . what bonnie and clyd\n",
      " young adults trapped in a 10 x 13 foot dorm room . then i s\n",
      "nt . its violent and highly sexualized revenge tale of a mac\n",
      "nothing like american history x in theaters or on video . no\n",
      "nothing like american history x in theaters or on video . no\n",
      "t by god , \" american history x \" does it , and for that , i\n",
      "t by god , \" american history x \" does it , and for that , i\n",
      "t by god , \" american history x \" does it , and for that , i\n",
      "t by god , \" american history x \" does it , and for that , i\n",
      "t by god , \" american history x \" does it , and for that , i\n",
      "query> \n",
      "Not found\n"
     ]
    },
    {
     "ename": "KeyboardInterrupt",
     "evalue": "",
     "output_type": "error",
     "traceback": [
      "\u001b[0;31m---------------------------------------------------------------------------\u001b[0m",
      "\u001b[0;31mKeyboardInterrupt\u001b[0m                         Traceback (most recent call last)",
      "\u001b[0;32m~/anaconda3/lib/python3.6/site-packages/ipykernel/kernelbase.py\u001b[0m in \u001b[0;36m_input_request\u001b[0;34m(self, prompt, ident, parent, password)\u001b[0m\n\u001b[1;32m    883\u001b[0m             \u001b[0;32mtry\u001b[0m\u001b[0;34m:\u001b[0m\u001b[0;34m\u001b[0m\u001b[0;34m\u001b[0m\u001b[0m\n\u001b[0;32m--> 884\u001b[0;31m                 \u001b[0mident\u001b[0m\u001b[0;34m,\u001b[0m \u001b[0mreply\u001b[0m \u001b[0;34m=\u001b[0m \u001b[0mself\u001b[0m\u001b[0;34m.\u001b[0m\u001b[0msession\u001b[0m\u001b[0;34m.\u001b[0m\u001b[0mrecv\u001b[0m\u001b[0;34m(\u001b[0m\u001b[0mself\u001b[0m\u001b[0;34m.\u001b[0m\u001b[0mstdin_socket\u001b[0m\u001b[0;34m,\u001b[0m \u001b[0;36m0\u001b[0m\u001b[0;34m)\u001b[0m\u001b[0;34m\u001b[0m\u001b[0;34m\u001b[0m\u001b[0m\n\u001b[0m\u001b[1;32m    885\u001b[0m             \u001b[0;32mexcept\u001b[0m \u001b[0mException\u001b[0m\u001b[0;34m:\u001b[0m\u001b[0;34m\u001b[0m\u001b[0;34m\u001b[0m\u001b[0m\n",
      "\u001b[0;32m~/anaconda3/lib/python3.6/site-packages/jupyter_client/session.py\u001b[0m in \u001b[0;36mrecv\u001b[0;34m(self, socket, mode, content, copy)\u001b[0m\n\u001b[1;32m    802\u001b[0m         \u001b[0;32mtry\u001b[0m\u001b[0;34m:\u001b[0m\u001b[0;34m\u001b[0m\u001b[0;34m\u001b[0m\u001b[0m\n\u001b[0;32m--> 803\u001b[0;31m             \u001b[0mmsg_list\u001b[0m \u001b[0;34m=\u001b[0m \u001b[0msocket\u001b[0m\u001b[0;34m.\u001b[0m\u001b[0mrecv_multipart\u001b[0m\u001b[0;34m(\u001b[0m\u001b[0mmode\u001b[0m\u001b[0;34m,\u001b[0m \u001b[0mcopy\u001b[0m\u001b[0;34m=\u001b[0m\u001b[0mcopy\u001b[0m\u001b[0;34m)\u001b[0m\u001b[0;34m\u001b[0m\u001b[0;34m\u001b[0m\u001b[0m\n\u001b[0m\u001b[1;32m    804\u001b[0m         \u001b[0;32mexcept\u001b[0m \u001b[0mzmq\u001b[0m\u001b[0;34m.\u001b[0m\u001b[0mZMQError\u001b[0m \u001b[0;32mas\u001b[0m \u001b[0me\u001b[0m\u001b[0;34m:\u001b[0m\u001b[0;34m\u001b[0m\u001b[0;34m\u001b[0m\u001b[0m\n",
      "\u001b[0;32m~/anaconda3/lib/python3.6/site-packages/zmq/sugar/socket.py\u001b[0m in \u001b[0;36mrecv_multipart\u001b[0;34m(self, flags, copy, track)\u001b[0m\n\u001b[1;32m    474\u001b[0m         \"\"\"\n\u001b[0;32m--> 475\u001b[0;31m         \u001b[0mparts\u001b[0m \u001b[0;34m=\u001b[0m \u001b[0;34m[\u001b[0m\u001b[0mself\u001b[0m\u001b[0;34m.\u001b[0m\u001b[0mrecv\u001b[0m\u001b[0;34m(\u001b[0m\u001b[0mflags\u001b[0m\u001b[0;34m,\u001b[0m \u001b[0mcopy\u001b[0m\u001b[0;34m=\u001b[0m\u001b[0mcopy\u001b[0m\u001b[0;34m,\u001b[0m \u001b[0mtrack\u001b[0m\u001b[0;34m=\u001b[0m\u001b[0mtrack\u001b[0m\u001b[0;34m)\u001b[0m\u001b[0;34m]\u001b[0m\u001b[0;34m\u001b[0m\u001b[0;34m\u001b[0m\u001b[0m\n\u001b[0m\u001b[1;32m    476\u001b[0m         \u001b[0;31m# have first part already, only loop while more to receive\u001b[0m\u001b[0;34m\u001b[0m\u001b[0;34m\u001b[0m\u001b[0;34m\u001b[0m\u001b[0m\n",
      "\u001b[0;32mzmq/backend/cython/socket.pyx\u001b[0m in \u001b[0;36mzmq.backend.cython.socket.Socket.recv\u001b[0;34m()\u001b[0m\n",
      "\u001b[0;32mzmq/backend/cython/socket.pyx\u001b[0m in \u001b[0;36mzmq.backend.cython.socket.Socket.recv\u001b[0;34m()\u001b[0m\n",
      "\u001b[0;32mzmq/backend/cython/socket.pyx\u001b[0m in \u001b[0;36mzmq.backend.cython.socket._recv_copy\u001b[0;34m()\u001b[0m\n",
      "\u001b[0;32m~/anaconda3/lib/python3.6/site-packages/zmq/backend/cython/checkrc.pxd\u001b[0m in \u001b[0;36mzmq.backend.cython.checkrc._check_rc\u001b[0;34m()\u001b[0m\n",
      "\u001b[0;31mKeyboardInterrupt\u001b[0m: ",
      "\nDuring handling of the above exception, another exception occurred:\n",
      "\u001b[0;31mKeyboardInterrupt\u001b[0m                         Traceback (most recent call last)",
      "\u001b[0;32m<ipython-input-84-99114b8a0080>\u001b[0m in \u001b[0;36m<module>\u001b[0;34m\u001b[0m\n\u001b[1;32m     18\u001b[0m \u001b[0mquery\u001b[0m \u001b[0;34m=\u001b[0m \u001b[0;34m''\u001b[0m\u001b[0;34m\u001b[0m\u001b[0;34m\u001b[0m\u001b[0m\n\u001b[1;32m     19\u001b[0m \u001b[0;32mwhile\u001b[0m \u001b[0mquery\u001b[0m \u001b[0;34m!=\u001b[0m \u001b[0;34m\"quit\"\u001b[0m\u001b[0;34m:\u001b[0m\u001b[0;34m\u001b[0m\u001b[0;34m\u001b[0m\u001b[0m\n\u001b[0;32m---> 20\u001b[0;31m     \u001b[0mquery\u001b[0m \u001b[0;34m=\u001b[0m \u001b[0minput\u001b[0m\u001b[0;34m(\u001b[0m\u001b[0;34m\"query> \"\u001b[0m\u001b[0;34m)\u001b[0m\u001b[0;34m\u001b[0m\u001b[0;34m\u001b[0m\u001b[0m\n\u001b[0m\u001b[1;32m     21\u001b[0m     \u001b[0;32mif\u001b[0m \u001b[0mquery\u001b[0m \u001b[0;32min\u001b[0m \u001b[0midx\u001b[0m\u001b[0;34m:\u001b[0m\u001b[0;34m\u001b[0m\u001b[0;34m\u001b[0m\u001b[0m\n\u001b[1;32m     22\u001b[0m         \u001b[0;32mfor\u001b[0m \u001b[0mdoc\u001b[0m \u001b[0;32min\u001b[0m \u001b[0midx\u001b[0m\u001b[0;34m[\u001b[0m\u001b[0mquery\u001b[0m\u001b[0;34m]\u001b[0m\u001b[0;34m:\u001b[0m\u001b[0;34m\u001b[0m\u001b[0;34m\u001b[0m\u001b[0m\n",
      "\u001b[0;32m~/anaconda3/lib/python3.6/site-packages/ipykernel/kernelbase.py\u001b[0m in \u001b[0;36mraw_input\u001b[0;34m(self, prompt)\u001b[0m\n\u001b[1;32m    857\u001b[0m             \u001b[0mself\u001b[0m\u001b[0;34m.\u001b[0m\u001b[0m_parent_ident\u001b[0m\u001b[0;34m,\u001b[0m\u001b[0;34m\u001b[0m\u001b[0;34m\u001b[0m\u001b[0m\n\u001b[1;32m    858\u001b[0m             \u001b[0mself\u001b[0m\u001b[0;34m.\u001b[0m\u001b[0m_parent_header\u001b[0m\u001b[0;34m,\u001b[0m\u001b[0;34m\u001b[0m\u001b[0;34m\u001b[0m\u001b[0m\n\u001b[0;32m--> 859\u001b[0;31m             \u001b[0mpassword\u001b[0m\u001b[0;34m=\u001b[0m\u001b[0;32mFalse\u001b[0m\u001b[0;34m,\u001b[0m\u001b[0;34m\u001b[0m\u001b[0;34m\u001b[0m\u001b[0m\n\u001b[0m\u001b[1;32m    860\u001b[0m         )\n\u001b[1;32m    861\u001b[0m \u001b[0;34m\u001b[0m\u001b[0m\n",
      "\u001b[0;32m~/anaconda3/lib/python3.6/site-packages/ipykernel/kernelbase.py\u001b[0m in \u001b[0;36m_input_request\u001b[0;34m(self, prompt, ident, parent, password)\u001b[0m\n\u001b[1;32m    887\u001b[0m             \u001b[0;32mexcept\u001b[0m \u001b[0mKeyboardInterrupt\u001b[0m\u001b[0;34m:\u001b[0m\u001b[0;34m\u001b[0m\u001b[0;34m\u001b[0m\u001b[0m\n\u001b[1;32m    888\u001b[0m                 \u001b[0;31m# re-raise KeyboardInterrupt, to truncate traceback\u001b[0m\u001b[0;34m\u001b[0m\u001b[0;34m\u001b[0m\u001b[0;34m\u001b[0m\u001b[0m\n\u001b[0;32m--> 889\u001b[0;31m                 \u001b[0;32mraise\u001b[0m \u001b[0mKeyboardInterrupt\u001b[0m\u001b[0;34m\u001b[0m\u001b[0;34m\u001b[0m\u001b[0m\n\u001b[0m\u001b[1;32m    890\u001b[0m             \u001b[0;32melse\u001b[0m\u001b[0;34m:\u001b[0m\u001b[0;34m\u001b[0m\u001b[0;34m\u001b[0m\u001b[0m\n\u001b[1;32m    891\u001b[0m                 \u001b[0;32mbreak\u001b[0m\u001b[0;34m\u001b[0m\u001b[0;34m\u001b[0m\u001b[0m\n",
      "\u001b[0;31mKeyboardInterrupt\u001b[0m: "
     ]
    }
   ],
   "source": [
    "# A simple text retrieval system.\n",
    "import re\n",
    "def raw(file):\n",
    "    contents = open(file).read()\n",
    "    contents = re.sub(r'<.*?>', ' ', contents)\n",
    "    contents = re.sub('\\s+', ' ', contents)\n",
    "    return contents\n",
    "\n",
    "def snippet(doc, term): # buggy\n",
    "    text = ' '*30 + raw(doc) + ' '*30\n",
    "    pos = text.index(term)\n",
    "    return text[pos-30:pos+30]\n",
    "\n",
    "print (\"Building Index...\")\n",
    "files = nltk.corpus.movie_reviews.abspaths()\n",
    "idx = nltk.Index((w, f) for f in files for w in raw(f).split())\n",
    "\n",
    "query = ''\n",
    "while query != \"quit\":\n",
    "    query = input(\"query> \")\n",
    "    if query in idx:\n",
    "        for doc in idx[query]:\n",
    "            print (snippet(doc, query))\n",
    "    else:\n",
    "        print (\"Not found\")"
   ]
  },
  {
   "cell_type": "code",
   "execution_count": 85,
   "metadata": {},
   "outputs": [],
   "source": [
    "#Preprocess tagged corpus data, converting all words and tags to integers.\n",
    "\n",
    "def preprocess(tagged_corpus):\n",
    "    words = set()\n",
    "    tags = set()\n",
    "    for sent in tagged_corpus:\n",
    "        for word, tag in sent:\n",
    "            words.add(word)\n",
    "            tags.add(tag)\n",
    "            \n",
    "    wm = dict((w,i) for (i,w) in enumerate(words))\n",
    "    tm = dict((t,i) for (i,t) in enumerate(tags))\n",
    "    return [[(wm[w], tm[t]) for (w,t) in sent] for sent in tagged_corpus]"
   ]
  },
  {
   "cell_type": "code",
   "execution_count": 86,
   "metadata": {},
   "outputs": [
    {
     "ename": "NameError",
     "evalue": "name 'vocabrandom' is not defined",
     "output_type": "error",
     "traceback": [
      "\u001b[0;31m---------------------------------------------------------------------------\u001b[0m",
      "\u001b[0;31mNameError\u001b[0m                                 Traceback (most recent call last)",
      "\u001b[0;32m<ipython-input-86-1361ee5d825c>\u001b[0m in \u001b[0;36m<module>\u001b[0;34m\u001b[0m\n\u001b[1;32m      5\u001b[0m \u001b[0mstatement\u001b[0m \u001b[0;34m=\u001b[0m \u001b[0;34m\"random.randint(0, %d) in vocab\"\u001b[0m \u001b[0;34m%\u001b[0m \u001b[0mvocab_size\u001b[0m \u001b[0;34m*\u001b[0m \u001b[0;36m2\u001b[0m\u001b[0;34m\u001b[0m\u001b[0;34m\u001b[0m\u001b[0m\n\u001b[1;32m      6\u001b[0m \u001b[0;34m\u001b[0m\u001b[0m\n\u001b[0;32m----> 7\u001b[0;31m \u001b[0mprint\u001b[0m \u001b[0;34m(\u001b[0m\u001b[0mTimer\u001b[0m\u001b[0;34m(\u001b[0m\u001b[0mstatement\u001b[0m\u001b[0;34m,\u001b[0m \u001b[0msetup_list\u001b[0m\u001b[0;34m)\u001b[0m\u001b[0;34m.\u001b[0m\u001b[0mtimeit\u001b[0m\u001b[0;34m(\u001b[0m\u001b[0;36m1000\u001b[0m\u001b[0;34m)\u001b[0m\u001b[0;34m)\u001b[0m\u001b[0;34m\u001b[0m\u001b[0;34m\u001b[0m\u001b[0m\n\u001b[0m\u001b[1;32m      8\u001b[0m \u001b[0;34m\u001b[0m\u001b[0m\n\u001b[1;32m      9\u001b[0m \u001b[0mprint\u001b[0m \u001b[0;34m(\u001b[0m\u001b[0mTimer\u001b[0m\u001b[0;34m(\u001b[0m\u001b[0mstatement\u001b[0m\u001b[0;34m,\u001b[0m \u001b[0msetup_set\u001b[0m\u001b[0;34m)\u001b[0m\u001b[0;34m.\u001b[0m\u001b[0mtimeit\u001b[0m\u001b[0;34m(\u001b[0m\u001b[0;36m1000\u001b[0m\u001b[0;34m)\u001b[0m\u001b[0;34m)\u001b[0m\u001b[0;34m\u001b[0m\u001b[0;34m\u001b[0m\u001b[0m\n",
      "\u001b[0;32m~/anaconda3/lib/python3.6/timeit.py\u001b[0m in \u001b[0;36mtimeit\u001b[0;34m(self, number)\u001b[0m\n\u001b[1;32m    176\u001b[0m         \u001b[0mgc\u001b[0m\u001b[0;34m.\u001b[0m\u001b[0mdisable\u001b[0m\u001b[0;34m(\u001b[0m\u001b[0;34m)\u001b[0m\u001b[0;34m\u001b[0m\u001b[0;34m\u001b[0m\u001b[0m\n\u001b[1;32m    177\u001b[0m         \u001b[0;32mtry\u001b[0m\u001b[0;34m:\u001b[0m\u001b[0;34m\u001b[0m\u001b[0;34m\u001b[0m\u001b[0m\n\u001b[0;32m--> 178\u001b[0;31m             \u001b[0mtiming\u001b[0m \u001b[0;34m=\u001b[0m \u001b[0mself\u001b[0m\u001b[0;34m.\u001b[0m\u001b[0minner\u001b[0m\u001b[0;34m(\u001b[0m\u001b[0mit\u001b[0m\u001b[0;34m,\u001b[0m \u001b[0mself\u001b[0m\u001b[0;34m.\u001b[0m\u001b[0mtimer\u001b[0m\u001b[0;34m)\u001b[0m\u001b[0;34m\u001b[0m\u001b[0;34m\u001b[0m\u001b[0m\n\u001b[0m\u001b[1;32m    179\u001b[0m         \u001b[0;32mfinally\u001b[0m\u001b[0;34m:\u001b[0m\u001b[0;34m\u001b[0m\u001b[0;34m\u001b[0m\u001b[0m\n\u001b[1;32m    180\u001b[0m             \u001b[0;32mif\u001b[0m \u001b[0mgcold\u001b[0m\u001b[0;34m:\u001b[0m\u001b[0;34m\u001b[0m\u001b[0;34m\u001b[0m\u001b[0m\n",
      "\u001b[0;32m~/anaconda3/lib/python3.6/timeit.py\u001b[0m in \u001b[0;36minner\u001b[0;34m(_it, _timer)\u001b[0m\n",
      "\u001b[0;31mNameError\u001b[0m: name 'vocabrandom' is not defined"
     ]
    }
   ],
   "source": [
    "from timeit import Timer\n",
    "vocab_size = 100000\n",
    "setup_list = \"import random; vocab = range(%d)\" % vocab_size\n",
    "setup_set = \"import random; vocab = set(range(%d))\" % vocab_size\n",
    "statement = \"random.randint(0, %d) in vocab\" % vocab_size * 2\n",
    "\n",
    "print (Timer(statement, setup_list).timeit(1000))\n",
    "\n",
    "print (Timer(statement, setup_set).timeit(1000))"
   ]
  },
  {
   "cell_type": "markdown",
   "metadata": {},
   "source": [
    "### Dynamic Programming"
   ]
  },
  {
   "cell_type": "code",
   "execution_count": 87,
   "metadata": {},
   "outputs": [
    {
     "name": "stdout",
     "output_type": "stream",
     "text": [
      "['SSSS', 'SSL', 'SLS', 'LSS', 'LL']\n",
      "['SSSS', 'SSL', 'SLS', 'LSS', 'LL']\n",
      "['SSSS', 'SSL', 'SLS', 'LSS', 'LL']\n",
      "['SSSS', 'SSL', 'SLS', 'LSS', 'LL']\n"
     ]
    }
   ],
   "source": [
    "# Four ways to compute Sanskrit meter: (i) iterative, (ii) bottom-up dynamic\n",
    "# programming, (iii) top-down dynamic programming, and (iv) built-in memoization.\n",
    "\n",
    "def virahanka1(n):\n",
    "    if n == 0:\n",
    "        return [\"\"]\n",
    "    elif n == 1:\n",
    "        return [\"S\"]\n",
    "    else:\n",
    "        s = [\"S\" + prosody for prosody in virahanka1(n-1)]\n",
    "        l = [\"L\" + prosody for prosody in virahanka1(n-2)]\n",
    "        return s + l\n",
    "    \n",
    "def virahanka2(n):\n",
    "    lookup = [[\"\"], [\"S\"]]\n",
    "    for i in range(n-1):\n",
    "        s = [\"S\" + prosody for prosody in lookup[i+1]]\n",
    "        l = [\"L\" + prosody for prosody in lookup[i]]\n",
    "        lookup.append(s + l)\n",
    "    return lookup[n]\n",
    "\n",
    "def virahanka3(n, lookup={0:[\"\"], 1:[\"S\"]}):\n",
    "    if n not in lookup:\n",
    "        s = [\"S\" + prosody for prosody in virahanka3(n-1)]\n",
    "        l = [\"L\" + prosody for prosody in virahanka3(n-2)]\n",
    "        lookup[n] = s + l\n",
    "    return lookup[n]\n",
    "\n",
    "from nltk import memoize\n",
    "@memoize\n",
    "def virahanka4(n):\n",
    "    if n == 0:\n",
    "        return [\"\"]\n",
    "    elif n == 1:\n",
    "        return [\"S\"]\n",
    "    else:\n",
    "        s = [\"S\" + prosody for prosody in virahanka4(n-1)]\n",
    "        l = [\"L\" + prosody for prosody in virahanka4(n-2)]\n",
    "    return s + l\n",
    "\n",
    "print (virahanka1(4))\n",
    "\n",
    "print (virahanka2(4))\n",
    "\n",
    "print (virahanka3(4))\n",
    "\n",
    "print (virahanka4(4))"
   ]
  },
  {
   "cell_type": "markdown",
   "metadata": {},
   "source": [
    "## 4.8 A Sample of Python Libraries"
   ]
  },
  {
   "cell_type": "markdown",
   "metadata": {},
   "source": [
    "### Matplotlib"
   ]
  },
  {
   "cell_type": "code",
   "execution_count": 88,
   "metadata": {},
   "outputs": [
    {
     "ename": "UFuncTypeError",
     "evalue": "ufunc 'add' did not contain a loop with signature matching types (dtype('<U21'), dtype('<U21')) -> dtype('<U21')",
     "output_type": "error",
     "traceback": [
      "\u001b[0;31m---------------------------------------------------------------------------\u001b[0m",
      "\u001b[0;31mUFuncTypeError\u001b[0m                            Traceback (most recent call last)",
      "\u001b[0;32m<ipython-input-88-36157fe1c0e8>\u001b[0m in \u001b[0;36m<module>\u001b[0;34m\u001b[0m\n\u001b[1;32m     34\u001b[0m     \u001b[0mcounts\u001b[0m\u001b[0;34m[\u001b[0m\u001b[0mgenre\u001b[0m\u001b[0;34m]\u001b[0m \u001b[0;34m=\u001b[0m \u001b[0;34m[\u001b[0m\u001b[0mcfdist\u001b[0m\u001b[0;34m[\u001b[0m\u001b[0mgenre\u001b[0m\u001b[0;34m]\u001b[0m\u001b[0;34m[\u001b[0m\u001b[0mword\u001b[0m\u001b[0;34m]\u001b[0m \u001b[0;32mfor\u001b[0m \u001b[0mword\u001b[0m \u001b[0;32min\u001b[0m \u001b[0mmodals\u001b[0m\u001b[0;34m]\u001b[0m\u001b[0;34m\u001b[0m\u001b[0;34m\u001b[0m\u001b[0m\n\u001b[1;32m     35\u001b[0m \u001b[0;34m\u001b[0m\u001b[0m\n\u001b[0;32m---> 36\u001b[0;31m \u001b[0mbar_chart\u001b[0m\u001b[0;34m(\u001b[0m\u001b[0mgenres\u001b[0m\u001b[0;34m,\u001b[0m \u001b[0mmodals\u001b[0m\u001b[0;34m,\u001b[0m \u001b[0mcounts\u001b[0m\u001b[0;34m)\u001b[0m\u001b[0;34m\u001b[0m\u001b[0;34m\u001b[0m\u001b[0m\n\u001b[0m",
      "\u001b[0;32m<ipython-input-88-36157fe1c0e8>\u001b[0m in \u001b[0;36mbar_chart\u001b[0;34m(categories, words, counts)\u001b[0m\n\u001b[1;32m     12\u001b[0m     \u001b[0mbar_groups\u001b[0m \u001b[0;34m=\u001b[0m \u001b[0;34m[\u001b[0m\u001b[0;34m]\u001b[0m\u001b[0;34m\u001b[0m\u001b[0;34m\u001b[0m\u001b[0m\n\u001b[1;32m     13\u001b[0m     \u001b[0;32mfor\u001b[0m \u001b[0mc\u001b[0m \u001b[0;32min\u001b[0m \u001b[0mrange\u001b[0m\u001b[0;34m(\u001b[0m\u001b[0mlen\u001b[0m\u001b[0;34m(\u001b[0m\u001b[0mcategories\u001b[0m\u001b[0;34m)\u001b[0m\u001b[0;34m)\u001b[0m\u001b[0;34m:\u001b[0m\u001b[0;34m\u001b[0m\u001b[0;34m\u001b[0m\u001b[0m\n\u001b[0;32m---> 14\u001b[0;31m         bars = matplotlib.pylab.bar(ind+c*width, counts[categories[c]], width,\n\u001b[0m\u001b[1;32m     15\u001b[0m                         color=colors[c % len(colors)])\n\u001b[1;32m     16\u001b[0m         \u001b[0mbar_groups\u001b[0m\u001b[0;34m.\u001b[0m\u001b[0mappend\u001b[0m\u001b[0;34m(\u001b[0m\u001b[0mbars\u001b[0m\u001b[0;34m)\u001b[0m\u001b[0;34m\u001b[0m\u001b[0;34m\u001b[0m\u001b[0m\n",
      "\u001b[0;31mUFuncTypeError\u001b[0m: ufunc 'add' did not contain a loop with signature matching types (dtype('<U21'), dtype('<U21')) -> dtype('<U21')"
     ]
    }
   ],
   "source": [
    "#Frequency of modals in different sections of the Brown Corpus.\n",
    "import nltk\n",
    "colors = 'rgbcmyk' # red, green, blue, cyan, magenta, yellow, black\n",
    "\n",
    "def bar_chart(categories, words, counts):\n",
    "    \"Plot a bar chart showing counts for each word by category\"\n",
    "    \n",
    "    import matplotlib.pylab\n",
    "\n",
    "    ind = matplotlib.pylab.arange(len(words))\n",
    "    width = str(1 / (len(categories) + 1))\n",
    "    bar_groups = []\n",
    "    for c in range(len(categories)):\n",
    "        bars = matplotlib.pylab.bar(ind+c*width, counts[categories[c]], width,\n",
    "                        color=colors[c % len(colors)])\n",
    "        bar_groups.append(bars)\n",
    "        \n",
    "    matplotlib.pylab.xticks(ind+ width, words)\n",
    "    matplotlib.pylab.legend([b[0] for b in bar_groups], categories, loc='upper left')\n",
    "    matplotlib.pylab.ylabel('Frequency')\n",
    "    matplotlib.pylab.title('Frequency of Six Modal Verbs by Genre')\n",
    "    matplotlib.pylab.show()\n",
    "\n",
    "genres = ['news', 'religion', 'hobbies', 'government', 'adventure']\n",
    "modals = ['can', 'could', 'may', 'might', 'must', 'will']\n",
    "cfdist = nltk.ConditionalFreqDist(\n",
    "            (genre, word)\n",
    "            for genre in genres\n",
    "            for word in nltk.corpus.brown.words(categories=genre)\n",
    "            if word in modals)\n",
    "\n",
    "counts = {}\n",
    "for genre in genres:\n",
    "    counts[genre] = [cfdist[genre][word] for word in modals]\n",
    "\n",
    "bar_chart(genres, modals, counts)"
   ]
  },
  {
   "cell_type": "code",
   "execution_count": null,
   "metadata": {},
   "outputs": [],
   "source": [
    "import matplotlib.pylab\n",
    "matplotlib.use('Agg')\n",
    "matplotlib.pylab.savefig('modals.png')\n",
    "\n",
    "print ('Content-Type: text/html')\n",
    "print ()\n",
    "print ('<html><body>')\n",
    "print ('<img src=\"modals.png\"/>')\n",
    "print ('</body></html>')"
   ]
  },
  {
   "attachments": {
    "modals.png": {
     "image/png": "[encoded data removed]"
    }
   },
   "cell_type": "markdown",
   "metadata": {},
   "source": [
    "![modals.png](attachment:modals.png)\n"
   ]
  },
  {
   "cell_type": "markdown",
   "metadata": {},
   "source": [
    "### NetworkX"
   ]
  },
  {
   "cell_type": "code",
   "execution_count": 89,
   "metadata": {},
   "outputs": [
    {
     "name": "stdout",
     "output_type": "stream",
     "text": [
      "None\n"
     ]
    },
    {
     "data": {
      "image/png": "[encoded data removed]",
      "text/plain": [
       "<Figure size 432x288 with 1 Axes>"
      ]
     },
     "metadata": {},
     "output_type": "display_data"
    }
   ],
   "source": [
    "# Using the NetworkX and Matplotlib libraries.\n",
    "\n",
    "import networkx as nx\n",
    "import matplotlib\n",
    "from nltk.corpus import wordnet as wn\n",
    "from networkx.drawing.nx_agraph import graphviz_layout\n",
    "\n",
    "def traverse(graph, start, node):\n",
    "    graph.depth[node.name] = node.shortest_path_distance(start)\n",
    "    for child in node.hyponyms():\n",
    "        graph.add_edge(node.name, child.name)\n",
    "        traverse(graph, start, child)\n",
    "        \n",
    "def hyponym_graph(start):\n",
    "    G = nx.Graph()\n",
    "    G.depth = {}\n",
    "    traverse(G, start, start)\n",
    "    return G\n",
    "\n",
    "def graph_draw(graph):\n",
    "    nx.draw(graph,\n",
    "            node_size = [16 * graph.degree(n) for n in graph],\n",
    "            node_color = [graph.depth[n] for n in graph],\n",
    "            with_labels = False)\n",
    "matplotlib.pyplot.savefig(\"1.png\")\n",
    "\n",
    "dog = wn.synset('dog.n.01')\n",
    "graph = hyponym_graph(dog)\n",
    "\n",
    "print (graph_draw(graph))"
   ]
  },
  {
   "attachments": {
    "1.png": {
     "image/png": "[encoded data removed]"
    }
   },
   "cell_type": "markdown",
   "metadata": {},
   "source": [
    "![1.png](attachment:1.png)"
   ]
  },
  {
   "cell_type": "markdown",
   "metadata": {},
   "source": [
    "### csv"
   ]
  },
  {
   "cell_type": "code",
   "execution_count": 90,
   "metadata": {},
   "outputs": [
    {
     "ename": "FileNotFoundError",
     "evalue": "[Errno 2] No such file or directory: 'lex.csv'",
     "output_type": "error",
     "traceback": [
      "\u001b[0;31m---------------------------------------------------------------------------\u001b[0m",
      "\u001b[0;31mFileNotFoundError\u001b[0m                         Traceback (most recent call last)",
      "\u001b[0;32m<ipython-input-90-6ec52b647c17>\u001b[0m in \u001b[0;36m<module>\u001b[0;34m\u001b[0m\n\u001b[1;32m      1\u001b[0m \u001b[0;32mimport\u001b[0m \u001b[0mcsv\u001b[0m\u001b[0;34m\u001b[0m\u001b[0;34m\u001b[0m\u001b[0m\n\u001b[0;32m----> 2\u001b[0;31m \u001b[0minput_file\u001b[0m \u001b[0;34m=\u001b[0m \u001b[0mopen\u001b[0m\u001b[0;34m(\u001b[0m\u001b[0;34m\"lex.csv\"\u001b[0m\u001b[0;34m,\u001b[0m \u001b[0;34m\"r\"\u001b[0m\u001b[0;34m)\u001b[0m\u001b[0;34m\u001b[0m\u001b[0;34m\u001b[0m\u001b[0m\n\u001b[0m\u001b[1;32m      3\u001b[0m \u001b[0mread\u001b[0m \u001b[0;34m=\u001b[0m \u001b[0mcsv\u001b[0m\u001b[0;34m.\u001b[0m\u001b[0mreader\u001b[0m\u001b[0;34m(\u001b[0m\u001b[0minput_file\u001b[0m\u001b[0;34m)\u001b[0m\u001b[0;34m\u001b[0m\u001b[0;34m\u001b[0m\u001b[0m\n\u001b[1;32m      4\u001b[0m \u001b[0;34m\u001b[0m\u001b[0m\n\u001b[1;32m      5\u001b[0m \u001b[0;32mfor\u001b[0m \u001b[0mrow\u001b[0m \u001b[0;32min\u001b[0m \u001b[0mread\u001b[0m\u001b[0;34m:\u001b[0m\u001b[0;34m\u001b[0m\u001b[0;34m\u001b[0m\u001b[0m\n",
      "\u001b[0;31mFileNotFoundError\u001b[0m: [Errno 2] No such file or directory: 'lex.csv'"
     ]
    }
   ],
   "source": [
    "import csv\n",
    "input_file = open(\"lex.csv\", \"r\")\n",
    "read = csv.reader(input_file)\n",
    "\n",
    "for row in read:\n",
    "    print (row)"
   ]
  },
  {
   "cell_type": "markdown",
   "metadata": {},
   "source": [
    "### NumPy"
   ]
  },
  {
   "cell_type": "code",
   "execution_count": 91,
   "metadata": {},
   "outputs": [
    {
     "name": "stdout",
     "output_type": "stream",
     "text": [
      "4\n",
      "[[6 7 8]\n",
      " [6 7 8]\n",
      " [6 7 8]]\n",
      "[[7 7 7]\n",
      " [8 8 8]]\n"
     ]
    }
   ],
   "source": [
    "from numpy import array\n",
    "cube = array([ [[0,0,0], [1,1,1], [2,2,2]],\n",
    "                [[3,3,3], [4,4,4], [5,5,5]],\n",
    "                [[6,6,6], [7,7,7], [8,8,8]] ])\n",
    "print (cube[1,1,1])\n",
    "\n",
    "print (cube[2].transpose())\n",
    "\n",
    "print (cube[2,1:])"
   ]
  },
  {
   "cell_type": "code",
   "execution_count": 92,
   "metadata": {},
   "outputs": [
    {
     "name": "stdout",
     "output_type": "stream",
     "text": [
      "[[-0.4472136  -0.89442719]\n",
      " [-0.89442719  0.4472136 ]]\n",
      "[6.32455532 3.16227766]\n",
      "[[-0.70710678  0.70710678]\n",
      " [-0.70710678 -0.70710678]]\n"
     ]
    }
   ],
   "source": [
    "from numpy import linalg\n",
    "a=array([[4,0], [3,-5]])\n",
    "u,s,vt = linalg.svd(a)\n",
    "\n",
    "print (u)\n",
    "\n",
    "print (s)\n",
    "\n",
    "print (vt)"
   ]
  },
  {
   "cell_type": "code",
   "execution_count": null,
   "metadata": {},
   "outputs": [],
   "source": []
  },
  {
   "cell_type": "code",
   "execution_count": null,
   "metadata": {},
   "outputs": [],
   "source": []
  }
 ],
 "metadata": {
  "kernelspec": {
   "display_name": "Python 3",
   "language": "python",
   "name": "python3"
  },
  "language_info": {
   "codemirror_mode": {
    "name": "ipython",
    "version": 3
   },
   "file_extension": ".py",
   "mimetype": "text/x-python",
   "name": "python",
   "nbconvert_exporter": "python",
   "pygments_lexer": "ipython3",
   "version": "3.6.8"
  }
 },
 "nbformat": 4,
 "nbformat_minor": 4
}
